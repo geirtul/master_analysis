{
 "cells": [
  {
   "cell_type": "markdown",
   "metadata": {},
   "source": [
    "# Data exploration of simulated events\n",
    "## Data import"
   ]
  },
  {
   "cell_type": "code",
   "execution_count": 6,
   "metadata": {},
   "outputs": [
    {
     "name": "stdout",
     "output_type": "stream",
     "text": [
      "The autoreload extension is already loaded. To reload it, use:\n",
      "  %reload_ext autoreload\n"
     ]
    }
   ],
   "source": [
    "# Imports\n",
    "from master_scripts.data_functions import *\n",
    "from master_scripts.analysis_functions import *\n",
    "from pprint import pprint\n",
    "import numpy as np\n",
    "import matplotlib.pyplot as plt\n",
    "import seaborn as sns\n",
    "from scipy import stats\n",
    "%load_ext autoreload\n",
    "%autoreload 2\n"
   ]
  },
  {
   "cell_type": "code",
   "execution_count": 3,
   "metadata": {},
   "outputs": [],
   "source": [
    "# CeBr2Mil_Mix.txt -> 2 million mixed samples of simulated events\n",
    "REPO_ROOT = get_git_root()\n",
    "DATA_PATH = REPO_ROOT + \"data/sample/\"\n",
    "\n",
    "# ================== Import Data ==================\n",
    "#images = np.load(DATA_PATH + \"images_full.npy\")\n",
    "#positions = np.load(DATA_PATH + \"positions_full.npy\")\n",
    "#energies = np.load(DATA_PATH + \"energies_full.npy\")\n",
    "#labels = np.load(DATA_PATH + \"labels_full.npy\")\n",
    "images = np.load(DATA_PATH + \"images_sample.npy\")\n",
    "positions = np.load(DATA_PATH + \"positions_sample.npy\")\n",
    "energies = np.load(DATA_PATH + \"energies_sample.npy\")\n",
    "labels = np.load(DATA_PATH + \"labels_sample.npy\")"
   ]
  },
  {
   "cell_type": "code",
   "execution_count": 58,
   "metadata": {},
   "outputs": [
    {
     "name": "stdout",
     "output_type": "stream",
     "text": [
      "(5002,) (500,) (5,)\n"
     ]
    }
   ],
   "source": []
  },
  {
   "cell_type": "code",
   "execution_count": 3,
   "metadata": {},
   "outputs": [
    {
     "name": "stdout",
     "output_type": "stream",
     "text": [
      "Number of classes: 2\n",
      "Number of events: 10000\n",
      "Images shape: (10000, 16, 16, 1)\n",
      "Energies shape: (10000, 2)\n",
      "Positions shape: (10000, 4)\n",
      "Labels shape: (10000, 1)\n"
     ]
    }
   ],
   "source": [
    "# Number of events and shape of array check\n",
    "n_classes = len(np.unique(labels))\n",
    "\n",
    "print(\"Number of classes: {}\".format(n_classes))\n",
    "print(\"Number of events: {}\".format(images.shape[0]))\n",
    "print(\"Images shape: {}\".format(images.shape))\n",
    "print(\"Energies shape: {}\".format(energies.shape))\n",
    "print(\"Positions shape: {}\".format(positions.shape))\n",
    "print(\"Labels shape: {}\".format(labels.shape))"
   ]
  },
  {
   "cell_type": "code",
   "execution_count": 4,
   "metadata": {},
   "outputs": [],
   "source": [
    "# Get sets of indices for separate event types\n",
    "single, double, close = event_indices(positions)\n",
    "\n",
    "# Get relative energies and separation distances\n",
    "sep_dist = separation_distance(positions)\n",
    "rel_e = relative_energy(energies)"
   ]
  },
  {
   "cell_type": "markdown",
   "metadata": {},
   "source": [
    "# Basic statistical properties\n",
    "Means, standard deviations etc."
   ]
  },
  {
   "cell_type": "markdown",
   "metadata": {},
   "source": [
    "## Images\n",
    "num_observations, (min, max), mean, variance, skewness, kurtosis"
   ]
  },
  {
   "cell_type": "code",
   "execution_count": 58,
   "metadata": {},
   "outputs": [],
   "source": [
    "stats_images = stats.describe(images)\n",
    "stats_images_single = stats.describe(images[single])\n",
    "stats_images_double = stats.describe(images[double])"
   ]
  },
  {
   "cell_type": "code",
   "execution_count": 128,
   "metadata": {},
   "outputs": [
    {
     "name": "stdout",
     "output_type": "stream",
     "text": [
      "Image set      |   pixel min   |   pixel max   |  pixel mean   |pixel STD (mean)\n",
      "All images     |     0.00      |    9951.00    |    157.71     |    429.60     \n",
      "Singles        |     0.00      |    8033.00    |    105.90     |    350.03     \n",
      "Doubles        |     0.00      |    9951.00    |    209.57     |    490.51     \n"
     ]
    }
   ],
   "source": [
    "# Print maximum and minimum pixel values seen in image data\n",
    "print(\"{:15s}|{:^15s}|{:^15s}|{:^15s}|{:^15s}\".format(\n",
    "    \"Image set\",\n",
    "    \"pixel min\",\n",
    "    \"pixel max\",\n",
    "    \"pixel mean\",\n",
    "    \"pixel STD (mean)\"))\n",
    "print(\"{:15s}|{:^15.2f}|{:^15.2f}|{:^15.2f}|{:^15.2f}\".format(\n",
    "    \"All images\", \n",
    "    np.amin(stats_images.minmax[0]),\n",
    "    np.amax(stats_images.minmax[1]),\n",
    "    np.mean(stats_images.mean),\n",
    "    np.mean(np.sqrt(stats_images.variance))))\n",
    "print(\"{:15s}|{:^15.2f}|{:^15.2f}|{:^15.2f}|{:^15.2f}\".format(\n",
    "    \"Singles\", \n",
    "    np.amin(stats_images_single.minmax[0]),\n",
    "    np.amax(stats_images_single.minmax[1]),\n",
    "    np.mean(stats_images_single.mean),\n",
    "    np.mean(np.sqrt(stats_images_single.variance))))\n",
    "print(\"{:15s}|{:^15.2f}|{:^15.2f}|{:^15.2f}|{:^15.2f}\".format(\n",
    "    \"Doubles\", \n",
    "    np.amin(stats_images_double.minmax[0]),\n",
    "    np.amax(stats_images_double.minmax[1]),\n",
    "    np.mean(stats_images_double.mean),\n",
    "    np.mean(np.sqrt(stats_images_double.variance))))"
   ]
  },
  {
   "cell_type": "code",
   "execution_count": 53,
   "metadata": {},
   "outputs": [
    {
     "data": {
      "image/png": "[encoded data removed]",
      "text/plain": [
       "<Figure size 432x360 with 2 Axes>"
      ]
     },
     "metadata": {
      "needs_background": "light"
     },
     "output_type": "display_data"
    }
   ],
   "source": [
    "# Plot the mean image\n",
    "fig, ax = plt.subplots(figsize=(6,5))\n",
    "sns.heatmap(stats_images[2].reshape((16,16)), ax=ax, square=True)\n",
    "ax.set_title(\"Mean image\")\n",
    "ax.invert_yaxis()"
   ]
  },
  {
   "cell_type": "markdown",
   "metadata": {},
   "source": [
    "## Positions\n",
    "nobs, minmax, mean, variance, skewness, kurtosis"
   ]
  },
  {
   "cell_type": "code",
   "execution_count": 111,
   "metadata": {},
   "outputs": [],
   "source": [
    "stats_positions = stats.describe(positions)\n",
    "stats_positions_single = stats.describe(positions[single])\n",
    "stats_positions_double = stats.describe(positions[double])"
   ]
  },
  {
   "cell_type": "code",
   "execution_count": 132,
   "metadata": {},
   "outputs": [
    {
     "name": "stdout",
     "output_type": "stream",
     "text": [
      "---------- All positions\n",
      "{'kurtosis': array([-1.1802267 , -1.20099322, -1.98789951, -1.98785827]),\n",
      " 'mean': array([  7.9895305 ,   7.98056199, -46.00612341, -46.04153643]),\n",
      " 'minmax': (array([   0.669378,    0.667048, -100.      , -100.      ]),\n",
      "            array([15.3322, 15.3287, 15.3307, 15.3314])),\n",
      " 'nobs': 10000,\n",
      " 'skewness': array([0.00956452, 0.01232348, 0.00986787, 0.00988899]),\n",
      " 'variance': array([  17.78535448,   18.07963143, 2926.82788938, 2923.00579721])}\n",
      "STD in coords: [ 4.2172686   4.25201498 54.10016534 54.06482958]\n",
      "\n",
      "---------- Singles:\n",
      "{'kurtosis': array([-1.16872583, -1.19228361, -3.        , -3.        ]),\n",
      " 'mean': array([   8.00267327,    7.98508928, -100.        , -100.        ]),\n",
      " 'minmax': (array([   0.673776,    0.667048, -100.      , -100.      ]),\n",
      "            array([  15.3322,   15.3287, -100.    , -100.    ])),\n",
      " 'nobs': 5002,\n",
      " 'skewness': array([0.01536561, 0.00515536, 0.        , 0.        ]),\n",
      " 'variance': array([17.64319933, 17.80804779,  0.        ,  0.        ])}\n",
      "STD in coords: [4.20038086 4.21995827 0.         0.        ]\n",
      "\n",
      "----------- Doubles:\n",
      "{'kurtosis': array([-1.19178594, -1.20994171, -1.18054681, -1.18119413]),\n",
      " 'mean': array([7.9763772 , 7.97603107, 8.03096556, 7.96011118]),\n",
      " 'minmax': (array([0.669378, 0.667362, 0.666759, 0.668009]),\n",
      "            array([15.3313, 15.3271, 15.3307, 15.3314])),\n",
      " 'nobs': 4998,\n",
      " 'skewness': array([ 0.00404723,  0.0192716 , -0.01758056,  0.00321055]),\n",
      " 'variance': array([17.93083668, 18.35500951, 17.73722931, 17.74577001])}\n",
      "STD in coords: [4.23448187 4.28427468 4.21155901 4.21257285]\n"
     ]
    }
   ],
   "source": [
    "print(\"---------- All positions\")\n",
    "pprint(dict(stats_positions._asdict()))\n",
    "print(\"STD in coords:\", np.sqrt(stats_positions.variance))\n",
    "print(\"\\n---------- Singles:\")\n",
    "pprint(dict(stats_positions_single._asdict()))\n",
    "print(\"STD in coords:\", np.sqrt(stats_positions_single.variance))\n",
    "print(\"\\n----------- Doubles:\")\n",
    "pprint(dict(stats_positions_double._asdict()))\n",
    "print(\"STD in coords:\", np.sqrt(stats_positions_double.variance))"
   ]
  },
  {
   "cell_type": "markdown",
   "metadata": {},
   "source": [
    "## Energies"
   ]
  },
  {
   "cell_type": "code",
   "execution_count": 88,
   "metadata": {},
   "outputs": [],
   "source": [
    "stats_energies = stats.describe(energies)\n",
    "stats_energies_single = stats.describe(energies[single])\n",
    "stats_energies_double = stats.describe(energies[double])"
   ]
  },
  {
   "cell_type": "code",
   "execution_count": 133,
   "metadata": {},
   "outputs": [
    {
     "name": "stdout",
     "output_type": "stream",
     "text": [
      "---------- All energies\n",
      "{'kurtosis': array([-1.19460655, -0.59837564]),\n",
      " 'mean': array([0.50378424, 0.24757837]),\n",
      " 'minmax': (array([9.67989e-05, 0.00000e+00]), array([0.999913, 0.999863])),\n",
      " 'nobs': 10000,\n",
      " 'skewness': array([-0.03139285,  0.94121651]),\n",
      " 'variance': array([0.08354483, 0.10285198])}\n",
      "STD in energies: [0.28904123 0.32070545]\n",
      "\n",
      "---------- Singles:\n",
      "{'kurtosis': array([-1.2233669, -3.       ]),\n",
      " 'mean': array([0.50519574, 0.        ]),\n",
      " 'minmax': (array([0.00011332, 0.        ]), array([0.999913, 0.      ])),\n",
      " 'nobs': 5002,\n",
      " 'skewness': array([-0.02354336,  0.        ]),\n",
      " 'variance': array([0.08565921, 0.        ])}\n",
      "STD in energies: [0.29267595 0.        ]\n",
      "\n",
      "----------- Doubles:\n",
      "{'kurtosis': array([-1.16560834, -1.20922615]),\n",
      " 'mean': array([0.50237162, 0.49535489]),\n",
      " 'minmax': (array([9.67989e-05, 1.89248e-04]), array([0.999753, 0.999863])),\n",
      " 'nobs': 4998,\n",
      " 'skewness': array([-0.0406226 ,  0.01530509]),\n",
      " 'variance': array([0.08144149, 0.08304501])}\n",
      "STD in energies: [0.28537956 0.28817531]\n"
     ]
    }
   ],
   "source": [
    "print(\"---------- All energies\")\n",
    "pprint(dict(stats_energies._asdict()))\n",
    "print(\"STD in energies:\", np.sqrt(stats_energies.variance))\n",
    "print(\"\\n---------- Singles:\")\n",
    "pprint(dict(stats_energies_single._asdict()))\n",
    "print(\"STD in energies:\", np.sqrt(stats_energies_single.variance))\n",
    "print(\"\\n----------- Doubles:\")\n",
    "pprint(dict(stats_energies_double._asdict()))\n",
    "print(\"STD in energies:\", np.sqrt(stats_energies_double.variance))"
   ]
  },
  {
   "cell_type": "markdown",
   "metadata": {},
   "source": [
    "# Correlation analysis\n",
    "Look for correlations between energies and positions"
   ]
  },
  {
   "cell_type": "code",
   "execution_count": 6,
   "metadata": {
    "scrolled": true
   },
   "outputs": [
    {
     "data": {
      "text/plain": [
       "[Text(0, 0.5, 'X1'),\n",
       " Text(0, 1.5, 'Y1'),\n",
       " Text(0, 2.5, 'X2'),\n",
       " Text(0, 3.5, 'Y2'),\n",
       " Text(0, 4.5, 'E1'),\n",
       " Text(0, 5.5, 'E2'),\n",
       " Text(0, 6.5, 'sep_dist'),\n",
       " Text(0, 7.5, 'rel_E')]"
      ]
     },
     "execution_count": 6,
     "metadata": {},
     "output_type": "execute_result"
    },
    {
     "data": {
      "image/png": "[encoded data removed]",
      "text/plain": [
       "<Figure size 432x432 with 2 Axes>"
      ]
     },
     "metadata": {
      "needs_background": "light"
     },
     "output_type": "display_data"
    }
   ],
   "source": [
    "# Concatenate the quantities of interest and draw a reasonable sample size\n",
    "# from the data to perform calculation on. When the data is huge, this is\n",
    "# a necessity because np.corrcoef doesn't scale well.\n",
    "correlation_data = np.concatenate((positions, energies, sep_dist, rel_e), axis=1)\n",
    "indices = np.random.choice(double, 4000, replace=False)\n",
    "\n",
    "# Calculate correlation matrix\n",
    "corr_matrix = np.corrcoef(correlation_data[double], rowvar=False)\n",
    "\n",
    "# Plot the correlation matrix\n",
    "fig, ax = plt.subplots(figsize=(6,6))\n",
    "ticks = [\"X1\", \"Y1\", \"X2\", \"Y2\", \"E1\", \"E2\", \"sep_dist\", \"rel_E\"]\n",
    "sns.heatmap(\n",
    "    corr_matrix,\n",
    "    annot=True,\n",
    "    fmt='.3f',\n",
    "    linewidth=0.2,\n",
    "    square=True,\n",
    "    ax=ax,\n",
    ")\n",
    "ax.set_title(\"Correlation matrix for targets\")\n",
    "ax.set_xticklabels(ticks, rotation=45)\n",
    "ax.set_yticklabels(ticks, rotation=0)\n",
    "\n"
   ]
  },
  {
   "cell_type": "code",
   "execution_count": 7,
   "metadata": {},
   "outputs": [
    {
     "ename": "IndexError",
     "evalue": "index 99997 is out of bounds for axis 0 with size 10000",
     "output_type": "error",
     "traceback": [
      "\u001b[0;31m---------------------------------------------------------------------------\u001b[0m",
      "\u001b[0;31mIndexError\u001b[0m                                Traceback (most recent call last)",
      "\u001b[0;32m<ipython-input-7-215fcadc4622>\u001b[0m in \u001b[0;36m<module>\u001b[0;34m\u001b[0m\n\u001b[1;32m      8\u001b[0m     \u001b[0;32mfor\u001b[0m \u001b[0mj\u001b[0m \u001b[0;32min\u001b[0m \u001b[0mrange\u001b[0m\u001b[0;34m(\u001b[0m\u001b[0;36m3\u001b[0m\u001b[0;34m)\u001b[0m\u001b[0;34m:\u001b[0m\u001b[0;34m\u001b[0m\u001b[0;34m\u001b[0m\u001b[0m\n\u001b[1;32m      9\u001b[0m         \u001b[0;31m# plot image\u001b[0m\u001b[0;34m\u001b[0m\u001b[0;34m\u001b[0m\u001b[0;34m\u001b[0m\u001b[0m\n\u001b[0;32m---> 10\u001b[0;31m         \u001b[0max\u001b[0m\u001b[0;34m[\u001b[0m\u001b[0mi\u001b[0m\u001b[0;34m,\u001b[0m \u001b[0mj\u001b[0m\u001b[0;34m]\u001b[0m\u001b[0;34m.\u001b[0m\u001b[0mimshow\u001b[0m\u001b[0;34m(\u001b[0m\u001b[0mimages\u001b[0m\u001b[0;34m[\u001b[0m\u001b[0mindex\u001b[0m \u001b[0;34m+\u001b[0m \u001b[0mi\u001b[0m\u001b[0;34m*\u001b[0m\u001b[0;36m3\u001b[0m \u001b[0;34m+\u001b[0m \u001b[0mj\u001b[0m\u001b[0;34m]\u001b[0m\u001b[0;34m)\u001b[0m\u001b[0;34m\u001b[0m\u001b[0;34m\u001b[0m\u001b[0m\n\u001b[0m\u001b[1;32m     11\u001b[0m \u001b[0;34m\u001b[0m\u001b[0m\n\u001b[1;32m     12\u001b[0m         \u001b[0;31m# plot origin of event\u001b[0m\u001b[0;34m\u001b[0m\u001b[0;34m\u001b[0m\u001b[0;34m\u001b[0m\u001b[0m\n",
      "\u001b[0;31mIndexError\u001b[0m: index 99997 is out of bounds for axis 0 with size 10000"
     ]
    },
    {
     "data": {
      "image/png": "[encoded data removed]",
      "text/plain": [
       "<Figure size 864x864 with 9 Axes>"
      ]
     },
     "metadata": {
      "needs_background": "light"
     },
     "output_type": "display_data"
    }
   ],
   "source": [
    "# Plot some images, with electron origin positions\n",
    "%matplotlib inline\n",
    "\n",
    "images = images.reshape(images.shape[0],16,16)\n",
    "index = 9999\n",
    "fig, ax = plt.subplots(3, 3, sharex='col', sharey='row', figsize=(12,12))\n",
    "for i in range(3):\n",
    "    for j in range(3):\n",
    "        # plot image\n",
    "        ax[i, j].imshow(images[index + i*3 + j])\n",
    "        \n",
    "        # plot origin of event\n",
    "        x = positions[index + i*3 + j, 0]\n",
    "        y = positions[index + i*3 + j, 1]\n",
    "        ax[i, j].plot(x, y, 'rx')\n",
    "        ax[i, j].set_title('single')\n",
    "        if positions[index + i*3 + j, 3] != -100:\n",
    "            x2 = positions[index + i*3 + j, 2]\n",
    "            y2 = positions[index + i*3 + j, 3]\n",
    "            ax[i, j].plot(x2, y2, 'rx')\n",
    "            ax[i, j].set_title('double')\n",
    "        \n",
    "plt.show()"
   ]
  },
  {
   "cell_type": "code",
   "execution_count": null,
   "metadata": {},
   "outputs": [],
   "source": [
    "# Plot pixel by pixel intensity\n",
    "fig, ax = plt.subplots(3, 3, sharex='col', figsize=(12,12))\n",
    "for i in range(3):\n",
    "    for j in range(3):\n",
    "        # plot image\n",
    "        ax[i, j].plot(range(256), images[index + i*3 + j].flatten())\n",
    "        ax[i, j].set_title('single')\n",
    "        if positions[index + i*3 + j, 3] != -100:\n",
    "            ax[i, j].set_title('double')\n",
    "plt.show()"
   ]
  }
 ],
 "metadata": {
  "hide_input": false,
  "kernelspec": {
   "display_name": "Python 3",
   "language": "python",
   "name": "python3"
  },
  "language_info": {
   "codemirror_mode": {
    "name": "ipython",
    "version": 3
   },
   "file_extension": ".py",
   "mimetype": "text/x-python",
   "name": "python",
   "nbconvert_exporter": "python",
   "pygments_lexer": "ipython3",
   "version": "3.8.2"
  },
  "latex_envs": {
   "LaTeX_envs_menu_present": true,
   "autoclose": false,
   "autocomplete": true,
   "bibliofile": "biblio.bib",
   "cite_by": "apalike",
   "current_citInitial": 1,
   "eqLabelWithNumbers": true,
   "eqNumInitial": 1,
   "hotkeys": {
    "equation": "Ctrl-E",
    "itemize": "Ctrl-I"
   },
   "labels_anchors": false,
   "latex_user_defs": false,
   "report_style_numbering": false,
   "user_envs_cfg": false
  },
  "toc": {
   "base_numbering": 1,
   "nav_menu": {},
   "number_sections": true,
   "sideBar": true,
   "skip_h1_title": false,
   "title_cell": "Table of Contents",
   "title_sidebar": "Contents",
   "toc_cell": false,
   "toc_position": {},
   "toc_section_display": true,
   "toc_window_display": true
  }
 },
 "nbformat": 4,
 "nbformat_minor": 4
}
