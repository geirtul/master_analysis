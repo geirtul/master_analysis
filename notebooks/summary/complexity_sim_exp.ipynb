{
 "cells": [
  {
   "cell_type": "code",
   "execution_count": 1,
   "metadata": {},
   "outputs": [],
   "source": [
    "# Module and data import\n",
    "import numpy as np\n",
    "import pandas as pd\n",
    "import json\n",
    "import seaborn as sns\n",
    "import matplotlib.pyplot as plt\n",
    "import tensorflow as tf\n",
    "from sklearn.model_selection import train_test_split\n",
    "from master_scripts.classes import DSNT\n",
    "from master_scripts.data_functions import (load_experiment, get_git_root, separation_distance, energy_difference,\n",
    "                                           relative_energy, event_indices, normalize_image_data, import_real_data)\n",
    "from master_scripts.analysis_functions import (doubles_classification_stats, singles_classification_stats)\n",
    "from master_scripts.plotting import plot_roc_curve\n",
    "from sklearn.metrics import f1_score, roc_curve\n",
    "%load_ext autoreload\n",
    "%autoreload 2\n",
    "repo_root = get_git_root()\n",
    "FIG_PATH = repo_root + \"figures/\""
   ]
  },
  {
   "cell_type": "code",
   "execution_count": 2,
   "metadata": {},
   "outputs": [],
   "source": [
    "DATA_PATH = repo_root + \"data/real/\"\n",
    "DATA_FILENAME = \"anodedata_500k.txt\"\n",
    "MODEL_PATH = \"../../models/\"\n",
    "RESULTS_PATH =  \"../../results/\"\n",
    "classifiers = {\n",
    "    'logistic': \"17e010a5e6a4\",\n",
    "    'dense_10' : \"e217c356f987\",\n",
    "    'dense_100_5' : \"68f272ec5935\",\n",
    "    'cnn_shallow' : \"ba147c2c6841\",\n",
    "    'cnn_deep' : \"556d470b165e\",\n",
    "}"
   ]
  },
  {
   "cell_type": "code",
   "execution_count": 3,
   "metadata": {},
   "outputs": [],
   "source": [
    "# Load initial events and images\n",
    "events, images = import_real_data(DATA_PATH + DATA_FILENAME) # images not normalized\n",
    "#images = normalize_image_data(images)\n"
   ]
  },
  {
   "cell_type": "code",
   "execution_count": 4,
   "metadata": {},
   "outputs": [],
   "source": [
    "# load classification results (doesn't contain images)\n",
    "results = {}\n",
    "\n",
    "for k in classifiers.keys():\n",
    "    with open(RESULTS_PATH + \"events_classified_\" + DATA_FILENAME[:-4] \n",
    "              + \"_C_\" + k\n",
    "              + \".json\") as fp:\n",
    "        results[k] = json.load(fp)"
   ]
  },
  {
   "cell_type": "code",
   "execution_count": 5,
   "metadata": {},
   "outputs": [],
   "source": [
    "# Load experiments\n",
    "experiments = {}\n",
    "for k in classifiers.keys():\n",
    "    experiments[k] = load_experiment(classifiers[k])"
   ]
  },
  {
   "cell_type": "code",
   "execution_count": 9,
   "metadata": {},
   "outputs": [
    {
     "name": "stdout",
     "output_type": "stream",
     "text": [
      "logistic    : fraction (singles, doubles) = (0.79, 0.21)\n",
      "dense_10    : fraction (singles, doubles) = (0.80, 0.20)\n",
      "dense_100_5 : fraction (singles, doubles) = (0.27, 0.73)\n",
      "cnn_shallow : fraction (singles, doubles) = (0.31, 0.69)\n",
      "cnn_deep    : fraction (singles, doubles) = (0.12, 0.88)\n"
     ]
    }
   ],
   "source": [
    "for k, events in results.items():\n",
    "    decays = [key for key in events.keys() if events[key]['event_descriptor'] == 2]\n",
    "    singles = []\n",
    "    doubles = []\n",
    "    for key in decays:\n",
    "        if events[key]['event_class'] == 'single': singles.append(key)\n",
    "        if events[key]['event_class'] == 'double': doubles.append(key)\n",
    "            \n",
    "    print(\"{:12s}: fraction (singles, doubles) = ({:.2f}, {:.2f})\".format(\n",
    "        k,\n",
    "        len(singles)/(len(singles) + len(doubles)),\n",
    "        len(doubles)/(len(singles) + len(doubles)),\n",
    "        )\n",
    "    )"
   ]
  }
 ],
 "metadata": {
  "kernelspec": {
   "display_name": "Python 3",
   "language": "python",
   "name": "python3"
  },
  "language_info": {
   "codemirror_mode": {
    "name": "ipython",
    "version": 3
   },
   "file_extension": ".py",
   "mimetype": "text/x-python",
   "name": "python",
   "nbconvert_exporter": "python",
   "pygments_lexer": "ipython3",
   "version": "3.8.5"
  }
 },
 "nbformat": 4,
 "nbformat_minor": 4
}
