{
 "cells": [
  {
   "cell_type": "markdown",
   "metadata": {},
   "source": [
    "**Results - Regression of simulated events**\n",
    "\n",
    "This notebook is the primary source of plots and tables for the regression part of the thesis, \n",
    "with the goal of keeping every table and figure as standardized as possible. (And who has the time to update\n",
    "90 tables one by one anyway).\n",
    "\n",
    "**Questions:**\n",
    "* Descriptive statistics\n",
    "    - Should descriptive statistics of the simulated data be included?\\\n",
    "    If so, how much? And should it be included for each fold in the k-fold cross-validation?\n",
    "* Classification results\n",
    "    - Breakdown of results based on event type? Single, double, close double?\n",
    "    Reasonable to include in order to confirm the assumption that close doubles are the\n",
    "    most difficult event type to classify correctly in simulated data\n",
    "    Random state is included, so should be simple to reproduce the indices\n",
    "\n",
    "\n",
    "**TODO**\n",
    "* Implement reproducing the validation indices for each fold based on the random seed from config\n",
    "\n",
    "**Handy links**\n",
    "* [matplotlib-plots to latex](https://timodenk.com/blog/exporting-matplotlib-plots-to-latex/)\n",
    "* [Robert's thesis df output](https://github.com/ATTPC/VAE-event-classification/blob/master/src/make_classification_table.py)"
   ]
  },
  {
   "cell_type": "code",
   "execution_count": 36,
   "metadata": {},
   "outputs": [
    {
     "name": "stdout",
     "output_type": "stream",
     "text": [
      "The autoreload extension is already loaded. To reload it, use:\n",
      "  %reload_ext autoreload\n"
     ]
    }
   ],
   "source": [
    "%matplotlib inline\n",
    "%load_ext autoreload\n",
    "%autoreload 2\n",
    "from master_scripts.data_functions import get_git_root\n",
    "from master_scripts.analysis_functions import load_experiment, experiment_metrics_to_df\n",
    "import json\n",
    "import pandas as pd\n",
    "import matplotlib.pyplot as plt\n",
    "import seaborn as sns\n",
    "import numpy as np\n",
    "\n",
    "THESIS_PATH = \"../../../master_thesis/\""
   ]
  },
  {
   "cell_type": "markdown",
   "metadata": {},
   "source": [
    "# Pre-processed simulated data - no additional modifications\n",
    "This is the basic metrics for all the models trained on simulated data.\n",
    "The basic pre-processing includes formatting and min-max normalization."
   ]
  },
  {
   "cell_type": "markdown",
   "metadata": {},
   "source": [
    "## Single events"
   ]
  },
  {
   "cell_type": "markdown",
   "metadata": {},
   "source": [
    "### Positions"
   ]
  },
  {
   "cell_type": "markdown",
   "metadata": {},
   "source": [
    "#### Linear Regression"
   ]
  },
  {
   "cell_type": "code",
   "execution_count": 37,
   "metadata": {},
   "outputs": [
    {
     "name": "stdout",
     "output_type": "stream",
     "text": [
      "dict_keys(['loss', 'optimizer', 'experiment_config', 'model_type', 'experiment_name', 'experiment_id', 'datetime', 'history', 'metrics'])\n"
     ]
    }
   ],
   "source": [
    "# Load linear regression experiment\n",
    "lin_ex_id = \"225ca879103d\"\n",
    "lin_ex = load_experiment(lin_ex_id)\n",
    "print(lin_ex.keys())\n",
    "#lin_model = tf.keras.models.load_model(repo_root + \"models/\" + lin_ex_id + \".h5\")\n",
    "\n",
    "lin_metrics = experiment_metrics_to_df(lin_ex)\n",
    "#display(lin_metrics)\n",
    "lin_means = lin_metrics.agg([np.mean, np.std])#.applymap('{:.3f}'.format)\n",
    "lin_means = lin_means.rename(index={'mean': 'lin_mean', 'std': 'lin_std'})\n",
    "#display(lin_means)"
   ]
  },
  {
   "cell_type": "markdown",
   "metadata": {},
   "source": [
    "#### Small dense network"
   ]
  },
  {
   "cell_type": "code",
   "execution_count": 38,
   "metadata": {},
   "outputs": [],
   "source": [
    "# Load logistic regression experiment\n",
    "dense_ex_id = \"a3716bc3648a\"\n",
    "dense_ex = load_experiment(dense_ex_id)\n",
    "#log_model = tf.keras.models.load_model(repo_root + \"models/\" + dense_ex_id + \".h5\")\n",
    "\n",
    "dense_metrics = experiment_metrics_to_df(dense_ex)\n",
    "#display(dense_metrics)\n",
    "dense_means = dense_metrics.agg([np.mean, np.std])#.applymap('{:.3f}'.format)\n",
    "dense_means = dense_means.rename(index={'mean': 'dense_mean', 'std': 'dense_std'})\n",
    "#display(dense_means)"
   ]
  },
  {
   "cell_type": "markdown",
   "metadata": {},
   "source": [
    "#### Small CNN"
   ]
  },
  {
   "cell_type": "code",
   "execution_count": 39,
   "metadata": {},
   "outputs": [],
   "source": [
    "# Load logistic regression experiment\n",
    "cnn_ex_id = \"1cac590bf1fe\"\n",
    "cnn_ex = load_experiment(cnn_ex_id)\n",
    "#log_model = tf.keras.models.load_model(repo_root + \"models/\" + cnn_ex_id + \".h5\")\n",
    "\n",
    "cnn_metrics = experiment_metrics_to_df(cnn_ex)\n",
    "#display(cnn_metrics)\n",
    "cnn_means = cnn_metrics.agg([np.mean, np.std])#.applymap('{:.3f}'.format)\n",
    "cnn_means = cnn_means.rename(index={'mean': 'cnn_mean', 'std': 'cnn_std'})\n",
    "#display(cnn_means)"
   ]
  },
  {
   "cell_type": "markdown",
   "metadata": {},
   "source": [
    "#### Pretrained - VGG\n",
    "As an additional baseline for performance, we include a pretrained SOTA network\n",
    "where trained on the ImageNet database.\n",
    "\n",
    "Due to the size of our detector images (16x16) compared with the size the VGG network is\n",
    "designed for, we cannot use all layers in the VGG network. This stems from the use of max-pooling\n",
    "which effectively reduces the image size to half (8x8) each time the input is passed through such a\n",
    "layer. At some point our input is too small to pass through to the rest of the network.\n",
    "We therefore cut the network at the point where this becomes an issue.\n",
    "Alternatively, one could possibly keep the depth but remove max-pooling layers."
   ]
  },
  {
   "cell_type": "code",
   "execution_count": 40,
   "metadata": {},
   "outputs": [],
   "source": [
    "# Load logistic regression experiment\n",
    "pretrained_ex_id = \"d53a2353251f\"\n",
    "pretrained_ex = load_experiment(pretrained_ex_id)\n",
    "#log_model = tf.keras.models.load_model(repo_root + \"models/\" + pretrained_ex_id + \".h5\")\n",
    "\n",
    "pretrained_metrics = experiment_metrics_to_df(pretrained_ex)\n",
    "#display(pretrained_metrics)\n",
    "pretrained_means = pretrained_metrics.agg([np.mean, np.std])#.applymap('{:.3f}'.format)\n",
    "pretrained_means = pretrained_means.rename(index={'mean': 'pretrained_mean', 'std': 'pretrained_std'})\n",
    "#display(pretrained_means)"
   ]
  },
  {
   "cell_type": "markdown",
   "metadata": {},
   "source": [
    "#### Output\n",
    "We use the standard deviation in the folds as an error measure, and report the mean classification f1_score."
   ]
  },
  {
   "cell_type": "code",
   "execution_count": 41,
   "metadata": {},
   "outputs": [
    {
     "data": {
      "text/html": [
       "<div>\n",
       "<style scoped>\n",
       "    .dataframe tbody tr th:only-of-type {\n",
       "        vertical-align: middle;\n",
       "    }\n",
       "\n",
       "    .dataframe tbody tr th {\n",
       "        vertical-align: top;\n",
       "    }\n",
       "\n",
       "    .dataframe thead th {\n",
       "        text-align: right;\n",
       "    }\n",
       "</style>\n",
       "<table border=\"1\" class=\"dataframe\">\n",
       "  <thead>\n",
       "    <tr style=\"text-align: right;\">\n",
       "      <th></th>\n",
       "      <th>r2_score</th>\n",
       "      <th>mse</th>\n",
       "      <th>rmse</th>\n",
       "      <th>mae</th>\n",
       "    </tr>\n",
       "  </thead>\n",
       "  <tbody>\n",
       "    <tr>\n",
       "      <th>Linear</th>\n",
       "      <td>0.801264</td>\n",
       "      <td>0.013916</td>\n",
       "      <td>0.117964</td>\n",
       "      <td>0.090476</td>\n",
       "    </tr>\n",
       "    <tr>\n",
       "      <th>Dense</th>\n",
       "      <td>0.990114</td>\n",
       "      <td>0.000692</td>\n",
       "      <td>0.026293</td>\n",
       "      <td>0.017396</td>\n",
       "    </tr>\n",
       "    <tr>\n",
       "      <th>Convolutional</th>\n",
       "      <td>0.997114</td>\n",
       "      <td>0.000202</td>\n",
       "      <td>0.014205</td>\n",
       "      <td>0.008889</td>\n",
       "    </tr>\n",
       "    <tr>\n",
       "      <th>Pretrained VGG16</th>\n",
       "      <td>0.891115</td>\n",
       "      <td>0.007625</td>\n",
       "      <td>0.087283</td>\n",
       "      <td>0.055983</td>\n",
       "    </tr>\n",
       "  </tbody>\n",
       "</table>\n",
       "</div>"
      ],
      "text/plain": [
       "                  r2_score       mse      rmse       mae\n",
       "Linear            0.801264  0.013916  0.117964  0.090476\n",
       "Dense             0.990114  0.000692  0.026293  0.017396\n",
       "Convolutional     0.997114  0.000202  0.014205  0.008889\n",
       "Pretrained VGG16  0.891115  0.007625  0.087283  0.055983"
      ]
     },
     "metadata": {},
     "output_type": "display_data"
    },
    {
     "data": {
      "text/html": [
       "<div>\n",
       "<style scoped>\n",
       "    .dataframe tbody tr th:only-of-type {\n",
       "        vertical-align: middle;\n",
       "    }\n",
       "\n",
       "    .dataframe tbody tr th {\n",
       "        vertical-align: top;\n",
       "    }\n",
       "\n",
       "    .dataframe thead th {\n",
       "        text-align: right;\n",
       "    }\n",
       "</style>\n",
       "<table border=\"1\" class=\"dataframe\">\n",
       "  <thead>\n",
       "    <tr style=\"text-align: right;\">\n",
       "      <th></th>\n",
       "      <th>r2_score</th>\n",
       "      <th>mse</th>\n",
       "      <th>rmse</th>\n",
       "      <th>mae</th>\n",
       "    </tr>\n",
       "  </thead>\n",
       "  <tbody>\n",
       "    <tr>\n",
       "      <th>Linear</th>\n",
       "      <td>0.003664</td>\n",
       "      <td>0.000246</td>\n",
       "      <td>0.001040</td>\n",
       "      <td>0.001673</td>\n",
       "    </tr>\n",
       "    <tr>\n",
       "      <th>Dense</th>\n",
       "      <td>0.000819</td>\n",
       "      <td>0.000057</td>\n",
       "      <td>0.001069</td>\n",
       "      <td>0.000869</td>\n",
       "    </tr>\n",
       "    <tr>\n",
       "      <th>Convolutional</th>\n",
       "      <td>0.000240</td>\n",
       "      <td>0.000017</td>\n",
       "      <td>0.000580</td>\n",
       "      <td>0.000573</td>\n",
       "    </tr>\n",
       "    <tr>\n",
       "      <th>Pretrained VGG16</th>\n",
       "      <td>0.006864</td>\n",
       "      <td>0.000484</td>\n",
       "      <td>0.002813</td>\n",
       "      <td>0.002656</td>\n",
       "    </tr>\n",
       "  </tbody>\n",
       "</table>\n",
       "</div>"
      ],
      "text/plain": [
       "                  r2_score       mse      rmse       mae\n",
       "Linear            0.003664  0.000246  0.001040  0.001673\n",
       "Dense             0.000819  0.000057  0.001069  0.000869\n",
       "Convolutional     0.000240  0.000017  0.000580  0.000573\n",
       "Pretrained VGG16  0.006864  0.000484  0.002813  0.002656"
      ]
     },
     "metadata": {},
     "output_type": "display_data"
    }
   ],
   "source": [
    "all_means = pd.DataFrame(\n",
    "    [\n",
    "        lin_means.iloc[0][['r2_score', 'mse', 'rmse', 'mae']],\n",
    "        dense_means.iloc[0][['r2_score', 'mse', 'rmse', 'mae']],\n",
    "        cnn_means.iloc[0][['r2_score', 'mse', 'rmse', 'mae']],\n",
    "        pretrained_means.iloc[0][['r2_score', 'mse', 'rmse', 'mae']]\n",
    "    ]\n",
    ").rename(\n",
    "    index={\n",
    "        'lin_mean': 'Linear',\n",
    "        'dense_mean': 'Dense',\n",
    "        'cnn_mean': 'Convolutional',\n",
    "        'pretrained_mean': 'Pretrained VGG16',\n",
    "    }\n",
    ")\n",
    "display(all_means)\n",
    "all_std = pd.DataFrame(\n",
    "    [\n",
    "        lin_means.iloc[1][['r2_score', 'mse', 'rmse', 'mae']],\n",
    "        dense_means.iloc[1][['r2_score', 'mse', 'rmse', 'mae']],\n",
    "        cnn_means.iloc[1][['r2_score', 'mse', 'rmse', 'mae']],\n",
    "        pretrained_means.iloc[1][['r2_score', 'mse', 'rmse', 'mae']],\n",
    "    ]\n",
    ").rename(\n",
    "    index={\n",
    "        'lin_std': 'Linear',\n",
    "        'dense_std': 'Dense',\n",
    "        'cnn_std': 'Convolutional',\n",
    "        'pretrained_std': 'Pretrained VGG16',\n",
    "    }\n",
    ")\n",
    "display(all_std)"
   ]
  },
  {
   "cell_type": "code",
   "execution_count": 42,
   "metadata": {},
   "outputs": [],
   "source": [
    "rows = all_means.index\n",
    "r2_str_array = np.zeros((1, all_means.shape[0]), dtype=object)\n",
    "for i in range(all_means.shape[0]):\n",
    "    r2_str_array[0, i] = r\"$\\underset{{\\num{{+- {:.3e} }}  }}{{\\num{{ {:.3g} }} }}$\".format(\n",
    "        all_std[\"r2_score\"][i], all_means[\"r2_score\"][i])\n",
    "        \n",
    "r2_df = pd.DataFrame(r2_str_array, columns=rows)\n",
    "\n",
    "section_path = \"chapters/results/figures/\"\n",
    "fname = THESIS_PATH + section_path + \"regression_simulated_single_position_r2.tex\"\n",
    "caption = \"\"\"\n",
    "Mean R2-scores for regresson of positions of origin, on single events in simulated data, using multiple models. \n",
    "Error estimates are the standard deviation in results from k-fold cross-validation \n",
    "with $K=5$ folds.\n",
    "\"\"\"\n",
    "label = \"tab:regression-simulated-single-position-r2\"\n",
    "with open(fname, \"w\") as fp:\n",
    "    pd.set_option('display.max_colwidth', -1)\n",
    "    r2_df.to_latex(fp, escape=False, caption=caption, label=label, index=False)\n"
   ]
  },
  {
   "cell_type": "markdown",
   "metadata": {},
   "source": [
    "### Energy"
   ]
  },
  {
   "cell_type": "markdown",
   "metadata": {},
   "source": [
    "#### Linear regression"
   ]
  },
  {
   "cell_type": "code",
   "execution_count": 43,
   "metadata": {},
   "outputs": [],
   "source": [
    "# Load linear regression experiment\n",
    "lin_ex_id = \"87e8f4558d97\"\n",
    "lin_ex = load_experiment(lin_ex_id)\n",
    "#print(lin_ex.keys())\n",
    "#lin_model = tf.keras.models.load_model(repo_root + \"models/\" + lin_ex_id + \".h5\")\n",
    "\n",
    "lin_metrics = experiment_metrics_to_df(lin_ex)\n",
    "#display(lin_metrics)\n",
    "lin_means = lin_metrics.agg([np.mean, np.std])#.applymap('{:.3f}'.format)\n",
    "lin_means = lin_means.rename(index={'mean': 'lin_mean', 'std': 'lin_std'})\n",
    "#display(lin_means)"
   ]
  },
  {
   "cell_type": "markdown",
   "metadata": {},
   "source": [
    "#### Small dense network"
   ]
  },
  {
   "cell_type": "code",
   "execution_count": 44,
   "metadata": {},
   "outputs": [],
   "source": [
    "# Load dense regression experiment\n",
    "dense_ex_id = \"4cab676db128\"\n",
    "dense_ex = load_experiment(dense_ex_id)\n",
    "#log_model = tf.keras.models.load_model(repo_root + \"models/\" + dense_ex_id + \".h5\")\n",
    "\n",
    "dense_metrics = experiment_metrics_to_df(dense_ex)\n",
    "#display(dense_metrics)\n",
    "dense_means = dense_metrics.agg([np.mean, np.std])#.applymap('{:.3f}'.format)\n",
    "dense_means = dense_means.rename(index={'mean': 'dense_mean', 'std': 'dense_std'})\n",
    "#display(dense_means)"
   ]
  },
  {
   "cell_type": "markdown",
   "metadata": {},
   "source": [
    "#### Small CNN"
   ]
  },
  {
   "cell_type": "code",
   "execution_count": 45,
   "metadata": {},
   "outputs": [],
   "source": [
    "# Load cnn regression experiment\n",
    "cnn_ex_id = \"3a91fd0e74b5\"\n",
    "cnn_ex = load_experiment(cnn_ex_id)\n",
    "#log_model = tf.keras.models.load_model(repo_root + \"models/\" + cnn_ex_id + \".h5\")\n",
    "\n",
    "cnn_metrics = experiment_metrics_to_df(cnn_ex)\n",
    "#display(cnn_metrics)\n",
    "cnn_means = cnn_metrics.agg([np.mean, np.std])#.applymap('{:.3f}'.format)\n",
    "cnn_means = cnn_means.rename(index={'mean': 'cnn_mean', 'std': 'cnn_std'})\n",
    "#display(cnn_means)"
   ]
  },
  {
   "cell_type": "markdown",
   "metadata": {},
   "source": [
    "#### Pretrained - VGG16 "
   ]
  },
  {
   "cell_type": "code",
   "execution_count": 46,
   "metadata": {},
   "outputs": [],
   "source": [
    "# Load logistic regression experiment\n",
    "pretrained_ex_id = \"ea8d88850f6e\"\n",
    "pretrained_ex = load_experiment(pretrained_ex_id)\n",
    "#log_model = tf.keras.models.load_model(repo_root + \"models/\" + pretrained_ex_id + \".h5\")\n",
    "\n",
    "pretrained_metrics = experiment_metrics_to_df(pretrained_ex)\n",
    "#display(pretrained_metrics)\n",
    "pretrained_means = pretrained_metrics.agg([np.mean, np.std])#.applymap('{:.3f}'.format)\n",
    "pretrained_means = pretrained_means.rename(index={'mean': 'pretrained_mean', 'std': 'pretrained_std'})\n",
    "#display(pretrained_means)"
   ]
  },
  {
   "cell_type": "markdown",
   "metadata": {},
   "source": [
    "#### Output"
   ]
  },
  {
   "cell_type": "code",
   "execution_count": 47,
   "metadata": {},
   "outputs": [
    {
     "data": {
      "text/html": [
       "<div>\n",
       "<style scoped>\n",
       "    .dataframe tbody tr th:only-of-type {\n",
       "        vertical-align: middle;\n",
       "    }\n",
       "\n",
       "    .dataframe tbody tr th {\n",
       "        vertical-align: top;\n",
       "    }\n",
       "\n",
       "    .dataframe thead th {\n",
       "        text-align: right;\n",
       "    }\n",
       "</style>\n",
       "<table border=\"1\" class=\"dataframe\">\n",
       "  <thead>\n",
       "    <tr style=\"text-align: right;\">\n",
       "      <th></th>\n",
       "      <th>r2_score</th>\n",
       "      <th>mse</th>\n",
       "      <th>rmse</th>\n",
       "      <th>mae</th>\n",
       "    </tr>\n",
       "  </thead>\n",
       "  <tbody>\n",
       "    <tr>\n",
       "      <th>Linear</th>\n",
       "      <td>0.926159</td>\n",
       "      <td>0.006149</td>\n",
       "      <td>0.076462</td>\n",
       "      <td>0.062479</td>\n",
       "    </tr>\n",
       "    <tr>\n",
       "      <th>Dense</th>\n",
       "      <td>0.931254</td>\n",
       "      <td>0.005724</td>\n",
       "      <td>0.073870</td>\n",
       "      <td>0.060016</td>\n",
       "    </tr>\n",
       "    <tr>\n",
       "      <th>Convolutional</th>\n",
       "      <td>0.935684</td>\n",
       "      <td>0.005355</td>\n",
       "      <td>0.071351</td>\n",
       "      <td>0.056982</td>\n",
       "    </tr>\n",
       "    <tr>\n",
       "      <th>Pretrained VGG16</th>\n",
       "      <td>0.934564</td>\n",
       "      <td>0.005449</td>\n",
       "      <td>0.073193</td>\n",
       "      <td>0.057032</td>\n",
       "    </tr>\n",
       "  </tbody>\n",
       "</table>\n",
       "</div>"
      ],
      "text/plain": [
       "                  r2_score       mse      rmse       mae\n",
       "Linear            0.926159  0.006149  0.076462  0.062479\n",
       "Dense             0.931254  0.005724  0.073870  0.060016\n",
       "Convolutional     0.935684  0.005355  0.071351  0.056982\n",
       "Pretrained VGG16  0.934564  0.005449  0.073193  0.057032"
      ]
     },
     "metadata": {},
     "output_type": "display_data"
    },
    {
     "data": {
      "text/html": [
       "<div>\n",
       "<style scoped>\n",
       "    .dataframe tbody tr th:only-of-type {\n",
       "        vertical-align: middle;\n",
       "    }\n",
       "\n",
       "    .dataframe tbody tr th {\n",
       "        vertical-align: top;\n",
       "    }\n",
       "\n",
       "    .dataframe thead th {\n",
       "        text-align: right;\n",
       "    }\n",
       "</style>\n",
       "<table border=\"1\" class=\"dataframe\">\n",
       "  <thead>\n",
       "    <tr style=\"text-align: right;\">\n",
       "      <th></th>\n",
       "      <th>r2_score</th>\n",
       "      <th>mse</th>\n",
       "      <th>rmse</th>\n",
       "      <th>mae</th>\n",
       "    </tr>\n",
       "  </thead>\n",
       "  <tbody>\n",
       "    <tr>\n",
       "      <th>Linear</th>\n",
       "      <td>0.036908</td>\n",
       "      <td>0.003070</td>\n",
       "      <td>0.019433</td>\n",
       "      <td>0.020329</td>\n",
       "    </tr>\n",
       "    <tr>\n",
       "      <th>Dense</th>\n",
       "      <td>0.033643</td>\n",
       "      <td>0.002798</td>\n",
       "      <td>0.018293</td>\n",
       "      <td>0.019395</td>\n",
       "    </tr>\n",
       "    <tr>\n",
       "      <th>Convolutional</th>\n",
       "      <td>0.032822</td>\n",
       "      <td>0.002731</td>\n",
       "      <td>0.018183</td>\n",
       "      <td>0.019009</td>\n",
       "    </tr>\n",
       "    <tr>\n",
       "      <th>Pretrained VGG16</th>\n",
       "      <td>0.019447</td>\n",
       "      <td>0.001616</td>\n",
       "      <td>0.010731</td>\n",
       "      <td>0.011578</td>\n",
       "    </tr>\n",
       "  </tbody>\n",
       "</table>\n",
       "</div>"
      ],
      "text/plain": [
       "                  r2_score       mse      rmse       mae\n",
       "Linear            0.036908  0.003070  0.019433  0.020329\n",
       "Dense             0.033643  0.002798  0.018293  0.019395\n",
       "Convolutional     0.032822  0.002731  0.018183  0.019009\n",
       "Pretrained VGG16  0.019447  0.001616  0.010731  0.011578"
      ]
     },
     "metadata": {},
     "output_type": "display_data"
    }
   ],
   "source": [
    "all_means = pd.DataFrame(\n",
    "    [\n",
    "        lin_means.iloc[0][['r2_score', 'mse', 'rmse', 'mae']],\n",
    "        dense_means.iloc[0][['r2_score', 'mse', 'rmse', 'mae']],\n",
    "        cnn_means.iloc[0][['r2_score', 'mse', 'rmse', 'mae']],\n",
    "        pretrained_means.iloc[0][['r2_score', 'mse', 'rmse', 'mae']]\n",
    "    ]\n",
    ").rename(\n",
    "    index={\n",
    "        'lin_mean': 'Linear',\n",
    "        'dense_mean': 'Dense',\n",
    "        'cnn_mean': 'Convolutional',\n",
    "        'pretrained_mean': 'Pretrained VGG16',\n",
    "    }\n",
    ")\n",
    "display(all_means)\n",
    "all_std = pd.DataFrame(\n",
    "    [\n",
    "        lin_means.iloc[1][['r2_score', 'mse', 'rmse', 'mae']],\n",
    "        dense_means.iloc[1][['r2_score', 'mse', 'rmse', 'mae']],\n",
    "        cnn_means.iloc[1][['r2_score', 'mse', 'rmse', 'mae']],\n",
    "        pretrained_means.iloc[1][['r2_score', 'mse', 'rmse', 'mae']],\n",
    "    ]\n",
    ").rename(\n",
    "    index={\n",
    "        'lin_std': 'Linear',\n",
    "        'dense_std': 'Dense',\n",
    "        'cnn_std': 'Convolutional',\n",
    "        'pretrained_std': 'Pretrained VGG16',\n",
    "    }\n",
    ")\n",
    "display(all_std)"
   ]
  },
  {
   "cell_type": "code",
   "execution_count": 48,
   "metadata": {},
   "outputs": [],
   "source": [
    "rows = all_means.index\n",
    "r2_str_array = np.zeros((1, all_means.shape[0]), dtype=object)\n",
    "for i in range(all_means.shape[0]):\n",
    "    r2_str_array[0, i] = r\"$\\underset{{\\num{{+- {:.3e} }}  }}{{\\num{{ {:.3g} }} }}$\".format(\n",
    "        all_std[\"r2_score\"][i], all_means[\"r2_score\"][i])\n",
    "        \n",
    "r2_df = pd.DataFrame(r2_str_array, columns=rows)\n",
    "\n",
    "section_path = \"chapters/results/figures/\"\n",
    "fname = THESIS_PATH + section_path + \"regression_simulated_single_energy_r2.tex\"\n",
    "caption = \"\"\"\n",
    "Mean R2-scores for regresson of energy values, on single events in simulated data, using multiple models. \n",
    "Error estimates are the standard deviation in results from k-fold cross-validation \n",
    "with $K=5$ folds.\n",
    "\"\"\"\n",
    "label = \"tab:regression-simulated-single-energy-r2\"\n",
    "with open(fname, \"w\") as fp:\n",
    "    pd.set_option('display.max_colwidth', -1)\n",
    "    r2_df.to_latex(fp, escape=False, caption=caption, label=label, index=False)\n"
   ]
  },
  {
   "cell_type": "markdown",
   "metadata": {},
   "source": [
    "## Double events"
   ]
  },
  {
   "cell_type": "markdown",
   "metadata": {},
   "source": [
    "### Positions"
   ]
  },
  {
   "cell_type": "markdown",
   "metadata": {},
   "source": [
    "#### Linear Regression"
   ]
  },
  {
   "cell_type": "code",
   "execution_count": 49,
   "metadata": {},
   "outputs": [
    {
     "name": "stdout",
     "output_type": "stream",
     "text": [
      "dict_keys(['loss', 'optimizer', 'experiment_config', 'model_type', 'experiment_name', 'experiment_id', 'datetime', 'history', 'metrics'])\n"
     ]
    }
   ],
   "source": [
    "# Load linear regression experiment\n",
    "lin_ex_id = \"7b74b3cfc586\"\n",
    "lin_ex = load_experiment(lin_ex_id)\n",
    "print(lin_ex.keys())\n",
    "#lin_model = tf.keras.models.load_model(repo_root + \"models/\" + lin_ex_id + \".h5\")\n",
    "\n",
    "lin_metrics = experiment_metrics_to_df(lin_ex)\n",
    "#display(lin_metrics)\n",
    "lin_means = lin_metrics.agg([np.mean, np.std])#.applymap('{:.3f}'.format)\n",
    "lin_means = lin_means.rename(index={'mean': 'lin_mean', 'std': 'lin_std'})\n",
    "#display(lin_means)"
   ]
  },
  {
   "cell_type": "markdown",
   "metadata": {},
   "source": [
    "#### Small dense network"
   ]
  },
  {
   "cell_type": "code",
   "execution_count": 50,
   "metadata": {},
   "outputs": [],
   "source": [
    "# Load logistic regression experiment\n",
    "dense_ex_id = \"ef55911e49d1\"\n",
    "dense_ex = load_experiment(dense_ex_id)\n",
    "#log_model = tf.keras.models.load_model(repo_root + \"models/\" + dense_ex_id + \".h5\")\n",
    "\n",
    "dense_metrics = experiment_metrics_to_df(dense_ex)\n",
    "#display(dense_metrics)\n",
    "dense_means = dense_metrics.agg([np.mean, np.std])#.applymap('{:.3f}'.format)\n",
    "dense_means = dense_means.rename(index={'mean': 'dense_mean', 'std': 'dense_std'})\n",
    "#display(dense_means)"
   ]
  },
  {
   "cell_type": "markdown",
   "metadata": {},
   "source": [
    "#### Small CNN"
   ]
  },
  {
   "cell_type": "code",
   "execution_count": 51,
   "metadata": {},
   "outputs": [],
   "source": [
    "# Load logistic regression experiment\n",
    "cnn_ex_id = \"cc2654aea019\"\n",
    "cnn_ex = load_experiment(cnn_ex_id)\n",
    "#log_model = tf.keras.models.load_model(repo_root + \"models/\" + cnn_ex_id + \".h5\")\n",
    "\n",
    "cnn_metrics = experiment_metrics_to_df(cnn_ex)\n",
    "#display(cnn_metrics)\n",
    "cnn_means = cnn_metrics.agg([np.mean, np.std])#.applymap('{:.3f}'.format)\n",
    "cnn_means = cnn_means.rename(index={'mean': 'cnn_mean', 'std': 'cnn_std'})\n",
    "#display(cnn_means)"
   ]
  },
  {
   "cell_type": "markdown",
   "metadata": {},
   "source": [
    "#### Pretrained - VGG\n",
    "As an additional baseline for performance, we include a pretrained SOTA network\n",
    "where trained on the ImageNet database.\n",
    "\n",
    "Due to the size of our detector images (16x16) compared with the size the VGG network is\n",
    "designed for, we cannot use all layers in the VGG network. This stems from the use of max-pooling\n",
    "which effectively reduces the image size to half (8x8) each time the input is passed through such a\n",
    "layer. At some point our input is too small to pass through to the rest of the network.\n",
    "We therefore cut the network at the point where this becomes an issue.\n",
    "Alternatively, one could possibly keep the depth but remove max-pooling layers."
   ]
  },
  {
   "cell_type": "code",
   "execution_count": 52,
   "metadata": {},
   "outputs": [],
   "source": [
    "# Load logistic regression experiment\n",
    "pretrained_ex_id = \"3c0d1b7bd0ac\"\n",
    "pretrained_ex = load_experiment(pretrained_ex_id)\n",
    "#log_model = tf.keras.models.load_model(repo_root + \"models/\" + pretrained_ex_id + \".h5\")\n",
    "\n",
    "pretrained_metrics = experiment_metrics_to_df(pretrained_ex)\n",
    "#display(pretrained_metrics)\n",
    "pretrained_means = pretrained_metrics.agg([np.mean, np.std])#.applymap('{:.3f}'.format)\n",
    "pretrained_means = pretrained_means.rename(index={'mean': 'pretrained_mean', 'std': 'pretrained_std'})\n",
    "#display(pretrained_means)"
   ]
  },
  {
   "cell_type": "markdown",
   "metadata": {},
   "source": [
    "#### Output\n",
    "We use the standard deviation in the folds as an error measure, and report the mean classification f1_score."
   ]
  },
  {
   "cell_type": "code",
   "execution_count": 53,
   "metadata": {},
   "outputs": [
    {
     "data": {
      "text/html": [
       "<div>\n",
       "<style scoped>\n",
       "    .dataframe tbody tr th:only-of-type {\n",
       "        vertical-align: middle;\n",
       "    }\n",
       "\n",
       "    .dataframe tbody tr th {\n",
       "        vertical-align: top;\n",
       "    }\n",
       "\n",
       "    .dataframe thead th {\n",
       "        text-align: right;\n",
       "    }\n",
       "</style>\n",
       "<table border=\"1\" class=\"dataframe\">\n",
       "  <thead>\n",
       "    <tr style=\"text-align: right;\">\n",
       "      <th></th>\n",
       "      <th>r2_score</th>\n",
       "      <th>mse</th>\n",
       "      <th>rmse</th>\n",
       "      <th>mae</th>\n",
       "    </tr>\n",
       "  </thead>\n",
       "  <tbody>\n",
       "    <tr>\n",
       "      <th>Linear</th>\n",
       "      <td>0.364376</td>\n",
       "      <td>0.044520</td>\n",
       "      <td>0.210996</td>\n",
       "      <td>0.168605</td>\n",
       "    </tr>\n",
       "    <tr>\n",
       "      <th>Dense</th>\n",
       "      <td>0.470804</td>\n",
       "      <td>0.037066</td>\n",
       "      <td>0.192524</td>\n",
       "      <td>0.156644</td>\n",
       "    </tr>\n",
       "    <tr>\n",
       "      <th>Convolutional</th>\n",
       "      <td>0.472970</td>\n",
       "      <td>0.036914</td>\n",
       "      <td>0.192129</td>\n",
       "      <td>0.156900</td>\n",
       "    </tr>\n",
       "    <tr>\n",
       "      <th>Pretrained VGG16</th>\n",
       "      <td>0.356654</td>\n",
       "      <td>0.045061</td>\n",
       "      <td>0.212270</td>\n",
       "      <td>0.168052</td>\n",
       "    </tr>\n",
       "  </tbody>\n",
       "</table>\n",
       "</div>"
      ],
      "text/plain": [
       "                  r2_score       mse      rmse       mae\n",
       "Linear            0.364376  0.044520  0.210996  0.168605\n",
       "Dense             0.470804  0.037066  0.192524  0.156644\n",
       "Convolutional     0.472970  0.036914  0.192129  0.156900\n",
       "Pretrained VGG16  0.356654  0.045061  0.212270  0.168052"
      ]
     },
     "metadata": {},
     "output_type": "display_data"
    },
    {
     "data": {
      "text/html": [
       "<div>\n",
       "<style scoped>\n",
       "    .dataframe tbody tr th:only-of-type {\n",
       "        vertical-align: middle;\n",
       "    }\n",
       "\n",
       "    .dataframe tbody tr th {\n",
       "        vertical-align: top;\n",
       "    }\n",
       "\n",
       "    .dataframe thead th {\n",
       "        text-align: right;\n",
       "    }\n",
       "</style>\n",
       "<table border=\"1\" class=\"dataframe\">\n",
       "  <thead>\n",
       "    <tr style=\"text-align: right;\">\n",
       "      <th></th>\n",
       "      <th>r2_score</th>\n",
       "      <th>mse</th>\n",
       "      <th>rmse</th>\n",
       "      <th>mae</th>\n",
       "    </tr>\n",
       "  </thead>\n",
       "  <tbody>\n",
       "    <tr>\n",
       "      <th>Linear</th>\n",
       "      <td>0.005796</td>\n",
       "      <td>0.000432</td>\n",
       "      <td>0.001021</td>\n",
       "      <td>0.001438</td>\n",
       "    </tr>\n",
       "    <tr>\n",
       "      <th>Dense</th>\n",
       "      <td>0.001809</td>\n",
       "      <td>0.000106</td>\n",
       "      <td>0.000276</td>\n",
       "      <td>0.000276</td>\n",
       "    </tr>\n",
       "    <tr>\n",
       "      <th>Convolutional</th>\n",
       "      <td>0.002394</td>\n",
       "      <td>0.000160</td>\n",
       "      <td>0.000415</td>\n",
       "      <td>0.000530</td>\n",
       "    </tr>\n",
       "    <tr>\n",
       "      <th>Pretrained VGG16</th>\n",
       "      <td>0.010787</td>\n",
       "      <td>0.000732</td>\n",
       "      <td>0.001727</td>\n",
       "      <td>0.001599</td>\n",
       "    </tr>\n",
       "  </tbody>\n",
       "</table>\n",
       "</div>"
      ],
      "text/plain": [
       "                  r2_score       mse      rmse       mae\n",
       "Linear            0.005796  0.000432  0.001021  0.001438\n",
       "Dense             0.001809  0.000106  0.000276  0.000276\n",
       "Convolutional     0.002394  0.000160  0.000415  0.000530\n",
       "Pretrained VGG16  0.010787  0.000732  0.001727  0.001599"
      ]
     },
     "metadata": {},
     "output_type": "display_data"
    }
   ],
   "source": [
    "all_means = pd.DataFrame(\n",
    "    [\n",
    "        lin_means.iloc[0][['r2_score', 'mse', 'rmse', 'mae']],\n",
    "        dense_means.iloc[0][['r2_score', 'mse', 'rmse', 'mae']],\n",
    "        cnn_means.iloc[0][['r2_score', 'mse', 'rmse', 'mae']],\n",
    "        pretrained_means.iloc[0][['r2_score', 'mse', 'rmse', 'mae']]\n",
    "    ]\n",
    ").rename(\n",
    "    index={\n",
    "        'lin_mean': 'Linear',\n",
    "        'dense_mean': 'Dense',\n",
    "        'cnn_mean': 'Convolutional',\n",
    "        'pretrained_mean': 'Pretrained VGG16',\n",
    "    }\n",
    ")\n",
    "display(all_means)\n",
    "all_std = pd.DataFrame(\n",
    "    [\n",
    "        lin_means.iloc[1][['r2_score', 'mse', 'rmse', 'mae']],\n",
    "        dense_means.iloc[1][['r2_score', 'mse', 'rmse', 'mae']],\n",
    "        cnn_means.iloc[1][['r2_score', 'mse', 'rmse', 'mae']],\n",
    "        pretrained_means.iloc[1][['r2_score', 'mse', 'rmse', 'mae']],\n",
    "    ]\n",
    ").rename(\n",
    "    index={\n",
    "        'lin_std': 'Linear',\n",
    "        'dense_std': 'Dense',\n",
    "        'cnn_std': 'Convolutional',\n",
    "        'pretrained_std': 'Pretrained VGG16',\n",
    "    }\n",
    ")\n",
    "display(all_std)"
   ]
  },
  {
   "cell_type": "code",
   "execution_count": 54,
   "metadata": {},
   "outputs": [],
   "source": [
    "rows = all_means.index\n",
    "r2_str_array = np.zeros((1, all_means.shape[0]), dtype=object)\n",
    "for i in range(all_means.shape[0]):\n",
    "    r2_str_array[0, i] = r\"$\\underset{{\\num{{+- {:.3e} }}  }}{{\\num{{ {:.3g} }} }}$\".format(\n",
    "        all_std[\"r2_score\"][i], all_means[\"r2_score\"][i])\n",
    "        \n",
    "r2_df = pd.DataFrame(r2_str_array, columns=rows)\n",
    "\n",
    "section_path = \"chapters/results/figures/\"\n",
    "fname = THESIS_PATH + section_path + \"regression_simulated_double_position_r2.tex\"\n",
    "caption = \"\"\"\n",
    "Mean R2-scores for regresson of positions of origin, on double events in simulated data, using multiple models. \n",
    "Error estimates are the standard deviation in results from k-fold cross-validation \n",
    "with $K=5$ folds.\n",
    "\"\"\"\n",
    "label = \"tab:regression-simulated-double-position-r2\"\n",
    "with open(fname, \"w\") as fp:\n",
    "    pd.set_option('display.max_colwidth', -1)\n",
    "    r2_df.to_latex(fp, escape=False, caption=caption, label=label, index=False)\n"
   ]
  },
  {
   "cell_type": "markdown",
   "metadata": {},
   "source": [
    "### Energy"
   ]
  },
  {
   "cell_type": "markdown",
   "metadata": {},
   "source": [
    "#### Linear regression"
   ]
  },
  {
   "cell_type": "code",
   "execution_count": 55,
   "metadata": {},
   "outputs": [
    {
     "name": "stdout",
     "output_type": "stream",
     "text": [
      "dict_keys(['loss', 'optimizer', 'experiment_config', 'model_type', 'experiment_name', 'experiment_id', 'datetime', 'history', 'metrics'])\n"
     ]
    }
   ],
   "source": [
    "# Load linear regression experiment\n",
    "lin_ex_id = \"6e600e08e8af\"\n",
    "lin_ex = load_experiment(lin_ex_id)\n",
    "print(lin_ex.keys())\n",
    "#lin_model = tf.keras.models.load_model(repo_root + \"models/\" + lin_ex_id + \".h5\")\n",
    "\n",
    "lin_metrics = experiment_metrics_to_df(lin_ex)\n",
    "#display(lin_metrics)\n",
    "lin_means = lin_metrics.agg([np.mean, np.std])#.applymap('{:.3f}'.format)\n",
    "lin_means = lin_means.rename(index={'mean': 'lin_mean', 'std': 'lin_std'})\n",
    "#display(lin_means)"
   ]
  },
  {
   "cell_type": "markdown",
   "metadata": {},
   "source": [
    "#### Small dense network"
   ]
  },
  {
   "cell_type": "code",
   "execution_count": 56,
   "metadata": {},
   "outputs": [],
   "source": [
    "# Load dense regression experiment\n",
    "dense_ex_id = \"96cd3707d131\"\n",
    "dense_ex = load_experiment(dense_ex_id)\n",
    "#log_model = tf.keras.models.load_model(repo_root + \"models/\" + dense_ex_id + \".h5\")\n",
    "\n",
    "dense_metrics = experiment_metrics_to_df(dense_ex)\n",
    "#display(dense_metrics)\n",
    "dense_means = dense_metrics.agg([np.mean, np.std])#.applymap('{:.3f}'.format)\n",
    "dense_means = dense_means.rename(index={'mean': 'dense_mean', 'std': 'dense_std'})\n",
    "#display(dense_means)"
   ]
  },
  {
   "cell_type": "markdown",
   "metadata": {},
   "source": [
    "#### Small CNN"
   ]
  },
  {
   "cell_type": "code",
   "execution_count": 57,
   "metadata": {},
   "outputs": [],
   "source": [
    "# Load cnn regression experiment\n",
    "cnn_ex_id = \"f41605cb58b4\"\n",
    "cnn_ex = load_experiment(cnn_ex_id)\n",
    "#log_model = tf.keras.models.load_model(repo_root + \"models/\" + cnn_ex_id + \".h5\")\n",
    "\n",
    "cnn_metrics = experiment_metrics_to_df(cnn_ex)\n",
    "#(cnn_metrics)\n",
    "cnn_means = cnn_metrics.agg([np.mean, np.std])#.applymap('{:.3f}'.format)\n",
    "cnn_means = cnn_means.rename(index={'mean': 'cnn_mean', 'std': 'cnn_std'})\n",
    "#display(cnn_means)"
   ]
  },
  {
   "cell_type": "markdown",
   "metadata": {},
   "source": [
    "#### Pretrained - VGG16 "
   ]
  },
  {
   "cell_type": "code",
   "execution_count": 58,
   "metadata": {},
   "outputs": [],
   "source": [
    "# Load logistic regression experiment\n",
    "pretrained_ex_id = \"9f33b3fc7fff\"\n",
    "pretrained_ex = load_experiment(pretrained_ex_id)\n",
    "#log_model = tf.keras.models.load_model(repo_root + \"models/\" + pretrained_ex_id + \".h5\")\n",
    "\n",
    "pretrained_metrics = experiment_metrics_to_df(pretrained_ex)\n",
    "#display(pretrained_metrics)\n",
    "pretrained_means = pretrained_metrics.agg([np.mean, np.std])#.applymap('{:.3f}'.format)\n",
    "pretrained_means = pretrained_means.rename(index={'mean': 'pretrained_mean', 'std': 'pretrained_std'})\n",
    "#display(pretrained_means)"
   ]
  },
  {
   "cell_type": "markdown",
   "metadata": {},
   "source": [
    "#### Output"
   ]
  },
  {
   "cell_type": "code",
   "execution_count": 59,
   "metadata": {},
   "outputs": [
    {
     "data": {
      "text/html": [
       "<div>\n",
       "<style scoped>\n",
       "    .dataframe tbody tr th:only-of-type {\n",
       "        vertical-align: middle;\n",
       "    }\n",
       "\n",
       "    .dataframe tbody tr th {\n",
       "        vertical-align: top;\n",
       "    }\n",
       "\n",
       "    .dataframe thead th {\n",
       "        text-align: right;\n",
       "    }\n",
       "</style>\n",
       "<table border=\"1\" class=\"dataframe\">\n",
       "  <thead>\n",
       "    <tr style=\"text-align: right;\">\n",
       "      <th></th>\n",
       "      <th>r2_score</th>\n",
       "      <th>mse</th>\n",
       "      <th>rmse</th>\n",
       "      <th>mae</th>\n",
       "    </tr>\n",
       "  </thead>\n",
       "  <tbody>\n",
       "    <tr>\n",
       "      <th>Linear</th>\n",
       "      <td>0.414961</td>\n",
       "      <td>0.048761</td>\n",
       "      <td>0.220557</td>\n",
       "      <td>0.180021</td>\n",
       "    </tr>\n",
       "    <tr>\n",
       "      <th>Dense</th>\n",
       "      <td>0.415882</td>\n",
       "      <td>0.048684</td>\n",
       "      <td>0.220373</td>\n",
       "      <td>0.179935</td>\n",
       "    </tr>\n",
       "    <tr>\n",
       "      <th>Convolutional</th>\n",
       "      <td>0.427775</td>\n",
       "      <td>0.047692</td>\n",
       "      <td>0.218220</td>\n",
       "      <td>0.178296</td>\n",
       "    </tr>\n",
       "    <tr>\n",
       "      <th>Pretrained VGG16</th>\n",
       "      <td>0.404023</td>\n",
       "      <td>0.049670</td>\n",
       "      <td>0.222698</td>\n",
       "      <td>0.180016</td>\n",
       "    </tr>\n",
       "  </tbody>\n",
       "</table>\n",
       "</div>"
      ],
      "text/plain": [
       "                  r2_score       mse      rmse       mae\n",
       "Linear            0.414961  0.048761  0.220557  0.180021\n",
       "Dense             0.415882  0.048684  0.220373  0.179935\n",
       "Convolutional     0.427775  0.047692  0.218220  0.178296\n",
       "Pretrained VGG16  0.404023  0.049670  0.222698  0.180016"
      ]
     },
     "metadata": {},
     "output_type": "display_data"
    },
    {
     "data": {
      "text/html": [
       "<div>\n",
       "<style scoped>\n",
       "    .dataframe tbody tr th:only-of-type {\n",
       "        vertical-align: middle;\n",
       "    }\n",
       "\n",
       "    .dataframe tbody tr th {\n",
       "        vertical-align: top;\n",
       "    }\n",
       "\n",
       "    .dataframe thead th {\n",
       "        text-align: right;\n",
       "    }\n",
       "</style>\n",
       "<table border=\"1\" class=\"dataframe\">\n",
       "  <thead>\n",
       "    <tr style=\"text-align: right;\">\n",
       "      <th></th>\n",
       "      <th>r2_score</th>\n",
       "      <th>mse</th>\n",
       "      <th>rmse</th>\n",
       "      <th>mae</th>\n",
       "    </tr>\n",
       "  </thead>\n",
       "  <tbody>\n",
       "    <tr>\n",
       "      <th>Linear</th>\n",
       "      <td>0.065006</td>\n",
       "      <td>0.005467</td>\n",
       "      <td>0.012013</td>\n",
       "      <td>0.009753</td>\n",
       "    </tr>\n",
       "    <tr>\n",
       "      <th>Dense</th>\n",
       "      <td>0.066321</td>\n",
       "      <td>0.005576</td>\n",
       "      <td>0.012252</td>\n",
       "      <td>0.009961</td>\n",
       "    </tr>\n",
       "    <tr>\n",
       "      <th>Convolutional</th>\n",
       "      <td>0.050267</td>\n",
       "      <td>0.004236</td>\n",
       "      <td>0.009484</td>\n",
       "      <td>0.007782</td>\n",
       "    </tr>\n",
       "    <tr>\n",
       "      <th>Pretrained VGG16</th>\n",
       "      <td>0.053075</td>\n",
       "      <td>0.004462</td>\n",
       "      <td>0.009740</td>\n",
       "      <td>0.006903</td>\n",
       "    </tr>\n",
       "  </tbody>\n",
       "</table>\n",
       "</div>"
      ],
      "text/plain": [
       "                  r2_score       mse      rmse       mae\n",
       "Linear            0.065006  0.005467  0.012013  0.009753\n",
       "Dense             0.066321  0.005576  0.012252  0.009961\n",
       "Convolutional     0.050267  0.004236  0.009484  0.007782\n",
       "Pretrained VGG16  0.053075  0.004462  0.009740  0.006903"
      ]
     },
     "metadata": {},
     "output_type": "display_data"
    }
   ],
   "source": [
    "all_means = pd.DataFrame(\n",
    "    [\n",
    "        lin_means.iloc[0][['r2_score', 'mse', 'rmse', 'mae']],\n",
    "        dense_means.iloc[0][['r2_score', 'mse', 'rmse', 'mae']],\n",
    "        cnn_means.iloc[0][['r2_score', 'mse', 'rmse', 'mae']],\n",
    "        pretrained_means.iloc[0][['r2_score', 'mse', 'rmse', 'mae']]\n",
    "    ]\n",
    ").rename(\n",
    "    index={\n",
    "        'lin_mean': 'Linear',\n",
    "        'dense_mean': 'Dense',\n",
    "        'cnn_mean': 'Convolutional',\n",
    "        'pretrained_mean': 'Pretrained VGG16',\n",
    "    }\n",
    ")\n",
    "display(all_means)\n",
    "all_std = pd.DataFrame(\n",
    "    [\n",
    "        lin_means.iloc[1][['r2_score', 'mse', 'rmse', 'mae']],\n",
    "        dense_means.iloc[1][['r2_score', 'mse', 'rmse', 'mae']],\n",
    "        cnn_means.iloc[1][['r2_score', 'mse', 'rmse', 'mae']],\n",
    "        pretrained_means.iloc[1][['r2_score', 'mse', 'rmse', 'mae']],\n",
    "    ]\n",
    ").rename(\n",
    "    index={\n",
    "        'lin_std': 'Linear',\n",
    "        'dense_std': 'Dense',\n",
    "        'cnn_std': 'Convolutional',\n",
    "        'pretrained_std': 'Pretrained VGG16',\n",
    "    }\n",
    ")\n",
    "display(all_std)"
   ]
  },
  {
   "cell_type": "code",
   "execution_count": 60,
   "metadata": {},
   "outputs": [],
   "source": [
    "rows = all_means.index\n",
    "r2_str_array = np.zeros((1, all_means.shape[0]), dtype=object)\n",
    "for i in range(all_means.shape[0]):\n",
    "    r2_str_array[0, i] = r\"$\\underset{{\\num{{+- {:.3e} }}  }}{{\\num{{ {:.3g} }} }}$\".format(\n",
    "        all_std[\"r2_score\"][i], all_means[\"r2_score\"][i])\n",
    "        \n",
    "r2_df = pd.DataFrame(r2_str_array, columns=rows)\n",
    "\n",
    "section_path = \"chapters/results/figures/\"\n",
    "fname = THESIS_PATH + section_path + \"regression_simulated_double_energy_r2.tex\"\n",
    "caption = \"\"\"\n",
    "Mean R2-scores for regresson of energy values, on double events in simulated data, using multiple models. \n",
    "Error estimates are the standard deviation in results from k-fold cross-validation \n",
    "with $K=5$ folds.\n",
    "\"\"\"\n",
    "label = \"tab:regression-simulated-double-energy-r2\"\n",
    "with open(fname, \"w\") as fp:\n",
    "    pd.set_option('display.max_colwidth', -1)\n",
    "    r2_df.to_latex(fp, escape=False, caption=caption, label=label, index=False)\n"
   ]
  }
 ],
 "metadata": {
  "kernelspec": {
   "display_name": "Python 3",
   "language": "python",
   "name": "python3"
  },
  "language_info": {
   "codemirror_mode": {
    "name": "ipython",
    "version": 3
   },
   "file_extension": ".py",
   "mimetype": "text/x-python",
   "name": "python",
   "nbconvert_exporter": "python",
   "pygments_lexer": "ipython3",
   "version": "3.8.5"
  },
  "toc-autonumbering": true
 },
 "nbformat": 4,
 "nbformat_minor": 4
}
