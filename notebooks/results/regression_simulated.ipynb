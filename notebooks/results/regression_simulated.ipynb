{
 "cells": [
  {
   "cell_type": "markdown",
   "metadata": {},
   "source": [
    "**Results - Regression of simulated events**\n",
    "\n",
    "This notebook is the primary source of plots and tables for the regression part of the thesis, \n",
    "with the goal of keeping every table and figure as standardized as possible. (And who has the time to update\n",
    "90 tables one by one anyway).\n",
    "\n",
    "**Questions:**\n",
    "* Descriptive statistics\n",
    "    - Should descriptive statistics of the simulated data be included?\\\n",
    "    If so, how much? And should it be included for each fold in the k-fold cross-validation?\n",
    "* Classification results\n",
    "    - Breakdown of results based on event type? Single, double, close double?\n",
    "    Reasonable to include in order to confirm the assumption that close doubles are the\n",
    "    most difficult event type to classify correctly in simulated data\n",
    "    Random state is included, so should be simple to reproduce the indices\n",
    "\n",
    "\n",
    "**TODO**\n",
    "* Implement reproducing the validation indices for each fold based on the random seed from config\n",
    "\n",
    "**Handy links**\n",
    "* [matplotlib-plots to latex](https://timodenk.com/blog/exporting-matplotlib-plots-to-latex/)\n",
    "* [Robert's thesis df output](https://github.com/ATTPC/VAE-event-classification/blob/master/src/make_classification_table.py)"
   ]
  },
  {
   "cell_type": "code",
   "execution_count": 1,
   "metadata": {},
   "outputs": [],
   "source": [
    "%matplotlib inline\n",
    "%load_ext autoreload\n",
    "%autoreload 2\n",
    "from master_scripts.data_functions import get_git_root\n",
    "from master_scripts.analysis_functions import load_experiment, experiment_metrics_to_df\n",
    "import json\n",
    "import pandas as pd\n",
    "import matplotlib.pyplot as plt\n",
    "import seaborn as sns\n",
    "import numpy as np\n",
    "\n",
    "THESIS_PATH = \"../../../master_thesis/\""
   ]
  },
  {
   "cell_type": "markdown",
   "metadata": {},
   "source": [
    "# Pre-processed simulated data - no additional modifications\n",
    "This is the basic metrics for all the models trained on simulated data.\n",
    "The basic pre-processing includes formatting and min-max normalization."
   ]
  },
  {
   "cell_type": "markdown",
   "metadata": {},
   "source": [
    "## Single events"
   ]
  },
  {
   "cell_type": "markdown",
   "metadata": {},
   "source": [
    "### Positions"
   ]
  },
  {
   "cell_type": "markdown",
   "metadata": {},
   "source": [
    "#### Linear Regression"
   ]
  },
  {
   "cell_type": "code",
   "execution_count": 2,
   "metadata": {},
   "outputs": [
    {
     "name": "stdout",
     "output_type": "stream",
     "text": [
      "dict_keys(['loss', 'optimizer', 'experiment_config', 'model_type', 'experiment_name', 'experiment_id', 'datetime', 'history', 'metrics'])\n"
     ]
    }
   ],
   "source": [
    "# Load linear regression experiment\n",
    "lin_ex_id = \"225ca879103d\"\n",
    "lin_ex = load_experiment(lin_ex_id)\n",
    "print(lin_ex.keys())\n",
    "#lin_model = tf.keras.models.load_model(repo_root + \"models/\" + lin_ex_id + \".h5\")\n",
    "\n",
    "lin_metrics = experiment_metrics_to_df(lin_ex)\n",
    "#display(lin_metrics)\n",
    "lin_means = lin_metrics.agg([np.mean, np.std])#.applymap('{:.3f}'.format)\n",
    "lin_means = lin_means.rename(index={'mean': 'lin_mean', 'std': 'lin_std'})\n",
    "#display(lin_means)"
   ]
  },
  {
   "cell_type": "markdown",
   "metadata": {},
   "source": [
    "#### Small dense network"
   ]
  },
  {
   "cell_type": "code",
   "execution_count": 3,
   "metadata": {},
   "outputs": [],
   "source": [
    "# Load logistic regression experiment\n",
    "dense_ex_id = \"a3716bc3648a\"\n",
    "dense_ex = load_experiment(dense_ex_id)\n",
    "#log_model = tf.keras.models.load_model(repo_root + \"models/\" + dense_ex_id + \".h5\")\n",
    "\n",
    "dense_metrics = experiment_metrics_to_df(dense_ex)\n",
    "#display(dense_metrics)\n",
    "dense_means = dense_metrics.agg([np.mean, np.std])#.applymap('{:.3f}'.format)\n",
    "dense_means = dense_means.rename(index={'mean': 'dense_mean', 'std': 'dense_std'})\n",
    "#display(dense_means)"
   ]
  },
  {
   "cell_type": "markdown",
   "metadata": {},
   "source": [
    "#### Small CNN"
   ]
  },
  {
   "cell_type": "code",
   "execution_count": 4,
   "metadata": {},
   "outputs": [],
   "source": [
    "# Load logistic regression experiment\n",
    "cnn_ex_id = \"1cac590bf1fe\"\n",
    "cnn_ex = load_experiment(cnn_ex_id)\n",
    "#log_model = tf.keras.models.load_model(repo_root + \"models/\" + cnn_ex_id + \".h5\")\n",
    "\n",
    "cnn_metrics = experiment_metrics_to_df(cnn_ex)\n",
    "#display(cnn_metrics)\n",
    "cnn_means = cnn_metrics.agg([np.mean, np.std])#.applymap('{:.3f}'.format)\n",
    "cnn_means = cnn_means.rename(index={'mean': 'cnn_mean', 'std': 'cnn_std'})\n",
    "#display(cnn_means)"
   ]
  },
  {
   "cell_type": "markdown",
   "metadata": {},
   "source": [
    "#### Pretrained - VGG\n",
    "As an additional baseline for performance, we include a pretrained SOTA network\n",
    "where trained on the ImageNet database.\n",
    "\n",
    "Due to the size of our detector images (16x16) compared with the size the VGG network is\n",
    "designed for, we cannot use all layers in the VGG network. This stems from the use of max-pooling\n",
    "which effectively reduces the image size to half (8x8) each time the input is passed through such a\n",
    "layer. At some point our input is too small to pass through to the rest of the network.\n",
    "We therefore cut the network at the point where this becomes an issue.\n",
    "Alternatively, one could possibly keep the depth but remove max-pooling layers."
   ]
  },
  {
   "cell_type": "code",
   "execution_count": 5,
   "metadata": {},
   "outputs": [],
   "source": [
    "# Load logistic regression experiment\n",
    "pretrained_ex_id = \"d53a2353251f\"\n",
    "pretrained_ex = load_experiment(pretrained_ex_id)\n",
    "#log_model = tf.keras.models.load_model(repo_root + \"models/\" + pretrained_ex_id + \".h5\")\n",
    "\n",
    "pretrained_metrics = experiment_metrics_to_df(pretrained_ex)\n",
    "#display(pretrained_metrics)\n",
    "pretrained_means = pretrained_metrics.agg([np.mean, np.std])#.applymap('{:.3f}'.format)\n",
    "pretrained_means = pretrained_means.rename(index={'mean': 'pretrained_mean', 'std': 'pretrained_std'})\n",
    "#display(pretrained_means)"
   ]
  },
  {
   "cell_type": "markdown",
   "metadata": {},
   "source": [
    "#### Output\n",
    "We use the standard deviation in the folds as an error measure, and report the mean classification f1_score."
   ]
  },
  {
   "cell_type": "code",
   "execution_count": 6,
   "metadata": {},
   "outputs": [
    {
     "data": {
      "text/html": [
       "<div>\n",
       "<style scoped>\n",
       "    .dataframe tbody tr th:only-of-type {\n",
       "        vertical-align: middle;\n",
       "    }\n",
       "\n",
       "    .dataframe tbody tr th {\n",
       "        vertical-align: top;\n",
       "    }\n",
       "\n",
       "    .dataframe thead th {\n",
       "        text-align: right;\n",
       "    }\n",
       "</style>\n",
       "<table border=\"1\" class=\"dataframe\">\n",
       "  <thead>\n",
       "    <tr style=\"text-align: right;\">\n",
       "      <th></th>\n",
       "      <th>r2_score</th>\n",
       "      <th>mse</th>\n",
       "      <th>rmse</th>\n",
       "      <th>mae</th>\n",
       "    </tr>\n",
       "  </thead>\n",
       "  <tbody>\n",
       "    <tr>\n",
       "      <th>Linear</th>\n",
       "      <td>0.801264</td>\n",
       "      <td>0.013916</td>\n",
       "      <td>0.117964</td>\n",
       "      <td>0.090476</td>\n",
       "    </tr>\n",
       "    <tr>\n",
       "      <th>Dense</th>\n",
       "      <td>0.990114</td>\n",
       "      <td>0.000692</td>\n",
       "      <td>0.026293</td>\n",
       "      <td>0.017396</td>\n",
       "    </tr>\n",
       "    <tr>\n",
       "      <th>Convolutional</th>\n",
       "      <td>0.997114</td>\n",
       "      <td>0.000202</td>\n",
       "      <td>0.014205</td>\n",
       "      <td>0.008889</td>\n",
       "    </tr>\n",
       "    <tr>\n",
       "      <th>Pretrained VGG16</th>\n",
       "      <td>0.891115</td>\n",
       "      <td>0.007625</td>\n",
       "      <td>0.087283</td>\n",
       "      <td>0.055983</td>\n",
       "    </tr>\n",
       "  </tbody>\n",
       "</table>\n",
       "</div>"
      ],
      "text/plain": [
       "                  r2_score       mse      rmse       mae\n",
       "Linear            0.801264  0.013916  0.117964  0.090476\n",
       "Dense             0.990114  0.000692  0.026293  0.017396\n",
       "Convolutional     0.997114  0.000202  0.014205  0.008889\n",
       "Pretrained VGG16  0.891115  0.007625  0.087283  0.055983"
      ]
     },
     "metadata": {},
     "output_type": "display_data"
    },
    {
     "data": {
      "text/html": [
       "<div>\n",
       "<style scoped>\n",
       "    .dataframe tbody tr th:only-of-type {\n",
       "        vertical-align: middle;\n",
       "    }\n",
       "\n",
       "    .dataframe tbody tr th {\n",
       "        vertical-align: top;\n",
       "    }\n",
       "\n",
       "    .dataframe thead th {\n",
       "        text-align: right;\n",
       "    }\n",
       "</style>\n",
       "<table border=\"1\" class=\"dataframe\">\n",
       "  <thead>\n",
       "    <tr style=\"text-align: right;\">\n",
       "      <th></th>\n",
       "      <th>r2_score</th>\n",
       "      <th>mse</th>\n",
       "      <th>rmse</th>\n",
       "      <th>mae</th>\n",
       "    </tr>\n",
       "  </thead>\n",
       "  <tbody>\n",
       "    <tr>\n",
       "      <th>Linear</th>\n",
       "      <td>0.003664</td>\n",
       "      <td>0.000246</td>\n",
       "      <td>0.001040</td>\n",
       "      <td>0.001673</td>\n",
       "    </tr>\n",
       "    <tr>\n",
       "      <th>Dense</th>\n",
       "      <td>0.000819</td>\n",
       "      <td>0.000057</td>\n",
       "      <td>0.001069</td>\n",
       "      <td>0.000869</td>\n",
       "    </tr>\n",
       "    <tr>\n",
       "      <th>Convolutional</th>\n",
       "      <td>0.000240</td>\n",
       "      <td>0.000017</td>\n",
       "      <td>0.000580</td>\n",
       "      <td>0.000573</td>\n",
       "    </tr>\n",
       "    <tr>\n",
       "      <th>Pretrained VGG16</th>\n",
       "      <td>0.006864</td>\n",
       "      <td>0.000484</td>\n",
       "      <td>0.002813</td>\n",
       "      <td>0.002656</td>\n",
       "    </tr>\n",
       "  </tbody>\n",
       "</table>\n",
       "</div>"
      ],
      "text/plain": [
       "                  r2_score       mse      rmse       mae\n",
       "Linear            0.003664  0.000246  0.001040  0.001673\n",
       "Dense             0.000819  0.000057  0.001069  0.000869\n",
       "Convolutional     0.000240  0.000017  0.000580  0.000573\n",
       "Pretrained VGG16  0.006864  0.000484  0.002813  0.002656"
      ]
     },
     "metadata": {},
     "output_type": "display_data"
    }
   ],
   "source": [
    "all_means = pd.DataFrame(\n",
    "    [\n",
    "        lin_means.iloc[0][['r2_score', 'mse', 'rmse', 'mae']],\n",
    "        dense_means.iloc[0][['r2_score', 'mse', 'rmse', 'mae']],\n",
    "        cnn_means.iloc[0][['r2_score', 'mse', 'rmse', 'mae']],\n",
    "        pretrained_means.iloc[0][['r2_score', 'mse', 'rmse', 'mae']]\n",
    "    ]\n",
    ").rename(\n",
    "    index={\n",
    "        'lin_mean': 'Linear',\n",
    "        'dense_mean': 'Dense',\n",
    "        'cnn_mean': 'Convolutional',\n",
    "        'pretrained_mean': 'Pretrained VGG16',\n",
    "    }\n",
    ")\n",
    "display(all_means)\n",
    "all_std = pd.DataFrame(\n",
    "    [\n",
    "        lin_means.iloc[1][['r2_score', 'mse', 'rmse', 'mae']],\n",
    "        dense_means.iloc[1][['r2_score', 'mse', 'rmse', 'mae']],\n",
    "        cnn_means.iloc[1][['r2_score', 'mse', 'rmse', 'mae']],\n",
    "        pretrained_means.iloc[1][['r2_score', 'mse', 'rmse', 'mae']],\n",
    "    ]\n",
    ").rename(\n",
    "    index={\n",
    "        'lin_std': 'Linear',\n",
    "        'dense_std': 'Dense',\n",
    "        'cnn_std': 'Convolutional',\n",
    "        'pretrained_std': 'Pretrained VGG16',\n",
    "    }\n",
    ")\n",
    "display(all_std)"
   ]
  },
  {
   "cell_type": "code",
   "execution_count": 7,
   "metadata": {},
   "outputs": [],
   "source": [
    "rows = all_means.index\n",
    "r2_str_array = np.zeros((1, all_means.shape[0]), dtype=object)\n",
    "for i in range(all_means.shape[0]):\n",
    "    r2_str_array[0, i] = r\"$\\underset{{\\num{{+- {:.3e} }}  }}{{\\num{{ {:.3g} }} }}$\".format(\n",
    "        all_std[\"r2_score\"][i], all_means[\"r2_score\"][i])\n",
    "        \n",
    "r2_df = pd.DataFrame(r2_str_array, columns=rows)\n",
    "\n",
    "section_path = \"chapters/results/figures/\"\n",
    "fname = THESIS_PATH + section_path + \"regression_simulated_single_position_r2.tex\"\n",
    "caption = \"\"\"\n",
    "Mean R2-scores for regresson of positions of origin, on single events in simulated data, using multiple models. \n",
    "Error estimates are the standard deviation in results from k-fold cross-validation \n",
    "with $K=5$ folds.\n",
    "\"\"\"\n",
    "label = \"tab:regression-simulated-single-position-r2\"\n",
    "with open(fname, \"w\") as fp:\n",
    "    pd.set_option('display.max_colwidth', -1)\n",
    "    r2_df.to_latex(fp, escape=False, caption=caption, label=label, index=False)\n"
   ]
  },
  {
   "cell_type": "markdown",
   "metadata": {},
   "source": [
    "### Energy"
   ]
  },
  {
   "cell_type": "markdown",
   "metadata": {},
   "source": [
    "#### Linear regression"
   ]
  },
  {
   "cell_type": "code",
   "execution_count": 77,
   "metadata": {},
   "outputs": [
    {
     "name": "stdout",
     "output_type": "stream",
     "text": [
      "generate_results_energies_single_linreg\n"
     ]
    }
   ],
   "source": [
    "# Load linear regression experiment\n",
    "lin_ex_id = \"87e8f4558d97\"\n",
    "lin_ex = load_experiment(lin_ex_id)\n",
    "#print(lin_ex.keys())\n",
    "#lin_model = tf.keras.models.load_model(repo_root + \"models/\" + lin_ex_id + \".h5\")\n",
    "\n",
    "lin_metrics = experiment_metrics_to_df(lin_ex)\n",
    "#display(lin_metrics)\n",
    "lin_means = lin_metrics.agg([np.mean, np.std])#.applymap('{:.3f}'.format)\n",
    "lin_means = lin_means.rename(index={'mean': 'lin_mean', 'std': 'lin_std'})\n",
    "#display(lin_means)\n",
    "print(lin_ex['experiment_name'])"
   ]
  },
  {
   "cell_type": "markdown",
   "metadata": {},
   "source": [
    "#### Small dense network"
   ]
  },
  {
   "cell_type": "code",
   "execution_count": 9,
   "metadata": {},
   "outputs": [],
   "source": [
    "# Load dense regression experiment\n",
    "dense_ex_id = \"4cab676db128\"\n",
    "dense_ex = load_experiment(dense_ex_id)\n",
    "#log_model = tf.keras.models.load_model(repo_root + \"models/\" + dense_ex_id + \".h5\")\n",
    "\n",
    "dense_metrics = experiment_metrics_to_df(dense_ex)\n",
    "#display(dense_metrics)\n",
    "dense_means = dense_metrics.agg([np.mean, np.std])#.applymap('{:.3f}'.format)\n",
    "dense_means = dense_means.rename(index={'mean': 'dense_mean', 'std': 'dense_std'})\n",
    "#display(dense_means)"
   ]
  },
  {
   "cell_type": "markdown",
   "metadata": {},
   "source": [
    "#### Small CNN"
   ]
  },
  {
   "cell_type": "code",
   "execution_count": 10,
   "metadata": {},
   "outputs": [],
   "source": [
    "# Load cnn regression experiment\n",
    "cnn_ex_id = \"3a91fd0e74b5\"\n",
    "cnn_ex = load_experiment(cnn_ex_id)\n",
    "#log_model = tf.keras.models.load_model(repo_root + \"models/\" + cnn_ex_id + \".h5\")\n",
    "\n",
    "cnn_metrics = experiment_metrics_to_df(cnn_ex)\n",
    "#display(cnn_metrics)\n",
    "cnn_means = cnn_metrics.agg([np.mean, np.std])#.applymap('{:.3f}'.format)\n",
    "cnn_means = cnn_means.rename(index={'mean': 'cnn_mean', 'std': 'cnn_std'})\n",
    "#display(cnn_means)"
   ]
  },
  {
   "cell_type": "markdown",
   "metadata": {},
   "source": [
    "#### Pretrained - VGG16 "
   ]
  },
  {
   "cell_type": "code",
   "execution_count": 11,
   "metadata": {},
   "outputs": [],
   "source": [
    "# Load logistic regression experiment\n",
    "pretrained_ex_id = \"ea8d88850f6e\"\n",
    "pretrained_ex = load_experiment(pretrained_ex_id)\n",
    "#log_model = tf.keras.models.load_model(repo_root + \"models/\" + pretrained_ex_id + \".h5\")\n",
    "\n",
    "pretrained_metrics = experiment_metrics_to_df(pretrained_ex)\n",
    "#display(pretrained_metrics)\n",
    "pretrained_means = pretrained_metrics.agg([np.mean, np.std])#.applymap('{:.3f}'.format)\n",
    "pretrained_means = pretrained_means.rename(index={'mean': 'pretrained_mean', 'std': 'pretrained_std'})\n",
    "#display(pretrained_means)"
   ]
  },
  {
   "cell_type": "markdown",
   "metadata": {},
   "source": [
    "#### Output"
   ]
  },
  {
   "cell_type": "code",
   "execution_count": 12,
   "metadata": {},
   "outputs": [
    {
     "data": {
      "text/html": [
       "<div>\n",
       "<style scoped>\n",
       "    .dataframe tbody tr th:only-of-type {\n",
       "        vertical-align: middle;\n",
       "    }\n",
       "\n",
       "    .dataframe tbody tr th {\n",
       "        vertical-align: top;\n",
       "    }\n",
       "\n",
       "    .dataframe thead th {\n",
       "        text-align: right;\n",
       "    }\n",
       "</style>\n",
       "<table border=\"1\" class=\"dataframe\">\n",
       "  <thead>\n",
       "    <tr style=\"text-align: right;\">\n",
       "      <th></th>\n",
       "      <th>r2_score</th>\n",
       "      <th>mse</th>\n",
       "      <th>rmse</th>\n",
       "      <th>mae</th>\n",
       "    </tr>\n",
       "  </thead>\n",
       "  <tbody>\n",
       "    <tr>\n",
       "      <th>Linear</th>\n",
       "      <td>0.926159</td>\n",
       "      <td>0.006149</td>\n",
       "      <td>0.076462</td>\n",
       "      <td>0.062479</td>\n",
       "    </tr>\n",
       "    <tr>\n",
       "      <th>Dense</th>\n",
       "      <td>0.931254</td>\n",
       "      <td>0.005724</td>\n",
       "      <td>0.073870</td>\n",
       "      <td>0.060016</td>\n",
       "    </tr>\n",
       "    <tr>\n",
       "      <th>Convolutional</th>\n",
       "      <td>0.935684</td>\n",
       "      <td>0.005355</td>\n",
       "      <td>0.071351</td>\n",
       "      <td>0.056982</td>\n",
       "    </tr>\n",
       "    <tr>\n",
       "      <th>Pretrained VGG16</th>\n",
       "      <td>0.934564</td>\n",
       "      <td>0.005449</td>\n",
       "      <td>0.073193</td>\n",
       "      <td>0.057032</td>\n",
       "    </tr>\n",
       "  </tbody>\n",
       "</table>\n",
       "</div>"
      ],
      "text/plain": [
       "                  r2_score       mse      rmse       mae\n",
       "Linear            0.926159  0.006149  0.076462  0.062479\n",
       "Dense             0.931254  0.005724  0.073870  0.060016\n",
       "Convolutional     0.935684  0.005355  0.071351  0.056982\n",
       "Pretrained VGG16  0.934564  0.005449  0.073193  0.057032"
      ]
     },
     "metadata": {},
     "output_type": "display_data"
    },
    {
     "data": {
      "text/html": [
       "<div>\n",
       "<style scoped>\n",
       "    .dataframe tbody tr th:only-of-type {\n",
       "        vertical-align: middle;\n",
       "    }\n",
       "\n",
       "    .dataframe tbody tr th {\n",
       "        vertical-align: top;\n",
       "    }\n",
       "\n",
       "    .dataframe thead th {\n",
       "        text-align: right;\n",
       "    }\n",
       "</style>\n",
       "<table border=\"1\" class=\"dataframe\">\n",
       "  <thead>\n",
       "    <tr style=\"text-align: right;\">\n",
       "      <th></th>\n",
       "      <th>r2_score</th>\n",
       "      <th>mse</th>\n",
       "      <th>rmse</th>\n",
       "      <th>mae</th>\n",
       "    </tr>\n",
       "  </thead>\n",
       "  <tbody>\n",
       "    <tr>\n",
       "      <th>Linear</th>\n",
       "      <td>0.036908</td>\n",
       "      <td>0.003070</td>\n",
       "      <td>0.019433</td>\n",
       "      <td>0.020329</td>\n",
       "    </tr>\n",
       "    <tr>\n",
       "      <th>Dense</th>\n",
       "      <td>0.033643</td>\n",
       "      <td>0.002798</td>\n",
       "      <td>0.018293</td>\n",
       "      <td>0.019395</td>\n",
       "    </tr>\n",
       "    <tr>\n",
       "      <th>Convolutional</th>\n",
       "      <td>0.032822</td>\n",
       "      <td>0.002731</td>\n",
       "      <td>0.018183</td>\n",
       "      <td>0.019009</td>\n",
       "    </tr>\n",
       "    <tr>\n",
       "      <th>Pretrained VGG16</th>\n",
       "      <td>0.019447</td>\n",
       "      <td>0.001616</td>\n",
       "      <td>0.010731</td>\n",
       "      <td>0.011578</td>\n",
       "    </tr>\n",
       "  </tbody>\n",
       "</table>\n",
       "</div>"
      ],
      "text/plain": [
       "                  r2_score       mse      rmse       mae\n",
       "Linear            0.036908  0.003070  0.019433  0.020329\n",
       "Dense             0.033643  0.002798  0.018293  0.019395\n",
       "Convolutional     0.032822  0.002731  0.018183  0.019009\n",
       "Pretrained VGG16  0.019447  0.001616  0.010731  0.011578"
      ]
     },
     "metadata": {},
     "output_type": "display_data"
    }
   ],
   "source": [
    "all_means = pd.DataFrame(\n",
    "    [\n",
    "        lin_means.iloc[0][['r2_score', 'mse', 'rmse', 'mae']],\n",
    "        dense_means.iloc[0][['r2_score', 'mse', 'rmse', 'mae']],\n",
    "        cnn_means.iloc[0][['r2_score', 'mse', 'rmse', 'mae']],\n",
    "        pretrained_means.iloc[0][['r2_score', 'mse', 'rmse', 'mae']]\n",
    "    ]\n",
    ").rename(\n",
    "    index={\n",
    "        'lin_mean': 'Linear',\n",
    "        'dense_mean': 'Dense',\n",
    "        'cnn_mean': 'Convolutional',\n",
    "        'pretrained_mean': 'Pretrained VGG16',\n",
    "    }\n",
    ")\n",
    "display(all_means)\n",
    "all_std = pd.DataFrame(\n",
    "    [\n",
    "        lin_means.iloc[1][['r2_score', 'mse', 'rmse', 'mae']],\n",
    "        dense_means.iloc[1][['r2_score', 'mse', 'rmse', 'mae']],\n",
    "        cnn_means.iloc[1][['r2_score', 'mse', 'rmse', 'mae']],\n",
    "        pretrained_means.iloc[1][['r2_score', 'mse', 'rmse', 'mae']],\n",
    "    ]\n",
    ").rename(\n",
    "    index={\n",
    "        'lin_std': 'Linear',\n",
    "        'dense_std': 'Dense',\n",
    "        'cnn_std': 'Convolutional',\n",
    "        'pretrained_std': 'Pretrained VGG16',\n",
    "    }\n",
    ")\n",
    "display(all_std)"
   ]
  },
  {
   "cell_type": "code",
   "execution_count": 13,
   "metadata": {},
   "outputs": [],
   "source": [
    "rows = all_means.index\n",
    "r2_str_array = np.zeros((1, all_means.shape[0]), dtype=object)\n",
    "for i in range(all_means.shape[0]):\n",
    "    r2_str_array[0, i] = r\"$\\underset{{\\num{{+- {:.3e} }}  }}{{\\num{{ {:.3g} }} }}$\".format(\n",
    "        all_std[\"r2_score\"][i], all_means[\"r2_score\"][i])\n",
    "        \n",
    "r2_df = pd.DataFrame(r2_str_array, columns=rows)\n",
    "\n",
    "section_path = \"chapters/results/figures/\"\n",
    "fname = THESIS_PATH + section_path + \"regression_simulated_single_energy_r2.tex\"\n",
    "caption = \"\"\"\n",
    "Mean R2-scores for regresson of energy values, on single events in simulated data, using multiple models. \n",
    "Error estimates are the standard deviation in results from k-fold cross-validation \n",
    "with $K=5$ folds.\n",
    "\"\"\"\n",
    "label = \"tab:regression-simulated-single-energy-r2\"\n",
    "with open(fname, \"w\") as fp:\n",
    "    pd.set_option('display.max_colwidth', -1)\n",
    "    r2_df.to_latex(fp, escape=False, caption=caption, label=label, index=False)\n"
   ]
  },
  {
   "cell_type": "markdown",
   "metadata": {},
   "source": [
    "## Double events"
   ]
  },
  {
   "cell_type": "markdown",
   "metadata": {},
   "source": [
    "### Positions"
   ]
  },
  {
   "cell_type": "markdown",
   "metadata": {},
   "source": [
    "#### Linear Regression"
   ]
  },
  {
   "cell_type": "code",
   "execution_count": 14,
   "metadata": {},
   "outputs": [
    {
     "name": "stdout",
     "output_type": "stream",
     "text": [
      "dict_keys(['loss', 'optimizer', 'experiment_config', 'model_type', 'experiment_name', 'experiment_id', 'datetime', 'history', 'metrics'])\n"
     ]
    }
   ],
   "source": [
    "# Load linear regression experiment\n",
    "lin_ex_id = \"7b74b3cfc586\"\n",
    "lin_ex = load_experiment(lin_ex_id)\n",
    "print(lin_ex.keys())\n",
    "#lin_model = tf.keras.models.load_model(repo_root + \"models/\" + lin_ex_id + \".h5\")\n",
    "\n",
    "lin_metrics = experiment_metrics_to_df(lin_ex)\n",
    "#display(lin_metrics)\n",
    "lin_means = lin_metrics.agg([np.mean, np.std])#.applymap('{:.3f}'.format)\n",
    "lin_means = lin_means.rename(index={'mean': 'lin_mean', 'std': 'lin_std'})\n",
    "#display(lin_means)"
   ]
  },
  {
   "cell_type": "markdown",
   "metadata": {},
   "source": [
    "#### Small dense network"
   ]
  },
  {
   "cell_type": "code",
   "execution_count": 15,
   "metadata": {},
   "outputs": [],
   "source": [
    "# Load logistic regression experiment\n",
    "dense_ex_id = \"ef55911e49d1\"\n",
    "dense_ex = load_experiment(dense_ex_id)\n",
    "#log_model = tf.keras.models.load_model(repo_root + \"models/\" + dense_ex_id + \".h5\")\n",
    "\n",
    "dense_metrics = experiment_metrics_to_df(dense_ex)\n",
    "#display(dense_metrics)\n",
    "dense_means = dense_metrics.agg([np.mean, np.std])#.applymap('{:.3f}'.format)\n",
    "dense_means = dense_means.rename(index={'mean': 'dense_mean', 'std': 'dense_std'})\n",
    "#display(dense_means)"
   ]
  },
  {
   "cell_type": "markdown",
   "metadata": {},
   "source": [
    "#### Small CNN"
   ]
  },
  {
   "cell_type": "code",
   "execution_count": 16,
   "metadata": {},
   "outputs": [],
   "source": [
    "# Load logistic regression experiment\n",
    "cnn_ex_id = \"cc2654aea019\"\n",
    "cnn_ex = load_experiment(cnn_ex_id)\n",
    "#log_model = tf.keras.models.load_model(repo_root + \"models/\" + cnn_ex_id + \".h5\")\n",
    "\n",
    "cnn_metrics = experiment_metrics_to_df(cnn_ex)\n",
    "#display(cnn_metrics)\n",
    "cnn_means = cnn_metrics.agg([np.mean, np.std])#.applymap('{:.3f}'.format)\n",
    "cnn_means = cnn_means.rename(index={'mean': 'cnn_mean', 'std': 'cnn_std'})\n",
    "#display(cnn_means)"
   ]
  },
  {
   "cell_type": "markdown",
   "metadata": {},
   "source": [
    "#### Pretrained - VGG\n",
    "As an additional baseline for performance, we include a pretrained SOTA network\n",
    "where trained on the ImageNet database.\n",
    "\n",
    "Due to the size of our detector images (16x16) compared with the size the VGG network is\n",
    "designed for, we cannot use all layers in the VGG network. This stems from the use of max-pooling\n",
    "which effectively reduces the image size to half (8x8) each time the input is passed through such a\n",
    "layer. At some point our input is too small to pass through to the rest of the network.\n",
    "We therefore cut the network at the point where this becomes an issue.\n",
    "Alternatively, one could possibly keep the depth but remove max-pooling layers."
   ]
  },
  {
   "cell_type": "code",
   "execution_count": 17,
   "metadata": {},
   "outputs": [],
   "source": [
    "# Load logistic regression experiment\n",
    "pretrained_ex_id = \"3c0d1b7bd0ac\"\n",
    "pretrained_ex = load_experiment(pretrained_ex_id)\n",
    "#log_model = tf.keras.models.load_model(repo_root + \"models/\" + pretrained_ex_id + \".h5\")\n",
    "\n",
    "pretrained_metrics = experiment_metrics_to_df(pretrained_ex)\n",
    "#display(pretrained_metrics)\n",
    "pretrained_means = pretrained_metrics.agg([np.mean, np.std])#.applymap('{:.3f}'.format)\n",
    "pretrained_means = pretrained_means.rename(index={'mean': 'pretrained_mean', 'std': 'pretrained_std'})\n",
    "#display(pretrained_means)"
   ]
  },
  {
   "cell_type": "markdown",
   "metadata": {},
   "source": [
    "#### Output\n",
    "We use the standard deviation in the folds as an error measure, and report the mean classification f1_score."
   ]
  },
  {
   "cell_type": "code",
   "execution_count": 18,
   "metadata": {},
   "outputs": [
    {
     "data": {
      "text/html": [
       "<div>\n",
       "<style scoped>\n",
       "    .dataframe tbody tr th:only-of-type {\n",
       "        vertical-align: middle;\n",
       "    }\n",
       "\n",
       "    .dataframe tbody tr th {\n",
       "        vertical-align: top;\n",
       "    }\n",
       "\n",
       "    .dataframe thead th {\n",
       "        text-align: right;\n",
       "    }\n",
       "</style>\n",
       "<table border=\"1\" class=\"dataframe\">\n",
       "  <thead>\n",
       "    <tr style=\"text-align: right;\">\n",
       "      <th></th>\n",
       "      <th>r2_score</th>\n",
       "      <th>mse</th>\n",
       "      <th>rmse</th>\n",
       "      <th>mae</th>\n",
       "    </tr>\n",
       "  </thead>\n",
       "  <tbody>\n",
       "    <tr>\n",
       "      <th>Linear</th>\n",
       "      <td>0.364376</td>\n",
       "      <td>0.044520</td>\n",
       "      <td>0.210996</td>\n",
       "      <td>0.168605</td>\n",
       "    </tr>\n",
       "    <tr>\n",
       "      <th>Dense</th>\n",
       "      <td>0.470804</td>\n",
       "      <td>0.037066</td>\n",
       "      <td>0.192524</td>\n",
       "      <td>0.156644</td>\n",
       "    </tr>\n",
       "    <tr>\n",
       "      <th>Convolutional</th>\n",
       "      <td>0.472970</td>\n",
       "      <td>0.036914</td>\n",
       "      <td>0.192129</td>\n",
       "      <td>0.156900</td>\n",
       "    </tr>\n",
       "    <tr>\n",
       "      <th>Pretrained VGG16</th>\n",
       "      <td>0.356654</td>\n",
       "      <td>0.045061</td>\n",
       "      <td>0.212270</td>\n",
       "      <td>0.168052</td>\n",
       "    </tr>\n",
       "  </tbody>\n",
       "</table>\n",
       "</div>"
      ],
      "text/plain": [
       "                  r2_score       mse      rmse       mae\n",
       "Linear            0.364376  0.044520  0.210996  0.168605\n",
       "Dense             0.470804  0.037066  0.192524  0.156644\n",
       "Convolutional     0.472970  0.036914  0.192129  0.156900\n",
       "Pretrained VGG16  0.356654  0.045061  0.212270  0.168052"
      ]
     },
     "metadata": {},
     "output_type": "display_data"
    },
    {
     "data": {
      "text/html": [
       "<div>\n",
       "<style scoped>\n",
       "    .dataframe tbody tr th:only-of-type {\n",
       "        vertical-align: middle;\n",
       "    }\n",
       "\n",
       "    .dataframe tbody tr th {\n",
       "        vertical-align: top;\n",
       "    }\n",
       "\n",
       "    .dataframe thead th {\n",
       "        text-align: right;\n",
       "    }\n",
       "</style>\n",
       "<table border=\"1\" class=\"dataframe\">\n",
       "  <thead>\n",
       "    <tr style=\"text-align: right;\">\n",
       "      <th></th>\n",
       "      <th>r2_score</th>\n",
       "      <th>mse</th>\n",
       "      <th>rmse</th>\n",
       "      <th>mae</th>\n",
       "    </tr>\n",
       "  </thead>\n",
       "  <tbody>\n",
       "    <tr>\n",
       "      <th>Linear</th>\n",
       "      <td>0.005796</td>\n",
       "      <td>0.000432</td>\n",
       "      <td>0.001021</td>\n",
       "      <td>0.001438</td>\n",
       "    </tr>\n",
       "    <tr>\n",
       "      <th>Dense</th>\n",
       "      <td>0.001809</td>\n",
       "      <td>0.000106</td>\n",
       "      <td>0.000276</td>\n",
       "      <td>0.000276</td>\n",
       "    </tr>\n",
       "    <tr>\n",
       "      <th>Convolutional</th>\n",
       "      <td>0.002394</td>\n",
       "      <td>0.000160</td>\n",
       "      <td>0.000415</td>\n",
       "      <td>0.000530</td>\n",
       "    </tr>\n",
       "    <tr>\n",
       "      <th>Pretrained VGG16</th>\n",
       "      <td>0.010787</td>\n",
       "      <td>0.000732</td>\n",
       "      <td>0.001727</td>\n",
       "      <td>0.001599</td>\n",
       "    </tr>\n",
       "  </tbody>\n",
       "</table>\n",
       "</div>"
      ],
      "text/plain": [
       "                  r2_score       mse      rmse       mae\n",
       "Linear            0.005796  0.000432  0.001021  0.001438\n",
       "Dense             0.001809  0.000106  0.000276  0.000276\n",
       "Convolutional     0.002394  0.000160  0.000415  0.000530\n",
       "Pretrained VGG16  0.010787  0.000732  0.001727  0.001599"
      ]
     },
     "metadata": {},
     "output_type": "display_data"
    }
   ],
   "source": [
    "all_means = pd.DataFrame(\n",
    "    [\n",
    "        lin_means.iloc[0][['r2_score', 'mse', 'rmse', 'mae']],\n",
    "        dense_means.iloc[0][['r2_score', 'mse', 'rmse', 'mae']],\n",
    "        cnn_means.iloc[0][['r2_score', 'mse', 'rmse', 'mae']],\n",
    "        pretrained_means.iloc[0][['r2_score', 'mse', 'rmse', 'mae']]\n",
    "    ]\n",
    ").rename(\n",
    "    index={\n",
    "        'lin_mean': 'Linear',\n",
    "        'dense_mean': 'Dense',\n",
    "        'cnn_mean': 'Convolutional',\n",
    "        'pretrained_mean': 'Pretrained VGG16',\n",
    "    }\n",
    ")\n",
    "display(all_means)\n",
    "all_std = pd.DataFrame(\n",
    "    [\n",
    "        lin_means.iloc[1][['r2_score', 'mse', 'rmse', 'mae']],\n",
    "        dense_means.iloc[1][['r2_score', 'mse', 'rmse', 'mae']],\n",
    "        cnn_means.iloc[1][['r2_score', 'mse', 'rmse', 'mae']],\n",
    "        pretrained_means.iloc[1][['r2_score', 'mse', 'rmse', 'mae']],\n",
    "    ]\n",
    ").rename(\n",
    "    index={\n",
    "        'lin_std': 'Linear',\n",
    "        'dense_std': 'Dense',\n",
    "        'cnn_std': 'Convolutional',\n",
    "        'pretrained_std': 'Pretrained VGG16',\n",
    "    }\n",
    ")\n",
    "display(all_std)"
   ]
  },
  {
   "cell_type": "code",
   "execution_count": 19,
   "metadata": {},
   "outputs": [],
   "source": [
    "rows = all_means.index\n",
    "r2_str_array = np.zeros((1, all_means.shape[0]), dtype=object)\n",
    "for i in range(all_means.shape[0]):\n",
    "    r2_str_array[0, i] = r\"$\\underset{{\\num{{+- {:.3e} }}  }}{{\\num{{ {:.3g} }} }}$\".format(\n",
    "        all_std[\"r2_score\"][i], all_means[\"r2_score\"][i])\n",
    "        \n",
    "r2_df = pd.DataFrame(r2_str_array, columns=rows)\n",
    "\n",
    "section_path = \"chapters/results/figures/\"\n",
    "fname = THESIS_PATH + section_path + \"regression_simulated_double_position_r2.tex\"\n",
    "caption = \"\"\"\n",
    "Mean R2-scores for regresson of positions of origin, on double events in simulated data, using multiple models. \n",
    "Error estimates are the standard deviation in results from k-fold cross-validation \n",
    "with $K=5$ folds.\n",
    "\"\"\"\n",
    "label = \"tab:regression-simulated-double-position-r2\"\n",
    "with open(fname, \"w\") as fp:\n",
    "    pd.set_option('display.max_colwidth', -1)\n",
    "    r2_df.to_latex(fp, escape=False, caption=caption, label=label, index=False)\n"
   ]
  },
  {
   "cell_type": "markdown",
   "metadata": {},
   "source": [
    "### Energy"
   ]
  },
  {
   "cell_type": "markdown",
   "metadata": {},
   "source": [
    "#### Linear regression"
   ]
  },
  {
   "cell_type": "code",
   "execution_count": 20,
   "metadata": {},
   "outputs": [
    {
     "name": "stdout",
     "output_type": "stream",
     "text": [
      "dict_keys(['loss', 'optimizer', 'experiment_config', 'model_type', 'experiment_name', 'experiment_id', 'datetime', 'history', 'metrics'])\n"
     ]
    }
   ],
   "source": [
    "# Load linear regression experiment\n",
    "lin_ex_id = \"6e600e08e8af\"\n",
    "lin_ex = load_experiment(lin_ex_id)\n",
    "print(lin_ex.keys())\n",
    "#lin_model = tf.keras.models.load_model(repo_root + \"models/\" + lin_ex_id + \".h5\")\n",
    "\n",
    "lin_metrics = experiment_metrics_to_df(lin_ex)\n",
    "#display(lin_metrics)\n",
    "lin_means = lin_metrics.agg([np.mean, np.std])#.applymap('{:.3f}'.format)\n",
    "lin_means = lin_means.rename(index={'mean': 'lin_mean', 'std': 'lin_std'})\n",
    "#display(lin_means)"
   ]
  },
  {
   "cell_type": "markdown",
   "metadata": {},
   "source": [
    "#### Small dense network"
   ]
  },
  {
   "cell_type": "code",
   "execution_count": 21,
   "metadata": {},
   "outputs": [],
   "source": [
    "# Load dense regression experiment\n",
    "dense_ex_id = \"96cd3707d131\"\n",
    "dense_ex = load_experiment(dense_ex_id)\n",
    "#log_model = tf.keras.models.load_model(repo_root + \"models/\" + dense_ex_id + \".h5\")\n",
    "\n",
    "dense_metrics = experiment_metrics_to_df(dense_ex)\n",
    "#display(dense_metrics)\n",
    "dense_means = dense_metrics.agg([np.mean, np.std])#.applymap('{:.3f}'.format)\n",
    "dense_means = dense_means.rename(index={'mean': 'dense_mean', 'std': 'dense_std'})\n",
    "#display(dense_means)"
   ]
  },
  {
   "cell_type": "markdown",
   "metadata": {},
   "source": [
    "#### Small CNN"
   ]
  },
  {
   "cell_type": "code",
   "execution_count": 22,
   "metadata": {},
   "outputs": [],
   "source": [
    "# Load cnn regression experiment\n",
    "cnn_ex_id = \"f41605cb58b4\"\n",
    "cnn_ex = load_experiment(cnn_ex_id)\n",
    "#log_model = tf.keras.models.load_model(repo_root + \"models/\" + cnn_ex_id + \".h5\")\n",
    "\n",
    "cnn_metrics = experiment_metrics_to_df(cnn_ex)\n",
    "#(cnn_metrics)\n",
    "cnn_means = cnn_metrics.agg([np.mean, np.std])#.applymap('{:.3f}'.format)\n",
    "cnn_means = cnn_means.rename(index={'mean': 'cnn_mean', 'std': 'cnn_std'})\n",
    "#display(cnn_means)"
   ]
  },
  {
   "cell_type": "markdown",
   "metadata": {},
   "source": [
    "#### Pretrained - VGG16 "
   ]
  },
  {
   "cell_type": "code",
   "execution_count": 23,
   "metadata": {},
   "outputs": [],
   "source": [
    "# Load logistic regression experiment\n",
    "pretrained_ex_id = \"9f33b3fc7fff\"\n",
    "pretrained_ex = load_experiment(pretrained_ex_id)\n",
    "#log_model = tf.keras.models.load_model(repo_root + \"models/\" + pretrained_ex_id + \".h5\")\n",
    "\n",
    "pretrained_metrics = experiment_metrics_to_df(pretrained_ex)\n",
    "#display(pretrained_metrics)\n",
    "pretrained_means = pretrained_metrics.agg([np.mean, np.std])#.applymap('{:.3f}'.format)\n",
    "pretrained_means = pretrained_means.rename(index={'mean': 'pretrained_mean', 'std': 'pretrained_std'})\n",
    "#display(pretrained_means)"
   ]
  },
  {
   "cell_type": "markdown",
   "metadata": {},
   "source": [
    "#### Output"
   ]
  },
  {
   "cell_type": "code",
   "execution_count": 24,
   "metadata": {},
   "outputs": [
    {
     "data": {
      "text/html": [
       "<div>\n",
       "<style scoped>\n",
       "    .dataframe tbody tr th:only-of-type {\n",
       "        vertical-align: middle;\n",
       "    }\n",
       "\n",
       "    .dataframe tbody tr th {\n",
       "        vertical-align: top;\n",
       "    }\n",
       "\n",
       "    .dataframe thead th {\n",
       "        text-align: right;\n",
       "    }\n",
       "</style>\n",
       "<table border=\"1\" class=\"dataframe\">\n",
       "  <thead>\n",
       "    <tr style=\"text-align: right;\">\n",
       "      <th></th>\n",
       "      <th>r2_score</th>\n",
       "      <th>mse</th>\n",
       "      <th>rmse</th>\n",
       "      <th>mae</th>\n",
       "    </tr>\n",
       "  </thead>\n",
       "  <tbody>\n",
       "    <tr>\n",
       "      <th>Linear</th>\n",
       "      <td>0.414961</td>\n",
       "      <td>0.048761</td>\n",
       "      <td>0.220557</td>\n",
       "      <td>0.180021</td>\n",
       "    </tr>\n",
       "    <tr>\n",
       "      <th>Dense</th>\n",
       "      <td>0.415882</td>\n",
       "      <td>0.048684</td>\n",
       "      <td>0.220373</td>\n",
       "      <td>0.179935</td>\n",
       "    </tr>\n",
       "    <tr>\n",
       "      <th>Convolutional</th>\n",
       "      <td>0.427775</td>\n",
       "      <td>0.047692</td>\n",
       "      <td>0.218220</td>\n",
       "      <td>0.178296</td>\n",
       "    </tr>\n",
       "    <tr>\n",
       "      <th>Pretrained VGG16</th>\n",
       "      <td>0.404023</td>\n",
       "      <td>0.049670</td>\n",
       "      <td>0.222698</td>\n",
       "      <td>0.180016</td>\n",
       "    </tr>\n",
       "  </tbody>\n",
       "</table>\n",
       "</div>"
      ],
      "text/plain": [
       "                  r2_score       mse      rmse       mae\n",
       "Linear            0.414961  0.048761  0.220557  0.180021\n",
       "Dense             0.415882  0.048684  0.220373  0.179935\n",
       "Convolutional     0.427775  0.047692  0.218220  0.178296\n",
       "Pretrained VGG16  0.404023  0.049670  0.222698  0.180016"
      ]
     },
     "metadata": {},
     "output_type": "display_data"
    },
    {
     "data": {
      "text/html": [
       "<div>\n",
       "<style scoped>\n",
       "    .dataframe tbody tr th:only-of-type {\n",
       "        vertical-align: middle;\n",
       "    }\n",
       "\n",
       "    .dataframe tbody tr th {\n",
       "        vertical-align: top;\n",
       "    }\n",
       "\n",
       "    .dataframe thead th {\n",
       "        text-align: right;\n",
       "    }\n",
       "</style>\n",
       "<table border=\"1\" class=\"dataframe\">\n",
       "  <thead>\n",
       "    <tr style=\"text-align: right;\">\n",
       "      <th></th>\n",
       "      <th>r2_score</th>\n",
       "      <th>mse</th>\n",
       "      <th>rmse</th>\n",
       "      <th>mae</th>\n",
       "    </tr>\n",
       "  </thead>\n",
       "  <tbody>\n",
       "    <tr>\n",
       "      <th>Linear</th>\n",
       "      <td>0.065006</td>\n",
       "      <td>0.005467</td>\n",
       "      <td>0.012013</td>\n",
       "      <td>0.009753</td>\n",
       "    </tr>\n",
       "    <tr>\n",
       "      <th>Dense</th>\n",
       "      <td>0.066321</td>\n",
       "      <td>0.005576</td>\n",
       "      <td>0.012252</td>\n",
       "      <td>0.009961</td>\n",
       "    </tr>\n",
       "    <tr>\n",
       "      <th>Convolutional</th>\n",
       "      <td>0.050267</td>\n",
       "      <td>0.004236</td>\n",
       "      <td>0.009484</td>\n",
       "      <td>0.007782</td>\n",
       "    </tr>\n",
       "    <tr>\n",
       "      <th>Pretrained VGG16</th>\n",
       "      <td>0.053075</td>\n",
       "      <td>0.004462</td>\n",
       "      <td>0.009740</td>\n",
       "      <td>0.006903</td>\n",
       "    </tr>\n",
       "  </tbody>\n",
       "</table>\n",
       "</div>"
      ],
      "text/plain": [
       "                  r2_score       mse      rmse       mae\n",
       "Linear            0.065006  0.005467  0.012013  0.009753\n",
       "Dense             0.066321  0.005576  0.012252  0.009961\n",
       "Convolutional     0.050267  0.004236  0.009484  0.007782\n",
       "Pretrained VGG16  0.053075  0.004462  0.009740  0.006903"
      ]
     },
     "metadata": {},
     "output_type": "display_data"
    }
   ],
   "source": [
    "all_means = pd.DataFrame(\n",
    "    [\n",
    "        lin_means.iloc[0][['r2_score', 'mse', 'rmse', 'mae']],\n",
    "        dense_means.iloc[0][['r2_score', 'mse', 'rmse', 'mae']],\n",
    "        cnn_means.iloc[0][['r2_score', 'mse', 'rmse', 'mae']],\n",
    "        pretrained_means.iloc[0][['r2_score', 'mse', 'rmse', 'mae']]\n",
    "    ]\n",
    ").rename(\n",
    "    index={\n",
    "        'lin_mean': 'Linear',\n",
    "        'dense_mean': 'Dense',\n",
    "        'cnn_mean': 'Convolutional',\n",
    "        'pretrained_mean': 'Pretrained VGG16',\n",
    "    }\n",
    ")\n",
    "display(all_means)\n",
    "all_std = pd.DataFrame(\n",
    "    [\n",
    "        lin_means.iloc[1][['r2_score', 'mse', 'rmse', 'mae']],\n",
    "        dense_means.iloc[1][['r2_score', 'mse', 'rmse', 'mae']],\n",
    "        cnn_means.iloc[1][['r2_score', 'mse', 'rmse', 'mae']],\n",
    "        pretrained_means.iloc[1][['r2_score', 'mse', 'rmse', 'mae']],\n",
    "    ]\n",
    ").rename(\n",
    "    index={\n",
    "        'lin_std': 'Linear',\n",
    "        'dense_std': 'Dense',\n",
    "        'cnn_std': 'Convolutional',\n",
    "        'pretrained_std': 'Pretrained VGG16',\n",
    "    }\n",
    ")\n",
    "display(all_std)"
   ]
  },
  {
   "cell_type": "code",
   "execution_count": 25,
   "metadata": {},
   "outputs": [],
   "source": [
    "rows = all_means.index\n",
    "r2_str_array = np.zeros((1, all_means.shape[0]), dtype=object)\n",
    "for i in range(all_means.shape[0]):\n",
    "    r2_str_array[0, i] = r\"$\\underset{{\\num{{+- {:.3e} }}  }}{{\\num{{ {:.3g} }} }}$\".format(\n",
    "        all_std[\"r2_score\"][i], all_means[\"r2_score\"][i])\n",
    "        \n",
    "r2_df = pd.DataFrame(r2_str_array, columns=rows)\n",
    "\n",
    "section_path = \"chapters/results/figures/\"\n",
    "fname = THESIS_PATH + section_path + \"regression_simulated_double_energy_r2.tex\"\n",
    "caption = \"\"\"\n",
    "Mean R2-scores for regresson of energy values, on double events in simulated data, using multiple models. \n",
    "Error estimates are the standard deviation in results from k-fold cross-validation \n",
    "with $K=5$ folds.\n",
    "\"\"\"\n",
    "label = \"tab:regression-simulated-double-energy-r2\"\n",
    "with open(fname, \"w\") as fp:\n",
    "    pd.set_option('display.max_colwidth', -1)\n",
    "    r2_df.to_latex(fp, escape=False, caption=caption, label=label, index=False)\n"
   ]
  },
  {
   "cell_type": "code",
   "execution_count": 26,
   "metadata": {},
   "outputs": [],
   "source": [
    "# Load logistic regression experiment\n",
    "cnn_ex_id = \"1cac590bf1fe\"\n",
    "cnn_ex = load_experiment(cnn_ex_id)\n",
    "#log_model = tf.keras.models.load_model(repo_root + \"models/\" + cnn_ex_id + \".h5\")\n",
    "\n",
    "cnn_metrics = experiment_metrics_to_df(cnn_ex)\n",
    "#display(cnn_metrics)\n",
    "cnn_means = cnn_metrics.agg([np.mean, np.std])#.applymap('{:.3f}'.format)\n",
    "cnn_means = cnn_means.rename(index={'mean': 'cnn_mean', 'std': 'cnn_std'})\n",
    "#display(cnn_means)"
   ]
  },
  {
   "cell_type": "markdown",
   "metadata": {},
   "source": [
    "# Pre-processed simulated data - Pixel modified\n",
    "This is the basic metrics for all the models trained on simulated data.\n",
    "The basic pre-processing includes formatting and min-max normalization.\n",
    "Additionally, the data has had the top and bottom lines of pixels set to 0, plus\n",
    "one pixel inside the detector permanently 0 (which idx again?)."
   ]
  },
  {
   "cell_type": "markdown",
   "metadata": {},
   "source": [
    "## Single events"
   ]
  },
  {
   "cell_type": "markdown",
   "metadata": {},
   "source": [
    "### Positions"
   ]
  },
  {
   "cell_type": "markdown",
   "metadata": {},
   "source": [
    "#### Linear Regression"
   ]
  },
  {
   "cell_type": "code",
   "execution_count": 53,
   "metadata": {},
   "outputs": [
    {
     "name": "stdout",
     "output_type": "stream",
     "text": [
      "dict_keys(['loss', 'optimizer', 'experiment_config', 'model_type', 'experiment_name', 'experiment_id', 'datetime', 'history', 'metrics'])\n"
     ]
    }
   ],
   "source": [
    "# Load linear regression experiment\n",
    "lin_ex_id = \"d65ec088580a\"\n",
    "lin_ex = load_experiment(lin_ex_id)\n",
    "print(lin_ex.keys())\n",
    "#lin_model = tf.keras.models.load_model(repo_root + \"models/\" + lin_ex_id + \".h5\")\n",
    "\n",
    "lin_metrics = experiment_metrics_to_df(lin_ex)\n",
    "#display(lin_metrics)\n",
    "lin_means = lin_metrics.agg([np.mean, np.std])#.applymap('{:.3f}'.format)\n",
    "lin_means = lin_means.rename(index={'mean': 'lin_mean', 'std': 'lin_std'})\n",
    "#display(lin_means)"
   ]
  },
  {
   "cell_type": "markdown",
   "metadata": {},
   "source": [
    "#### Small dense network"
   ]
  },
  {
   "cell_type": "code",
   "execution_count": 54,
   "metadata": {},
   "outputs": [],
   "source": [
    "# Load logistic regression experiment\n",
    "dense_ex_id = \"2218dcb0de80\"\n",
    "dense_ex = load_experiment(dense_ex_id)\n",
    "#log_model = tf.keras.models.load_model(repo_root + \"models/\" + dense_ex_id + \".h5\")\n",
    "\n",
    "dense_metrics = experiment_metrics_to_df(dense_ex)\n",
    "#display(dense_metrics)\n",
    "dense_means = dense_metrics.agg([np.mean, np.std])#.applymap('{:.3f}'.format)\n",
    "dense_means = dense_means.rename(index={'mean': 'dense_mean', 'std': 'dense_std'})\n",
    "#display(dense_means)"
   ]
  },
  {
   "cell_type": "markdown",
   "metadata": {},
   "source": [
    "#### Small CNN"
   ]
  },
  {
   "cell_type": "code",
   "execution_count": 55,
   "metadata": {},
   "outputs": [],
   "source": [
    "# Load logistic regression experiment\n",
    "cnn_ex_id = \"3a70de184f3c\"\n",
    "cnn_ex = load_experiment(cnn_ex_id)\n",
    "#log_model = tf.keras.models.load_model(repo_root + \"models/\" + cnn_ex_id + \".h5\")\n",
    "\n",
    "cnn_metrics = experiment_metrics_to_df(cnn_ex)\n",
    "#display(cnn_metrics)\n",
    "cnn_means = cnn_metrics.agg([np.mean, np.std])#.applymap('{:.3f}'.format)\n",
    "cnn_means = cnn_means.rename(index={'mean': 'cnn_mean', 'std': 'cnn_std'})\n",
    "#display(cnn_means)"
   ]
  },
  {
   "cell_type": "markdown",
   "metadata": {},
   "source": [
    "#### Pretrained - VGG\n",
    "As an additional baseline for performance, we include a pretrained SOTA network\n",
    "where trained on the ImageNet database.\n",
    "\n",
    "Due to the size of our detector images (16x16) compared with the size the VGG network is\n",
    "designed for, we cannot use all layers in the VGG network. This stems from the use of max-pooling\n",
    "which effectively reduces the image size to half (8x8) each time the input is passed through such a\n",
    "layer. At some point our input is too small to pass through to the rest of the network.\n",
    "We therefore cut the network at the point where this becomes an issue.\n",
    "Alternatively, one could possibly keep the depth but remove max-pooling layers."
   ]
  },
  {
   "cell_type": "code",
   "execution_count": 56,
   "metadata": {},
   "outputs": [],
   "source": [
    "# Load logistic regression experiment\n",
    "pretrained_ex_id = \"b5223ba6beaa\"\n",
    "pretrained_ex = load_experiment(pretrained_ex_id)\n",
    "#log_model = tf.keras.models.load_model(repo_root + \"models/\" + pretrained_ex_id + \".h5\")\n",
    "\n",
    "pretrained_metrics = experiment_metrics_to_df(pretrained_ex)\n",
    "#display(pretrained_metrics)\n",
    "pretrained_means = pretrained_metrics.agg([np.mean, np.std])#.applymap('{:.3f}'.format)\n",
    "pretrained_means = pretrained_means.rename(index={'mean': 'pretrained_mean', 'std': 'pretrained_std'})\n",
    "#display(pretrained_means)"
   ]
  },
  {
   "cell_type": "markdown",
   "metadata": {},
   "source": [
    "#### Output\n",
    "We use the standard deviation in the folds as an error measure, and report the mean classification f1_score."
   ]
  },
  {
   "cell_type": "code",
   "execution_count": 57,
   "metadata": {},
   "outputs": [
    {
     "data": {
      "text/html": [
       "<div>\n",
       "<style scoped>\n",
       "    .dataframe tbody tr th:only-of-type {\n",
       "        vertical-align: middle;\n",
       "    }\n",
       "\n",
       "    .dataframe tbody tr th {\n",
       "        vertical-align: top;\n",
       "    }\n",
       "\n",
       "    .dataframe thead th {\n",
       "        text-align: right;\n",
       "    }\n",
       "</style>\n",
       "<table border=\"1\" class=\"dataframe\">\n",
       "  <thead>\n",
       "    <tr style=\"text-align: right;\">\n",
       "      <th></th>\n",
       "      <th>r2_score</th>\n",
       "      <th>mse</th>\n",
       "      <th>rmse</th>\n",
       "      <th>mae</th>\n",
       "    </tr>\n",
       "  </thead>\n",
       "  <tbody>\n",
       "    <tr>\n",
       "      <th>Linear</th>\n",
       "      <td>0.801988</td>\n",
       "      <td>0.013866</td>\n",
       "      <td>0.117750</td>\n",
       "      <td>0.089699</td>\n",
       "    </tr>\n",
       "    <tr>\n",
       "      <th>Dense</th>\n",
       "      <td>0.989232</td>\n",
       "      <td>0.000754</td>\n",
       "      <td>0.027381</td>\n",
       "      <td>0.017987</td>\n",
       "    </tr>\n",
       "    <tr>\n",
       "      <th>Convolutional</th>\n",
       "      <td>0.996090</td>\n",
       "      <td>0.000274</td>\n",
       "      <td>0.016424</td>\n",
       "      <td>0.010243</td>\n",
       "    </tr>\n",
       "    <tr>\n",
       "      <th>Pretrained VGG16</th>\n",
       "      <td>0.891886</td>\n",
       "      <td>0.007569</td>\n",
       "      <td>0.086795</td>\n",
       "      <td>0.055865</td>\n",
       "    </tr>\n",
       "  </tbody>\n",
       "</table>\n",
       "</div>"
      ],
      "text/plain": [
       "                  r2_score       mse      rmse       mae\n",
       "Linear            0.801988  0.013866  0.117750  0.089699\n",
       "Dense             0.989232  0.000754  0.027381  0.017987\n",
       "Convolutional     0.996090  0.000274  0.016424  0.010243\n",
       "Pretrained VGG16  0.891886  0.007569  0.086795  0.055865"
      ]
     },
     "metadata": {},
     "output_type": "display_data"
    },
    {
     "data": {
      "text/html": [
       "<div>\n",
       "<style scoped>\n",
       "    .dataframe tbody tr th:only-of-type {\n",
       "        vertical-align: middle;\n",
       "    }\n",
       "\n",
       "    .dataframe tbody tr th {\n",
       "        vertical-align: top;\n",
       "    }\n",
       "\n",
       "    .dataframe thead th {\n",
       "        text-align: right;\n",
       "    }\n",
       "</style>\n",
       "<table border=\"1\" class=\"dataframe\">\n",
       "  <thead>\n",
       "    <tr style=\"text-align: right;\">\n",
       "      <th></th>\n",
       "      <th>r2_score</th>\n",
       "      <th>mse</th>\n",
       "      <th>rmse</th>\n",
       "      <th>mae</th>\n",
       "    </tr>\n",
       "  </thead>\n",
       "  <tbody>\n",
       "    <tr>\n",
       "      <th>Linear</th>\n",
       "      <td>0.002737</td>\n",
       "      <td>0.000200</td>\n",
       "      <td>0.000845</td>\n",
       "      <td>0.001267</td>\n",
       "    </tr>\n",
       "    <tr>\n",
       "      <th>Dense</th>\n",
       "      <td>0.000680</td>\n",
       "      <td>0.000047</td>\n",
       "      <td>0.000827</td>\n",
       "      <td>0.000669</td>\n",
       "    </tr>\n",
       "    <tr>\n",
       "      <th>Convolutional</th>\n",
       "      <td>0.001015</td>\n",
       "      <td>0.000071</td>\n",
       "      <td>0.001954</td>\n",
       "      <td>0.001231</td>\n",
       "    </tr>\n",
       "    <tr>\n",
       "      <th>Pretrained VGG16</th>\n",
       "      <td>0.017231</td>\n",
       "      <td>0.001193</td>\n",
       "      <td>0.006636</td>\n",
       "      <td>0.007076</td>\n",
       "    </tr>\n",
       "  </tbody>\n",
       "</table>\n",
       "</div>"
      ],
      "text/plain": [
       "                  r2_score       mse      rmse       mae\n",
       "Linear            0.002737  0.000200  0.000845  0.001267\n",
       "Dense             0.000680  0.000047  0.000827  0.000669\n",
       "Convolutional     0.001015  0.000071  0.001954  0.001231\n",
       "Pretrained VGG16  0.017231  0.001193  0.006636  0.007076"
      ]
     },
     "metadata": {},
     "output_type": "display_data"
    }
   ],
   "source": [
    "all_means = pd.DataFrame(\n",
    "    [\n",
    "        lin_means.iloc[0][['r2_score', 'mse', 'rmse', 'mae']],\n",
    "        dense_means.iloc[0][['r2_score', 'mse', 'rmse', 'mae']],\n",
    "        cnn_means.iloc[0][['r2_score', 'mse', 'rmse', 'mae']],\n",
    "        pretrained_means.iloc[0][['r2_score', 'mse', 'rmse', 'mae']]\n",
    "    ]\n",
    ").rename(\n",
    "    index={\n",
    "        'lin_mean': 'Linear',\n",
    "        'dense_mean': 'Dense',\n",
    "        'cnn_mean': 'Convolutional',\n",
    "        'pretrained_mean': 'Pretrained VGG16',\n",
    "    }\n",
    ")\n",
    "display(all_means)\n",
    "all_std = pd.DataFrame(\n",
    "    [\n",
    "        lin_means.iloc[1][['r2_score', 'mse', 'rmse', 'mae']],\n",
    "        dense_means.iloc[1][['r2_score', 'mse', 'rmse', 'mae']],\n",
    "        cnn_means.iloc[1][['r2_score', 'mse', 'rmse', 'mae']],\n",
    "        pretrained_means.iloc[1][['r2_score', 'mse', 'rmse', 'mae']],\n",
    "    ]\n",
    ").rename(\n",
    "    index={\n",
    "        'lin_std': 'Linear',\n",
    "        'dense_std': 'Dense',\n",
    "        'cnn_std': 'Convolutional',\n",
    "        'pretrained_std': 'Pretrained VGG16',\n",
    "    }\n",
    ")\n",
    "display(all_std)"
   ]
  },
  {
   "cell_type": "code",
   "execution_count": 58,
   "metadata": {},
   "outputs": [],
   "source": [
    "rows = all_means.index\n",
    "r2_str_array = np.zeros((1, all_means.shape[0]), dtype=object)\n",
    "for i in range(all_means.shape[0]):\n",
    "    r2_str_array[0, i] = r\"$\\underset{{\\num{{+- {:.3e} }}  }}{{\\num{{ {:.3g} }} }}$\".format(\n",
    "        all_std[\"r2_score\"][i], all_means[\"r2_score\"][i])\n",
    "        \n",
    "r2_df = pd.DataFrame(r2_str_array, columns=rows)\n",
    "\n",
    "section_path = \"chapters/results/figures/\"\n",
    "fname = THESIS_PATH + section_path + \"regression_simulated_single_position_pixelmod_r2.tex\"\n",
    "caption = \"\"\"\n",
    "Mean R2-scores for regresson of positions of origin, on single events in simulated data with specific pixels\n",
    "set to zero, using multiple models. \n",
    "Error estimates are the standard deviation in results from k-fold cross-validation \n",
    "with $K=5$ folds.\n",
    "\"\"\"\n",
    "label = \"tab:regression-simulated-single-position-pixelmod-r2\"\n",
    "with open(fname, \"w\") as fp:\n",
    "    pd.set_option('display.max_colwidth', -1)\n",
    "    r2_df.to_latex(fp, escape=False, caption=caption, label=label, index=False)\n"
   ]
  },
  {
   "cell_type": "markdown",
   "metadata": {},
   "source": [
    "### Energy"
   ]
  },
  {
   "cell_type": "markdown",
   "metadata": {},
   "source": [
    "#### Linear regression"
   ]
  },
  {
   "cell_type": "code",
   "execution_count": 59,
   "metadata": {},
   "outputs": [],
   "source": [
    "# Load linear regression experiment\n",
    "lin_ex_id = \"7dfe302a7c09\"\n",
    "lin_ex = load_experiment(lin_ex_id)\n",
    "#print(lin_ex.keys())\n",
    "#lin_model = tf.keras.models.load_model(repo_root + \"models/\" + lin_ex_id + \".h5\")\n",
    "\n",
    "lin_metrics = experiment_metrics_to_df(lin_ex)\n",
    "#display(lin_metrics)\n",
    "lin_means = lin_metrics.agg([np.mean, np.std])#.applymap('{:.3f}'.format)\n",
    "lin_means = lin_means.rename(index={'mean': 'lin_mean', 'std': 'lin_std'})\n",
    "#display(lin_means)"
   ]
  },
  {
   "cell_type": "markdown",
   "metadata": {},
   "source": [
    "#### Small dense network"
   ]
  },
  {
   "cell_type": "code",
   "execution_count": 60,
   "metadata": {},
   "outputs": [],
   "source": [
    "# Load dense regression experiment\n",
    "dense_ex_id = \"2dbd6c697bc5\"\n",
    "dense_ex = load_experiment(dense_ex_id)\n",
    "#log_model = tf.keras.models.load_model(repo_root + \"models/\" + dense_ex_id + \".h5\")\n",
    "\n",
    "dense_metrics = experiment_metrics_to_df(dense_ex)\n",
    "#display(dense_metrics)\n",
    "dense_means = dense_metrics.agg([np.mean, np.std])#.applymap('{:.3f}'.format)\n",
    "dense_means = dense_means.rename(index={'mean': 'dense_mean', 'std': 'dense_std'})\n",
    "#display(dense_means)"
   ]
  },
  {
   "cell_type": "markdown",
   "metadata": {},
   "source": [
    "#### Small CNN"
   ]
  },
  {
   "cell_type": "code",
   "execution_count": 61,
   "metadata": {},
   "outputs": [],
   "source": [
    "# Load cnn regression experiment\n",
    "cnn_ex_id = \"fb0685871cf3\"\n",
    "cnn_ex = load_experiment(cnn_ex_id)\n",
    "#log_model = tf.keras.models.load_model(repo_root + \"models/\" + cnn_ex_id + \".h5\")\n",
    "\n",
    "cnn_metrics = experiment_metrics_to_df(cnn_ex)\n",
    "#display(cnn_metrics)\n",
    "cnn_means = cnn_metrics.agg([np.mean, np.std])#.applymap('{:.3f}'.format)\n",
    "cnn_means = cnn_means.rename(index={'mean': 'cnn_mean', 'std': 'cnn_std'})\n",
    "#display(cnn_means)"
   ]
  },
  {
   "cell_type": "markdown",
   "metadata": {},
   "source": [
    "#### Pretrained - VGG16 "
   ]
  },
  {
   "cell_type": "code",
   "execution_count": 62,
   "metadata": {},
   "outputs": [],
   "source": [
    "# Load logistic regression experiment\n",
    "pretrained_ex_id = \"8aa9f731b693\"\n",
    "pretrained_ex = load_experiment(pretrained_ex_id)\n",
    "#log_model = tf.keras.models.load_model(repo_root + \"models/\" + pretrained_ex_id + \".h5\")\n",
    "\n",
    "pretrained_metrics = experiment_metrics_to_df(pretrained_ex)\n",
    "#display(pretrained_metrics)\n",
    "pretrained_means = pretrained_metrics.agg([np.mean, np.std])#.applymap('{:.3f}'.format)\n",
    "pretrained_means = pretrained_means.rename(index={'mean': 'pretrained_mean', 'std': 'pretrained_std'})\n",
    "#display(pretrained_means)"
   ]
  },
  {
   "cell_type": "markdown",
   "metadata": {},
   "source": [
    "#### Output"
   ]
  },
  {
   "cell_type": "code",
   "execution_count": 63,
   "metadata": {},
   "outputs": [
    {
     "data": {
      "text/html": [
       "<div>\n",
       "<style scoped>\n",
       "    .dataframe tbody tr th:only-of-type {\n",
       "        vertical-align: middle;\n",
       "    }\n",
       "\n",
       "    .dataframe tbody tr th {\n",
       "        vertical-align: top;\n",
       "    }\n",
       "\n",
       "    .dataframe thead th {\n",
       "        text-align: right;\n",
       "    }\n",
       "</style>\n",
       "<table border=\"1\" class=\"dataframe\">\n",
       "  <thead>\n",
       "    <tr style=\"text-align: right;\">\n",
       "      <th></th>\n",
       "      <th>r2_score</th>\n",
       "      <th>mse</th>\n",
       "      <th>rmse</th>\n",
       "      <th>mae</th>\n",
       "    </tr>\n",
       "  </thead>\n",
       "  <tbody>\n",
       "    <tr>\n",
       "      <th>Linear</th>\n",
       "      <td>0.964666</td>\n",
       "      <td>0.002941</td>\n",
       "      <td>0.052249</td>\n",
       "      <td>0.033904</td>\n",
       "    </tr>\n",
       "    <tr>\n",
       "      <th>Dense</th>\n",
       "      <td>0.969530</td>\n",
       "      <td>0.002536</td>\n",
       "      <td>0.048247</td>\n",
       "      <td>0.030860</td>\n",
       "    </tr>\n",
       "    <tr>\n",
       "      <th>Convolutional</th>\n",
       "      <td>0.969354</td>\n",
       "      <td>0.002551</td>\n",
       "      <td>0.048118</td>\n",
       "      <td>0.029778</td>\n",
       "    </tr>\n",
       "    <tr>\n",
       "      <th>Pretrained VGG16</th>\n",
       "      <td>0.948964</td>\n",
       "      <td>0.004250</td>\n",
       "      <td>0.064735</td>\n",
       "      <td>0.045522</td>\n",
       "    </tr>\n",
       "  </tbody>\n",
       "</table>\n",
       "</div>"
      ],
      "text/plain": [
       "                  r2_score       mse      rmse       mae\n",
       "Linear            0.964666  0.002941  0.052249  0.033904\n",
       "Dense             0.969530  0.002536  0.048247  0.030860\n",
       "Convolutional     0.969354  0.002551  0.048118  0.029778\n",
       "Pretrained VGG16  0.948964  0.004250  0.064735  0.045522"
      ]
     },
     "metadata": {},
     "output_type": "display_data"
    },
    {
     "data": {
      "text/html": [
       "<div>\n",
       "<style scoped>\n",
       "    .dataframe tbody tr th:only-of-type {\n",
       "        vertical-align: middle;\n",
       "    }\n",
       "\n",
       "    .dataframe tbody tr th {\n",
       "        vertical-align: top;\n",
       "    }\n",
       "\n",
       "    .dataframe thead th {\n",
       "        text-align: right;\n",
       "    }\n",
       "</style>\n",
       "<table border=\"1\" class=\"dataframe\">\n",
       "  <thead>\n",
       "    <tr style=\"text-align: right;\">\n",
       "      <th></th>\n",
       "      <th>r2_score</th>\n",
       "      <th>mse</th>\n",
       "      <th>rmse</th>\n",
       "      <th>mae</th>\n",
       "    </tr>\n",
       "  </thead>\n",
       "  <tbody>\n",
       "    <tr>\n",
       "      <th>Linear</th>\n",
       "      <td>0.024595</td>\n",
       "      <td>0.002042</td>\n",
       "      <td>0.016237</td>\n",
       "      <td>0.018770</td>\n",
       "    </tr>\n",
       "    <tr>\n",
       "      <th>Dense</th>\n",
       "      <td>0.022607</td>\n",
       "      <td>0.001877</td>\n",
       "      <td>0.016135</td>\n",
       "      <td>0.019852</td>\n",
       "    </tr>\n",
       "    <tr>\n",
       "      <th>Convolutional</th>\n",
       "      <td>0.024045</td>\n",
       "      <td>0.001997</td>\n",
       "      <td>0.017148</td>\n",
       "      <td>0.021458</td>\n",
       "    </tr>\n",
       "    <tr>\n",
       "      <th>Pretrained VGG16</th>\n",
       "      <td>0.014177</td>\n",
       "      <td>0.001176</td>\n",
       "      <td>0.008603</td>\n",
       "      <td>0.011300</td>\n",
       "    </tr>\n",
       "  </tbody>\n",
       "</table>\n",
       "</div>"
      ],
      "text/plain": [
       "                  r2_score       mse      rmse       mae\n",
       "Linear            0.024595  0.002042  0.016237  0.018770\n",
       "Dense             0.022607  0.001877  0.016135  0.019852\n",
       "Convolutional     0.024045  0.001997  0.017148  0.021458\n",
       "Pretrained VGG16  0.014177  0.001176  0.008603  0.011300"
      ]
     },
     "metadata": {},
     "output_type": "display_data"
    }
   ],
   "source": [
    "all_means = pd.DataFrame(\n",
    "    [\n",
    "        lin_means.iloc[0][['r2_score', 'mse', 'rmse', 'mae']],\n",
    "        dense_means.iloc[0][['r2_score', 'mse', 'rmse', 'mae']],\n",
    "        cnn_means.iloc[0][['r2_score', 'mse', 'rmse', 'mae']],\n",
    "        pretrained_means.iloc[0][['r2_score', 'mse', 'rmse', 'mae']]\n",
    "    ]\n",
    ").rename(\n",
    "    index={\n",
    "        'lin_mean': 'Linear',\n",
    "        'dense_mean': 'Dense',\n",
    "        'cnn_mean': 'Convolutional',\n",
    "        'pretrained_mean': 'Pretrained VGG16',\n",
    "    }\n",
    ")\n",
    "display(all_means)\n",
    "all_std = pd.DataFrame(\n",
    "    [\n",
    "        lin_means.iloc[1][['r2_score', 'mse', 'rmse', 'mae']],\n",
    "        dense_means.iloc[1][['r2_score', 'mse', 'rmse', 'mae']],\n",
    "        cnn_means.iloc[1][['r2_score', 'mse', 'rmse', 'mae']],\n",
    "        pretrained_means.iloc[1][['r2_score', 'mse', 'rmse', 'mae']],\n",
    "    ]\n",
    ").rename(\n",
    "    index={\n",
    "        'lin_std': 'Linear',\n",
    "        'dense_std': 'Dense',\n",
    "        'cnn_std': 'Convolutional',\n",
    "        'pretrained_std': 'Pretrained VGG16',\n",
    "    }\n",
    ")\n",
    "display(all_std)"
   ]
  },
  {
   "cell_type": "code",
   "execution_count": 64,
   "metadata": {},
   "outputs": [],
   "source": [
    "rows = all_means.index\n",
    "r2_str_array = np.zeros((1, all_means.shape[0]), dtype=object)\n",
    "for i in range(all_means.shape[0]):\n",
    "    r2_str_array[0, i] = r\"$\\underset{{\\num{{+- {:.3e} }}  }}{{\\num{{ {:.3g} }} }}$\".format(\n",
    "        all_std[\"r2_score\"][i], all_means[\"r2_score\"][i])\n",
    "        \n",
    "r2_df = pd.DataFrame(r2_str_array, columns=rows)\n",
    "\n",
    "section_path = \"chapters/results/figures/\"\n",
    "fname = THESIS_PATH + section_path + \"regression_simulated_single_energy_pixelmod_r2.tex\"\n",
    "caption = \"\"\"\n",
    "Mean R2-scores for regresson of energy values, on single events in simulated data with specific pixels\n",
    "set to zero, using multiple models. \n",
    "Error estimates are the standard deviation in results from k-fold cross-validation \n",
    "with $K=5$ folds.\n",
    "\"\"\"\n",
    "label = \"tab:regression-simulated-single-energy-pixelmod-r2\"\n",
    "with open(fname, \"w\") as fp:\n",
    "    pd.set_option('display.max_colwidth', -1)\n",
    "    r2_df.to_latex(fp, escape=False, caption=caption, label=label, index=False)\n"
   ]
  },
  {
   "cell_type": "markdown",
   "metadata": {},
   "source": [
    "## Double events"
   ]
  },
  {
   "cell_type": "markdown",
   "metadata": {},
   "source": [
    "### Positions"
   ]
  },
  {
   "cell_type": "markdown",
   "metadata": {},
   "source": [
    "#### Linear Regression"
   ]
  },
  {
   "cell_type": "code",
   "execution_count": 65,
   "metadata": {},
   "outputs": [
    {
     "name": "stdout",
     "output_type": "stream",
     "text": [
      "dict_keys(['loss', 'optimizer', 'experiment_config', 'model_type', 'experiment_name', 'experiment_id', 'datetime', 'history', 'metrics'])\n"
     ]
    }
   ],
   "source": [
    "# Load linear regression experiment\n",
    "lin_ex_id = \"2c62e711e234\"\n",
    "lin_ex = load_experiment(lin_ex_id)\n",
    "print(lin_ex.keys())\n",
    "#lin_model = tf.keras.models.load_model(repo_root + \"models/\" + lin_ex_id + \".h5\")\n",
    "\n",
    "lin_metrics = experiment_metrics_to_df(lin_ex)\n",
    "#display(lin_metrics)\n",
    "lin_means = lin_metrics.agg([np.mean, np.std])#.applymap('{:.3f}'.format)\n",
    "lin_means = lin_means.rename(index={'mean': 'lin_mean', 'std': 'lin_std'})\n",
    "#display(lin_means)"
   ]
  },
  {
   "cell_type": "markdown",
   "metadata": {},
   "source": [
    "#### Small dense network"
   ]
  },
  {
   "cell_type": "code",
   "execution_count": 66,
   "metadata": {},
   "outputs": [],
   "source": [
    "# Load logistic regression experiment\n",
    "dense_ex_id = \"4cea43be5aa4\"\n",
    "dense_ex = load_experiment(dense_ex_id)\n",
    "#log_model = tf.keras.models.load_model(repo_root + \"models/\" + dense_ex_id + \".h5\")\n",
    "\n",
    "dense_metrics = experiment_metrics_to_df(dense_ex)\n",
    "#display(dense_metrics)\n",
    "dense_means = dense_metrics.agg([np.mean, np.std])#.applymap('{:.3f}'.format)\n",
    "dense_means = dense_means.rename(index={'mean': 'dense_mean', 'std': 'dense_std'})\n",
    "#display(dense_means)"
   ]
  },
  {
   "cell_type": "markdown",
   "metadata": {},
   "source": [
    "#### Small CNN"
   ]
  },
  {
   "cell_type": "code",
   "execution_count": 67,
   "metadata": {},
   "outputs": [],
   "source": [
    "# Load logistic regression experiment\n",
    "cnn_ex_id = \"7960fa803199\"\n",
    "cnn_ex = load_experiment(cnn_ex_id)\n",
    "#log_model = tf.keras.models.load_model(repo_root + \"models/\" + cnn_ex_id + \".h5\")\n",
    "\n",
    "cnn_metrics = experiment_metrics_to_df(cnn_ex)\n",
    "#display(cnn_metrics)\n",
    "cnn_means = cnn_metrics.agg([np.mean, np.std])#.applymap('{:.3f}'.format)\n",
    "cnn_means = cnn_means.rename(index={'mean': 'cnn_mean', 'std': 'cnn_std'})\n",
    "#display(cnn_means)"
   ]
  },
  {
   "cell_type": "markdown",
   "metadata": {},
   "source": [
    "#### Pretrained - VGG\n",
    "As an additional baseline for performance, we include a pretrained SOTA network\n",
    "where trained on the ImageNet database.\n",
    "\n",
    "Due to the size of our detector images (16x16) compared with the size the VGG network is\n",
    "designed for, we cannot use all layers in the VGG network. This stems from the use of max-pooling\n",
    "which effectively reduces the image size to half (8x8) each time the input is passed through such a\n",
    "layer. At some point our input is too small to pass through to the rest of the network.\n",
    "We therefore cut the network at the point where this becomes an issue.\n",
    "Alternatively, one could possibly keep the depth but remove max-pooling layers."
   ]
  },
  {
   "cell_type": "code",
   "execution_count": 68,
   "metadata": {},
   "outputs": [],
   "source": [
    "# Load logistic regression experiment\n",
    "pretrained_ex_id = \"4f70fd9e6d8a\"\n",
    "pretrained_ex = load_experiment(pretrained_ex_id)\n",
    "#log_model = tf.keras.models.load_model(repo_root + \"models/\" + pretrained_ex_id + \".h5\")\n",
    "\n",
    "pretrained_metrics = experiment_metrics_to_df(pretrained_ex)\n",
    "#display(pretrained_metrics)\n",
    "pretrained_means = pretrained_metrics.agg([np.mean, np.std])#.applymap('{:.3f}'.format)\n",
    "pretrained_means = pretrained_means.rename(index={'mean': 'pretrained_mean', 'std': 'pretrained_std'})\n",
    "#display(pretrained_means)"
   ]
  },
  {
   "cell_type": "markdown",
   "metadata": {},
   "source": [
    "#### Output\n",
    "We use the standard deviation in the folds as an error measure, and report the mean classification f1_score."
   ]
  },
  {
   "cell_type": "code",
   "execution_count": 69,
   "metadata": {},
   "outputs": [
    {
     "data": {
      "text/html": [
       "<div>\n",
       "<style scoped>\n",
       "    .dataframe tbody tr th:only-of-type {\n",
       "        vertical-align: middle;\n",
       "    }\n",
       "\n",
       "    .dataframe tbody tr th {\n",
       "        vertical-align: top;\n",
       "    }\n",
       "\n",
       "    .dataframe thead th {\n",
       "        text-align: right;\n",
       "    }\n",
       "</style>\n",
       "<table border=\"1\" class=\"dataframe\">\n",
       "  <thead>\n",
       "    <tr style=\"text-align: right;\">\n",
       "      <th></th>\n",
       "      <th>r2_score</th>\n",
       "      <th>mse</th>\n",
       "      <th>rmse</th>\n",
       "      <th>mae</th>\n",
       "    </tr>\n",
       "  </thead>\n",
       "  <tbody>\n",
       "    <tr>\n",
       "      <th>Linear</th>\n",
       "      <td>0.370087</td>\n",
       "      <td>0.044120</td>\n",
       "      <td>0.210047</td>\n",
       "      <td>0.168765</td>\n",
       "    </tr>\n",
       "    <tr>\n",
       "      <th>Dense</th>\n",
       "      <td>0.470104</td>\n",
       "      <td>0.037115</td>\n",
       "      <td>0.192651</td>\n",
       "      <td>0.156682</td>\n",
       "    </tr>\n",
       "    <tr>\n",
       "      <th>Convolutional</th>\n",
       "      <td>0.472211</td>\n",
       "      <td>0.036967</td>\n",
       "      <td>0.192268</td>\n",
       "      <td>0.156934</td>\n",
       "    </tr>\n",
       "    <tr>\n",
       "      <th>Pretrained VGG16</th>\n",
       "      <td>0.354716</td>\n",
       "      <td>0.045197</td>\n",
       "      <td>0.212585</td>\n",
       "      <td>0.168089</td>\n",
       "    </tr>\n",
       "  </tbody>\n",
       "</table>\n",
       "</div>"
      ],
      "text/plain": [
       "                  r2_score       mse      rmse       mae\n",
       "Linear            0.370087  0.044120  0.210047  0.168765\n",
       "Dense             0.470104  0.037115  0.192651  0.156682\n",
       "Convolutional     0.472211  0.036967  0.192268  0.156934\n",
       "Pretrained VGG16  0.354716  0.045197  0.212585  0.168089"
      ]
     },
     "metadata": {},
     "output_type": "display_data"
    },
    {
     "data": {
      "text/html": [
       "<div>\n",
       "<style scoped>\n",
       "    .dataframe tbody tr th:only-of-type {\n",
       "        vertical-align: middle;\n",
       "    }\n",
       "\n",
       "    .dataframe tbody tr th {\n",
       "        vertical-align: top;\n",
       "    }\n",
       "\n",
       "    .dataframe thead th {\n",
       "        text-align: right;\n",
       "    }\n",
       "</style>\n",
       "<table border=\"1\" class=\"dataframe\">\n",
       "  <thead>\n",
       "    <tr style=\"text-align: right;\">\n",
       "      <th></th>\n",
       "      <th>r2_score</th>\n",
       "      <th>mse</th>\n",
       "      <th>rmse</th>\n",
       "      <th>mae</th>\n",
       "    </tr>\n",
       "  </thead>\n",
       "  <tbody>\n",
       "    <tr>\n",
       "      <th>Linear</th>\n",
       "      <td>0.000680</td>\n",
       "      <td>0.000061</td>\n",
       "      <td>0.000145</td>\n",
       "      <td>0.000445</td>\n",
       "    </tr>\n",
       "    <tr>\n",
       "      <th>Dense</th>\n",
       "      <td>0.000866</td>\n",
       "      <td>0.000087</td>\n",
       "      <td>0.000225</td>\n",
       "      <td>0.000225</td>\n",
       "    </tr>\n",
       "    <tr>\n",
       "      <th>Convolutional</th>\n",
       "      <td>0.001841</td>\n",
       "      <td>0.000137</td>\n",
       "      <td>0.000357</td>\n",
       "      <td>0.000637</td>\n",
       "    </tr>\n",
       "    <tr>\n",
       "      <th>Pretrained VGG16</th>\n",
       "      <td>0.013968</td>\n",
       "      <td>0.000985</td>\n",
       "      <td>0.002309</td>\n",
       "      <td>0.002105</td>\n",
       "    </tr>\n",
       "  </tbody>\n",
       "</table>\n",
       "</div>"
      ],
      "text/plain": [
       "                  r2_score       mse      rmse       mae\n",
       "Linear            0.000680  0.000061  0.000145  0.000445\n",
       "Dense             0.000866  0.000087  0.000225  0.000225\n",
       "Convolutional     0.001841  0.000137  0.000357  0.000637\n",
       "Pretrained VGG16  0.013968  0.000985  0.002309  0.002105"
      ]
     },
     "metadata": {},
     "output_type": "display_data"
    }
   ],
   "source": [
    "all_means = pd.DataFrame(\n",
    "    [\n",
    "        lin_means.iloc[0][['r2_score', 'mse', 'rmse', 'mae']],\n",
    "        dense_means.iloc[0][['r2_score', 'mse', 'rmse', 'mae']],\n",
    "        cnn_means.iloc[0][['r2_score', 'mse', 'rmse', 'mae']],\n",
    "        pretrained_means.iloc[0][['r2_score', 'mse', 'rmse', 'mae']]\n",
    "    ]\n",
    ").rename(\n",
    "    index={\n",
    "        'lin_mean': 'Linear',\n",
    "        'dense_mean': 'Dense',\n",
    "        'cnn_mean': 'Convolutional',\n",
    "        'pretrained_mean': 'Pretrained VGG16',\n",
    "    }\n",
    ")\n",
    "display(all_means)\n",
    "all_std = pd.DataFrame(\n",
    "    [\n",
    "        lin_means.iloc[1][['r2_score', 'mse', 'rmse', 'mae']],\n",
    "        dense_means.iloc[1][['r2_score', 'mse', 'rmse', 'mae']],\n",
    "        cnn_means.iloc[1][['r2_score', 'mse', 'rmse', 'mae']],\n",
    "        pretrained_means.iloc[1][['r2_score', 'mse', 'rmse', 'mae']],\n",
    "    ]\n",
    ").rename(\n",
    "    index={\n",
    "        'lin_std': 'Linear',\n",
    "        'dense_std': 'Dense',\n",
    "        'cnn_std': 'Convolutional',\n",
    "        'pretrained_std': 'Pretrained VGG16',\n",
    "    }\n",
    ")\n",
    "display(all_std)"
   ]
  },
  {
   "cell_type": "code",
   "execution_count": 70,
   "metadata": {},
   "outputs": [],
   "source": [
    "rows = all_means.index\n",
    "r2_str_array = np.zeros((1, all_means.shape[0]), dtype=object)\n",
    "for i in range(all_means.shape[0]):\n",
    "    r2_str_array[0, i] = r\"$\\underset{{\\num{{+- {:.3e} }}  }}{{\\num{{ {:.3g} }} }}$\".format(\n",
    "        all_std[\"r2_score\"][i], all_means[\"r2_score\"][i])\n",
    "        \n",
    "r2_df = pd.DataFrame(r2_str_array, columns=rows)\n",
    "\n",
    "section_path = \"chapters/results/figures/\"\n",
    "fname = THESIS_PATH + section_path + \"regression_simulated_double_position_pixelmod_r2.tex\"\n",
    "caption = \"\"\"\n",
    "Mean R2-scores for regresson of positions of origin, on double events in simulated data with specific pixels\n",
    "set to zero, using multiple models. \n",
    "Error estimates are the standard deviation in results from k-fold cross-validation \n",
    "with $K=5$ folds.\n",
    "\"\"\"\n",
    "label = \"tab:regression-simulated-double-position-pixelmod-r2\"\n",
    "with open(fname, \"w\") as fp:\n",
    "    pd.set_option('display.max_colwidth', -1)\n",
    "    r2_df.to_latex(fp, escape=False, caption=caption, label=label, index=False)\n"
   ]
  },
  {
   "cell_type": "markdown",
   "metadata": {},
   "source": [
    "### Energy"
   ]
  },
  {
   "cell_type": "markdown",
   "metadata": {},
   "source": [
    "#### Linear regression"
   ]
  },
  {
   "cell_type": "code",
   "execution_count": 71,
   "metadata": {},
   "outputs": [
    {
     "name": "stdout",
     "output_type": "stream",
     "text": [
      "dict_keys(['loss', 'optimizer', 'experiment_config', 'model_type', 'experiment_name', 'experiment_id', 'datetime', 'history', 'metrics'])\n"
     ]
    }
   ],
   "source": [
    "# Load linear regression experiment\n",
    "lin_ex_id = \"fcc62faf0d97\"\n",
    "lin_ex = load_experiment(lin_ex_id)\n",
    "print(lin_ex.keys())\n",
    "#lin_model = tf.keras.models.load_model(repo_root + \"models/\" + lin_ex_id + \".h5\")\n",
    "\n",
    "lin_metrics = experiment_metrics_to_df(lin_ex)\n",
    "#display(lin_metrics)\n",
    "lin_means = lin_metrics.agg([np.mean, np.std])#.applymap('{:.3f}'.format)\n",
    "lin_means = lin_means.rename(index={'mean': 'lin_mean', 'std': 'lin_std'})\n",
    "#display(lin_means)"
   ]
  },
  {
   "cell_type": "markdown",
   "metadata": {},
   "source": [
    "#### Small dense network"
   ]
  },
  {
   "cell_type": "code",
   "execution_count": 72,
   "metadata": {},
   "outputs": [],
   "source": [
    "# Load dense regression experiment\n",
    "dense_ex_id = \"0c1eb0cbcceb\"\n",
    "dense_ex = load_experiment(dense_ex_id)\n",
    "#log_model = tf.keras.models.load_model(repo_root + \"models/\" + dense_ex_id + \".h5\")\n",
    "\n",
    "dense_metrics = experiment_metrics_to_df(dense_ex)\n",
    "#display(dense_metrics)\n",
    "dense_means = dense_metrics.agg([np.mean, np.std])#.applymap('{:.3f}'.format)\n",
    "dense_means = dense_means.rename(index={'mean': 'dense_mean', 'std': 'dense_std'})\n",
    "#display(dense_means)"
   ]
  },
  {
   "cell_type": "markdown",
   "metadata": {},
   "source": [
    "#### Small CNN"
   ]
  },
  {
   "cell_type": "code",
   "execution_count": 73,
   "metadata": {},
   "outputs": [],
   "source": [
    "# Load cnn regression experiment\n",
    "cnn_ex_id = \"85a088b1c550\"\n",
    "cnn_ex = load_experiment(cnn_ex_id)\n",
    "#log_model = tf.keras.models.load_model(repo_root + \"models/\" + cnn_ex_id + \".h5\")\n",
    "\n",
    "cnn_metrics = experiment_metrics_to_df(cnn_ex)\n",
    "#(cnn_metrics)\n",
    "cnn_means = cnn_metrics.agg([np.mean, np.std])#.applymap('{:.3f}'.format)\n",
    "cnn_means = cnn_means.rename(index={'mean': 'cnn_mean', 'std': 'cnn_std'})\n",
    "#display(cnn_means)"
   ]
  },
  {
   "cell_type": "markdown",
   "metadata": {},
   "source": [
    "#### Pretrained - VGG16 "
   ]
  },
  {
   "cell_type": "code",
   "execution_count": 74,
   "metadata": {},
   "outputs": [],
   "source": [
    "# Load logistic regression experiment\n",
    "pretrained_ex_id = \"e9484282c396\"\n",
    "pretrained_ex = load_experiment(pretrained_ex_id)\n",
    "#log_model = tf.keras.models.load_model(repo_root + \"models/\" + pretrained_ex_id + \".h5\")\n",
    "\n",
    "pretrained_metrics = experiment_metrics_to_df(pretrained_ex)\n",
    "#display(pretrained_metrics)\n",
    "pretrained_means = pretrained_metrics.agg([np.mean, np.std])#.applymap('{:.3f}'.format)\n",
    "pretrained_means = pretrained_means.rename(index={'mean': 'pretrained_mean', 'std': 'pretrained_std'})\n",
    "#display(pretrained_means)"
   ]
  },
  {
   "cell_type": "markdown",
   "metadata": {},
   "source": [
    "#### Output"
   ]
  },
  {
   "cell_type": "code",
   "execution_count": 75,
   "metadata": {},
   "outputs": [
    {
     "data": {
      "text/html": [
       "<div>\n",
       "<style scoped>\n",
       "    .dataframe tbody tr th:only-of-type {\n",
       "        vertical-align: middle;\n",
       "    }\n",
       "\n",
       "    .dataframe tbody tr th {\n",
       "        vertical-align: top;\n",
       "    }\n",
       "\n",
       "    .dataframe thead th {\n",
       "        text-align: right;\n",
       "    }\n",
       "</style>\n",
       "<table border=\"1\" class=\"dataframe\">\n",
       "  <thead>\n",
       "    <tr style=\"text-align: right;\">\n",
       "      <th></th>\n",
       "      <th>r2_score</th>\n",
       "      <th>mse</th>\n",
       "      <th>rmse</th>\n",
       "      <th>mae</th>\n",
       "    </tr>\n",
       "  </thead>\n",
       "  <tbody>\n",
       "    <tr>\n",
       "      <th>Linear</th>\n",
       "      <td>0.484603</td>\n",
       "      <td>0.042953</td>\n",
       "      <td>0.207250</td>\n",
       "      <td>0.168947</td>\n",
       "    </tr>\n",
       "    <tr>\n",
       "      <th>Dense</th>\n",
       "      <td>0.487232</td>\n",
       "      <td>0.042734</td>\n",
       "      <td>0.206721</td>\n",
       "      <td>0.168575</td>\n",
       "    </tr>\n",
       "    <tr>\n",
       "      <th>Convolutional</th>\n",
       "      <td>0.487043</td>\n",
       "      <td>0.042750</td>\n",
       "      <td>0.206759</td>\n",
       "      <td>0.168580</td>\n",
       "    </tr>\n",
       "    <tr>\n",
       "      <th>Pretrained VGG16</th>\n",
       "      <td>0.447127</td>\n",
       "      <td>0.046075</td>\n",
       "      <td>0.214644</td>\n",
       "      <td>0.174160</td>\n",
       "    </tr>\n",
       "  </tbody>\n",
       "</table>\n",
       "</div>"
      ],
      "text/plain": [
       "                  r2_score       mse      rmse       mae\n",
       "Linear            0.484603  0.042953  0.207250  0.168947\n",
       "Dense             0.487232  0.042734  0.206721  0.168575\n",
       "Convolutional     0.487043  0.042750  0.206759  0.168580\n",
       "Pretrained VGG16  0.447127  0.046075  0.214644  0.174160"
      ]
     },
     "metadata": {},
     "output_type": "display_data"
    },
    {
     "data": {
      "text/html": [
       "<div>\n",
       "<style scoped>\n",
       "    .dataframe tbody tr th:only-of-type {\n",
       "        vertical-align: middle;\n",
       "    }\n",
       "\n",
       "    .dataframe tbody tr th {\n",
       "        vertical-align: top;\n",
       "    }\n",
       "\n",
       "    .dataframe thead th {\n",
       "        text-align: right;\n",
       "    }\n",
       "</style>\n",
       "<table border=\"1\" class=\"dataframe\">\n",
       "  <thead>\n",
       "    <tr style=\"text-align: right;\">\n",
       "      <th></th>\n",
       "      <th>r2_score</th>\n",
       "      <th>mse</th>\n",
       "      <th>rmse</th>\n",
       "      <th>mae</th>\n",
       "    </tr>\n",
       "  </thead>\n",
       "  <tbody>\n",
       "    <tr>\n",
       "      <th>Linear</th>\n",
       "      <td>0.003155</td>\n",
       "      <td>0.000260</td>\n",
       "      <td>0.000627</td>\n",
       "      <td>0.000566</td>\n",
       "    </tr>\n",
       "    <tr>\n",
       "      <th>Dense</th>\n",
       "      <td>0.002571</td>\n",
       "      <td>0.000218</td>\n",
       "      <td>0.000528</td>\n",
       "      <td>0.000481</td>\n",
       "    </tr>\n",
       "    <tr>\n",
       "      <th>Convolutional</th>\n",
       "      <td>0.003120</td>\n",
       "      <td>0.000271</td>\n",
       "      <td>0.000654</td>\n",
       "      <td>0.000620</td>\n",
       "    </tr>\n",
       "    <tr>\n",
       "      <th>Pretrained VGG16</th>\n",
       "      <td>0.010319</td>\n",
       "      <td>0.000869</td>\n",
       "      <td>0.002023</td>\n",
       "      <td>0.001074</td>\n",
       "    </tr>\n",
       "  </tbody>\n",
       "</table>\n",
       "</div>"
      ],
      "text/plain": [
       "                  r2_score       mse      rmse       mae\n",
       "Linear            0.003155  0.000260  0.000627  0.000566\n",
       "Dense             0.002571  0.000218  0.000528  0.000481\n",
       "Convolutional     0.003120  0.000271  0.000654  0.000620\n",
       "Pretrained VGG16  0.010319  0.000869  0.002023  0.001074"
      ]
     },
     "metadata": {},
     "output_type": "display_data"
    }
   ],
   "source": [
    "all_means = pd.DataFrame(\n",
    "    [\n",
    "        lin_means.iloc[0][['r2_score', 'mse', 'rmse', 'mae']],\n",
    "        dense_means.iloc[0][['r2_score', 'mse', 'rmse', 'mae']],\n",
    "        cnn_means.iloc[0][['r2_score', 'mse', 'rmse', 'mae']],\n",
    "        pretrained_means.iloc[0][['r2_score', 'mse', 'rmse', 'mae']]\n",
    "    ]\n",
    ").rename(\n",
    "    index={\n",
    "        'lin_mean': 'Linear',\n",
    "        'dense_mean': 'Dense',\n",
    "        'cnn_mean': 'Convolutional',\n",
    "        'pretrained_mean': 'Pretrained VGG16',\n",
    "    }\n",
    ")\n",
    "display(all_means)\n",
    "all_std = pd.DataFrame(\n",
    "    [\n",
    "        lin_means.iloc[1][['r2_score', 'mse', 'rmse', 'mae']],\n",
    "        dense_means.iloc[1][['r2_score', 'mse', 'rmse', 'mae']],\n",
    "        cnn_means.iloc[1][['r2_score', 'mse', 'rmse', 'mae']],\n",
    "        pretrained_means.iloc[1][['r2_score', 'mse', 'rmse', 'mae']],\n",
    "    ]\n",
    ").rename(\n",
    "    index={\n",
    "        'lin_std': 'Linear',\n",
    "        'dense_std': 'Dense',\n",
    "        'cnn_std': 'Convolutional',\n",
    "        'pretrained_std': 'Pretrained VGG16',\n",
    "    }\n",
    ")\n",
    "display(all_std)"
   ]
  },
  {
   "cell_type": "code",
   "execution_count": 76,
   "metadata": {},
   "outputs": [],
   "source": [
    "rows = all_means.index\n",
    "r2_str_array = np.zeros((1, all_means.shape[0]), dtype=object)\n",
    "for i in range(all_means.shape[0]):\n",
    "    r2_str_array[0, i] = r\"$\\underset{{\\num{{+- {:.3e} }}  }}{{\\num{{ {:.3g} }} }}$\".format(\n",
    "        all_std[\"r2_score\"][i], all_means[\"r2_score\"][i])\n",
    "        \n",
    "r2_df = pd.DataFrame(r2_str_array, columns=rows)\n",
    "\n",
    "section_path = \"chapters/results/figures/\"\n",
    "fname = THESIS_PATH + section_path + \"regression_simulated_double_energy_pixelmod_r2.tex\"\n",
    "caption = \"\"\"\n",
    "Mean R2-scores for regresson of energy values, on double events in simulated data with specific pixels\n",
    "set to zero, using multiple models. Error estimates are the standard deviation in results from k-fold \n",
    "cross-validation with $K=5$ folds.\n",
    "\"\"\"\n",
    "label = \"tab:regression-simulated-double-energy-pixelmod-r2\"\n",
    "with open(fname, \"w\") as fp:\n",
    "    pd.set_option('display.max_colwidth', -1)\n",
    "    r2_df.to_latex(fp, escape=False, caption=caption, label=label, index=False)\n"
   ]
  }
 ],
 "metadata": {
  "kernelspec": {
   "display_name": "Python 3",
   "language": "python",
   "name": "python3"
  },
  "language_info": {
   "codemirror_mode": {
    "name": "ipython",
    "version": 3
   },
   "file_extension": ".py",
   "mimetype": "text/x-python",
   "name": "python",
   "nbconvert_exporter": "python",
   "pygments_lexer": "ipython3",
   "version": "3.8.5"
  },
  "toc-autonumbering": true
 },
 "nbformat": 4,
 "nbformat_minor": 4
}
