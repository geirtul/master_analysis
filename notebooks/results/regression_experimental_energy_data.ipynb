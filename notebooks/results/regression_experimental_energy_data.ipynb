{
 "cells": [
  {
   "cell_type": "markdown",
   "metadata": {},
   "source": [
    "**Results - Regression on experimental events**\n",
    "\n",
    "This notebook is the primary source of plots and tables for the regression part of the thesis, \n",
    "with the goal of keeping every table and figure as standardized as possible. (And who has the time to update\n",
    "90 tables one by one anyway).\n",
    "\n",
    "**Questions:**\n",
    "* Descriptive statistics\n",
    "    - Should descriptive statistics of the simulated data be included?\\\n",
    "    If so, how much? And should it be included for each fold in the k-fold cross-validation?\n",
    "* Classification results\n",
    "    - Breakdown of results based on event type? Single, double, close double?\n",
    "    Reasonable to include in order to confirm the assumption that close doubles are the\n",
    "    most difficult event type to classify correctly in simulated data\n",
    "    Random state is included, so should be simple to reproduce the indices\n",
    "\n",
    "\n",
    "**TODO**\n",
    "* Implement reproducing the validation indices for each fold based on the random seed from config\n",
    "\n",
    "**Handy links**\n",
    "* [matplotlib-plots to latex](https://timodenk.com/blog/exporting-matplotlib-plots-to-latex/)\n",
    "* [Robert's thesis df output](https://github.com/ATTPC/VAE-event-classification/blob/master/src/make_classification_table.py)"
   ]
  },
  {
   "cell_type": "code",
   "execution_count": 2,
   "metadata": {},
   "outputs": [
    {
     "name": "stdout",
     "output_type": "stream",
     "text": [
      "The autoreload extension is already loaded. To reload it, use:\n",
      "  %reload_ext autoreload\n"
     ]
    }
   ],
   "source": [
    "%matplotlib inline\n",
    "%load_ext autoreload\n",
    "%autoreload 2\n",
    "from master_scripts.data_functions import *\n",
    "from master_scripts.analysis_functions import *\n",
    "import tensorflow as tf\n",
    "import json\n",
    "import pandas as pd\n",
    "import matplotlib.pyplot as plt\n",
    "import matplotlib\n",
    "import seaborn as sns\n",
    "import numpy as np\n",
    "\n",
    "THESIS_PATH = \"../../../master_thesis/\"\n",
    "section_path = \"chapters/results/figures/\""
   ]
  },
  {
   "cell_type": "code",
   "execution_count": 4,
   "metadata": {},
   "outputs": [],
   "source": [
    "# Load experimental set and normalize\n",
    "repo_root = get_git_root()\n",
    "\n",
    "events, images = import_real_energy_data(repo_root + \"data/real/decaydata_100k.txt\") # images not normalized\n",
    "images_non_normed = images.copy()\n",
    "images = normalize_image_data(images)"
   ]
  },
  {
   "cell_type": "code",
   "execution_count": 5,
   "metadata": {},
   "outputs": [],
   "source": [
    "def classify(model, images, events, threshold=0.5):\n",
    "    # Get prediction and make class labels based on threshold of 0.5\n",
    "    y_out = model.predict(images)\n",
    "    y_pred = (y_out > threshold).astype(int)\n",
    "    for event_id in events.keys():\n",
    "        if y_pred[events[event_id]['image_idx']] == 0:\n",
    "            events[event_id]['event_class'] = \"single\"\n",
    "        else:\n",
    "            events[event_id]['event_class'] = \"double\"\n",
    "\n",
    "    return events\n",
    "    \n",
    "def classification_metrics(model, images, events, name, threshold=0.5):\n",
    "    # Get prediction and make class labels based on threshold of 0.5\n",
    "    y_out = model.predict(images)\n",
    "    y_pred = (y_out > threshold).astype(int)\n",
    "    for event_id in events.keys():\n",
    "        if y_pred[events[event_id]['image_idx']] == 0:\n",
    "            events[event_id]['event_class'] = \"single\"\n",
    "        else:\n",
    "            events[event_id]['event_class'] = \"double\"\n",
    "            \n",
    "    descriptors = list(set([event['event_descriptor'] for event in events.values()]))\n",
    "    \n",
    "    desc_class = {'single': [], 'double': []}\n",
    "    for event in events.values():\n",
    "        desc_class[event['event_class']].append(event['event_descriptor'])\n",
    "    \n",
    "    translate_descriptor = {\n",
    "        1: \"Implant\",\n",
    "        2: \"Decay\",\n",
    "        3: \"implant + Decay\",\n",
    "        4: \"Light ion\",\n",
    "        5: \"Implant + Light Ion\",\n",
    "        6: \"Decay + Light Ion\",\n",
    "        7: \"Implant + Decay + Light Ion\",\n",
    "        8: \"Double (time)\",\n",
    "        9: \"Implant + Double (time)\",\n",
    "        10: \"Decay + Double (time)\",\n",
    "        11: \"Implant + Decay + Double (time)\",\n",
    "        12: \"Light ion + Double (time)\",\n",
    "        13: \"Implant + Light Ion + Double (time)\",\n",
    "        14: \"Decay + Light ion + Double (time)\",\n",
    "        15: \"Implant + Decay + Light Ion + Double (time)\",\n",
    "        16: \"Double (space)\",\n",
    "        17: \"Implant + Double (space)\",\n",
    "        18: \"Decay + Double (space)\"\n",
    "    }\n",
    "    \n",
    "    results = {}\n",
    "    for d in descriptors:\n",
    "        num_s = desc_class['single'].count(d)\n",
    "        num_d = desc_class['double'].count(d)\n",
    "        tot = num_s + num_d\n",
    "        norm_s = num_s / tot\n",
    "        norm_d = num_d / tot\n",
    "        results[translate_descriptor[d]] = [\n",
    "            num_s,\n",
    "            num_d,\n",
    "            norm_s,\n",
    "            norm_d\n",
    "        ]\n",
    "    \n",
    "    cols = [\"Predicted single\", \"Predicted double\", \"Normalized single\", \"Normalized double\"]\n",
    "    df = pd.DataFrame.from_dict(data=results, orient='index', columns=cols)\n",
    "    return df\n",
    "\n",
    "\n",
    "def regression_position(model, events, images, name):\n",
    "    \"\"\" Position regression on experimental data.\n",
    "    \"\"\"\n",
    "    \n",
    "    prediction = model.predict(images)   \n",
    "    df = pd.DataFrame.from_dict(\n",
    "        data={\n",
    "            name + \"_pos1\": prediction[:, 0],\n",
    "            name + \"_pos2\": prediction[:, 1],\n",
    "        }\n",
    "    ).rename(index={i: k for i, k in enumerate(events.keys())})\n",
    "    return df\n",
    "\n",
    "def regression_energy(model, events, images, name):\n",
    "    \"\"\" Energy regression on experimental data.\n",
    "    \"\"\"\n",
    "    \n",
    "    prediction = model.predict(images)\n",
    "    df = pd.DataFrame(\n",
    "        data={name + \"_e1\": prediction.reshape(prediction.shape[0])},\n",
    "        index=events.keys()\n",
    "    )\n",
    "    return df"
   ]
  },
  {
   "cell_type": "markdown",
   "metadata": {},
   "source": [
    "# Pre-processed simulated data - no additional modifications\n",
    "This is the basic metrics for all the models trained on simulated data.\n",
    "The basic pre-processing includes formatting and min-max normalization."
   ]
  },
  {
   "cell_type": "markdown",
   "metadata": {},
   "source": [
    "## Single events"
   ]
  },
  {
   "cell_type": "markdown",
   "metadata": {},
   "source": [
    "### Energy"
   ]
  },
  {
   "cell_type": "markdown",
   "metadata": {},
   "source": [
    "#### Linear regression"
   ]
  },
  {
   "cell_type": "code",
   "execution_count": 6,
   "metadata": {},
   "outputs": [],
   "source": [
    "# Load linear regression experiment\n",
    "lin_ex_id = \"87e8f4558d97\"\n",
    "lin_ex = load_experiment(lin_ex_id)\n",
    "\n",
    "# Load model and predict\n",
    "lin_model = tf.keras.models.load_model(repo_root + \"models/\" + lin_ex_id + \".h5\", compile=False)\n",
    "lin_test_energy = regression_energy(lin_model, events, images.reshape(images.shape[0], 256), \"lin_test_energy\")\n",
    "del lin_model #No longer needed, clear memory just in case."
   ]
  },
  {
   "cell_type": "markdown",
   "metadata": {},
   "source": [
    "#### Small dense network"
   ]
  },
  {
   "cell_type": "code",
   "execution_count": 7,
   "metadata": {},
   "outputs": [],
   "source": [
    "# Load dense regression experiment\n",
    "dense_ex_id = \"4cab676db128\"\n",
    "dense_ex = load_experiment(dense_ex_id)\n",
    "# Load model and predict\n",
    "dense_model = tf.keras.models.load_model(repo_root + \"models/\" + dense_ex_id + \".h5\", compile=False)\n",
    "dense_test_energy = regression_energy(dense_model, events, images.reshape(images.shape[0], 256), \"dense_test_energy\")\n",
    "del dense_model"
   ]
  },
  {
   "cell_type": "markdown",
   "metadata": {},
   "source": [
    "#### Small CNN"
   ]
  },
  {
   "cell_type": "code",
   "execution_count": 8,
   "metadata": {},
   "outputs": [],
   "source": [
    "# Load cnn regression experiment\n",
    "cnn_ex_id = \"3a91fd0e74b5\"\n",
    "cnn_ex = load_experiment(cnn_ex_id)\n",
    "# Load model and predict\n",
    "cnn_model = tf.keras.models.load_model(repo_root + \"models/\" + cnn_ex_id + \".h5\", compile=False)\n",
    "cnn_test_energy = regression_energy(cnn_model, events, images, \"cnn_test_energy\")\n",
    "del cnn_model"
   ]
  },
  {
   "cell_type": "markdown",
   "metadata": {},
   "source": [
    "#### Pretrained - VGG16 "
   ]
  },
  {
   "cell_type": "code",
   "execution_count": 9,
   "metadata": {},
   "outputs": [],
   "source": [
    "# Load logistic regression experiment\n",
    "pretrained_ex_id = \"ea8d88850f6e\"\n",
    "pretrained_ex = load_experiment(pretrained_ex_id)\n",
    "# Load model and predict\n",
    "pretrained_model = tf.keras.models.load_model(repo_root + \"models/\" + pretrained_ex_id + \".h5\", compile=False)\n",
    "pretrained_test_energy = regression_energy(pretrained_model, events, np.concatenate((images, images, images), axis=-1), \"pretrained_test_energy\")\n",
    "del pretrained_model"
   ]
  },
  {
   "cell_type": "markdown",
   "metadata": {},
   "source": [
    "#### Custom model"
   ]
  },
  {
   "cell_type": "code",
   "execution_count": 10,
   "metadata": {},
   "outputs": [],
   "source": [
    "# Load custom regression experiment\n",
    "custom_ex_id = \"3d45e6694b1d\"\n",
    "custom_ex = load_experiment(custom_ex_id)\n",
    "# Load model and predict\n",
    "custom_model = tf.keras.models.load_model(repo_root + \"models/\" + custom_ex_id + \".h5\", compile=False)\n",
    "custom_test_energy = regression_energy(custom_model, events, images, \"custom_test_energy\")\n",
    "del custom_model"
   ]
  },
  {
   "cell_type": "markdown",
   "metadata": {},
   "source": [
    "#### Output"
   ]
  },
  {
   "cell_type": "code",
   "execution_count": 11,
   "metadata": {},
   "outputs": [
    {
     "data": {
      "text/html": [
       "<div>\n",
       "<style scoped>\n",
       "    .dataframe tbody tr th:only-of-type {\n",
       "        vertical-align: middle;\n",
       "    }\n",
       "\n",
       "    .dataframe tbody tr th {\n",
       "        vertical-align: top;\n",
       "    }\n",
       "\n",
       "    .dataframe thead th {\n",
       "        text-align: right;\n",
       "    }\n",
       "</style>\n",
       "<table border=\"1\" class=\"dataframe\">\n",
       "  <thead>\n",
       "    <tr style=\"text-align: right;\">\n",
       "      <th></th>\n",
       "      <th>lin_test_energy_e1</th>\n",
       "      <th>dense_test_energy_e1</th>\n",
       "      <th>cnn_test_energy_e1</th>\n",
       "      <th>pretrained_test_energy_e1</th>\n",
       "      <th>custom_test_energy_e1</th>\n",
       "    </tr>\n",
       "  </thead>\n",
       "  <tbody>\n",
       "    <tr>\n",
       "      <th>2</th>\n",
       "      <td>2.934569</td>\n",
       "      <td>2.869032</td>\n",
       "      <td>2.985354</td>\n",
       "      <td>1.124930</td>\n",
       "      <td>2.844858</td>\n",
       "    </tr>\n",
       "    <tr>\n",
       "      <th>32</th>\n",
       "      <td>0.254878</td>\n",
       "      <td>0.253270</td>\n",
       "      <td>0.260531</td>\n",
       "      <td>0.149089</td>\n",
       "      <td>0.297324</td>\n",
       "    </tr>\n",
       "    <tr>\n",
       "      <th>144</th>\n",
       "      <td>3.285792</td>\n",
       "      <td>3.204214</td>\n",
       "      <td>3.310057</td>\n",
       "      <td>1.280607</td>\n",
       "      <td>3.163367</td>\n",
       "    </tr>\n",
       "    <tr>\n",
       "      <th>170</th>\n",
       "      <td>1.701646</td>\n",
       "      <td>1.671118</td>\n",
       "      <td>1.724325</td>\n",
       "      <td>0.698573</td>\n",
       "      <td>1.688902</td>\n",
       "    </tr>\n",
       "    <tr>\n",
       "      <th>287</th>\n",
       "      <td>0.110196</td>\n",
       "      <td>0.109042</td>\n",
       "      <td>0.107094</td>\n",
       "      <td>0.083020</td>\n",
       "      <td>0.137669</td>\n",
       "    </tr>\n",
       "    <tr>\n",
       "      <th>...</th>\n",
       "      <td>...</td>\n",
       "      <td>...</td>\n",
       "      <td>...</td>\n",
       "      <td>...</td>\n",
       "      <td>...</td>\n",
       "    </tr>\n",
       "    <tr>\n",
       "      <th>14537044</th>\n",
       "      <td>0.526288</td>\n",
       "      <td>0.533481</td>\n",
       "      <td>0.510279</td>\n",
       "      <td>0.302651</td>\n",
       "      <td>0.547553</td>\n",
       "    </tr>\n",
       "    <tr>\n",
       "      <th>14537248</th>\n",
       "      <td>1.952837</td>\n",
       "      <td>1.918687</td>\n",
       "      <td>2.006057</td>\n",
       "      <td>0.776299</td>\n",
       "      <td>1.916296</td>\n",
       "    </tr>\n",
       "    <tr>\n",
       "      <th>14537421</th>\n",
       "      <td>3.277253</td>\n",
       "      <td>3.202767</td>\n",
       "      <td>3.295325</td>\n",
       "      <td>1.399536</td>\n",
       "      <td>3.213811</td>\n",
       "    </tr>\n",
       "    <tr>\n",
       "      <th>14537498</th>\n",
       "      <td>1.334511</td>\n",
       "      <td>1.316020</td>\n",
       "      <td>1.348431</td>\n",
       "      <td>0.705720</td>\n",
       "      <td>1.325303</td>\n",
       "    </tr>\n",
       "    <tr>\n",
       "      <th>14538058</th>\n",
       "      <td>0.008343</td>\n",
       "      <td>0.004693</td>\n",
       "      <td>0.004944</td>\n",
       "      <td>0.013642</td>\n",
       "      <td>0.011666</td>\n",
       "    </tr>\n",
       "  </tbody>\n",
       "</table>\n",
       "<p>100000 rows × 5 columns</p>\n",
       "</div>"
      ],
      "text/plain": [
       "          lin_test_energy_e1  dense_test_energy_e1  cnn_test_energy_e1  \\\n",
       "2                   2.934569              2.869032            2.985354   \n",
       "32                  0.254878              0.253270            0.260531   \n",
       "144                 3.285792              3.204214            3.310057   \n",
       "170                 1.701646              1.671118            1.724325   \n",
       "287                 0.110196              0.109042            0.107094   \n",
       "...                      ...                   ...                 ...   \n",
       "14537044            0.526288              0.533481            0.510279   \n",
       "14537248            1.952837              1.918687            2.006057   \n",
       "14537421            3.277253              3.202767            3.295325   \n",
       "14537498            1.334511              1.316020            1.348431   \n",
       "14538058            0.008343              0.004693            0.004944   \n",
       "\n",
       "          pretrained_test_energy_e1  custom_test_energy_e1  \n",
       "2                          1.124930               2.844858  \n",
       "32                         0.149089               0.297324  \n",
       "144                        1.280607               3.163367  \n",
       "170                        0.698573               1.688902  \n",
       "287                        0.083020               0.137669  \n",
       "...                             ...                    ...  \n",
       "14537044                   0.302651               0.547553  \n",
       "14537248                   0.776299               1.916296  \n",
       "14537421                   1.399536               3.213811  \n",
       "14537498                   0.705720               1.325303  \n",
       "14538058                   0.013642               0.011666  \n",
       "\n",
       "[100000 rows x 5 columns]"
      ]
     },
     "metadata": {},
     "output_type": "display_data"
    }
   ],
   "source": [
    "all_test_energy = pd.concat(\n",
    "    [\n",
    "        lin_test_energy,\n",
    "        dense_test_energy,\n",
    "        cnn_test_energy,\n",
    "        pretrained_test_energy,\n",
    "        custom_test_energy\n",
    "    ],\n",
    "    axis=1\n",
    ")\n",
    "display(all_test_energy)"
   ]
  },
  {
   "cell_type": "markdown",
   "metadata": {},
   "source": [
    "# Pre-processed simulated data - Pixel modified\n",
    "This is the basic metrics for all the models trained on simulated data.\n",
    "The basic pre-processing includes formatting and min-max normalization.\n",
    "Additionally, the data has had the top and bottom lines of pixels set to 0, plus\n",
    "one pixel inside the detector permanently 0 (which idx again?)."
   ]
  },
  {
   "cell_type": "markdown",
   "metadata": {},
   "source": [
    "## Single events"
   ]
  },
  {
   "cell_type": "markdown",
   "metadata": {},
   "source": [
    "### Energy"
   ]
  },
  {
   "cell_type": "markdown",
   "metadata": {},
   "source": [
    "#### Linear regression"
   ]
  },
  {
   "cell_type": "code",
   "execution_count": 12,
   "metadata": {},
   "outputs": [],
   "source": [
    "# Load linear regression experiment\n",
    "lin_ex_id = \"7dfe302a7c09\"\n",
    "lin_ex = load_experiment(lin_ex_id)\n",
    "\n",
    "# Load model and predict\n",
    "lin_model = tf.keras.models.load_model(repo_root + \"models/\" + lin_ex_id + \".h5\", compile=False)\n",
    "lin_test_energy_pmod = regression_energy(lin_model, events, images.reshape(images.shape[0], 256), \"lin_test_energy_pmod\")\n",
    "del lin_model"
   ]
  },
  {
   "cell_type": "markdown",
   "metadata": {},
   "source": [
    "#### Small dense network"
   ]
  },
  {
   "cell_type": "code",
   "execution_count": 13,
   "metadata": {},
   "outputs": [],
   "source": [
    "# Load dense regression experiment\n",
    "dense_ex_id = \"2dbd6c697bc5\"\n",
    "dense_ex = load_experiment(dense_ex_id)\n",
    "# Load model and predict\n",
    "dense_model = tf.keras.models.load_model(repo_root + \"models/\" + dense_ex_id + \".h5\", compile=False)\n",
    "dense_test_energy_pmod = regression_energy(dense_model, events, images.reshape(images.shape[0], 256), \"dense_test_energy_pmod\")\n",
    "del dense_model"
   ]
  },
  {
   "cell_type": "markdown",
   "metadata": {},
   "source": [
    "#### Small CNN\n",
    "This is really sensitive to pixel modifications.\n",
    "Performs similarly to the other models if you pixelmod the test data."
   ]
  },
  {
   "cell_type": "code",
   "execution_count": 14,
   "metadata": {},
   "outputs": [],
   "source": [
    "# Load cnn regression experiment\n",
    "cnn_ex_id = \"fb0685871cf3\"\n",
    "cnn_ex = load_experiment(cnn_ex_id)\n",
    "\n",
    "cnn_model = tf.keras.models.load_model(repo_root + \"models/\" + cnn_ex_id + \".h5\", compile=False)\n",
    "cnn_test_energy_pmod = regression_energy(cnn_model, events, images, \"cnn_test_energy_pmod\")\n",
    "del cnn_model"
   ]
  },
  {
   "cell_type": "markdown",
   "metadata": {},
   "source": [
    "#### Pretrained - VGG16 "
   ]
  },
  {
   "cell_type": "code",
   "execution_count": 15,
   "metadata": {},
   "outputs": [],
   "source": [
    "# Load logistic regression experiment\n",
    "pretrained_ex_id = \"8aa9f731b693\"\n",
    "pretrained_ex = load_experiment(pretrained_ex_id)\n",
    "# Load model and predict\n",
    "pretrained_model = tf.keras.models.load_model(repo_root + \"models/\" + pretrained_ex_id + \".h5\", compile=False)\n",
    "pretrained_test_energy_pmod = regression_energy(pretrained_model, events, np.concatenate((images, images, images), axis=-1), \"pretrained_test_energy_pmod\")\n",
    "del pretrained_model"
   ]
  },
  {
   "cell_type": "markdown",
   "metadata": {},
   "source": [
    "#### Custom model"
   ]
  },
  {
   "cell_type": "code",
   "execution_count": 16,
   "metadata": {},
   "outputs": [],
   "source": [
    "# Load custom regression experiment\n",
    "custom_ex_id = \"02c59a04c095\"\n",
    "custom_ex = load_experiment(custom_ex_id)\n",
    "# Load model and predict\n",
    "custom_model = tf.keras.models.load_model(repo_root + \"models/\" + custom_ex_id + \".h5\", compile=False)\n",
    "custom_test_energy_pmod = regression_energy(custom_model, events, images, \"custom_test_energy_pmod\")\n",
    "del custom_model"
   ]
  },
  {
   "cell_type": "markdown",
   "metadata": {},
   "source": [
    "#### Output"
   ]
  },
  {
   "cell_type": "code",
   "execution_count": 17,
   "metadata": {},
   "outputs": [
    {
     "data": {
      "text/html": [
       "<div>\n",
       "<style scoped>\n",
       "    .dataframe tbody tr th:only-of-type {\n",
       "        vertical-align: middle;\n",
       "    }\n",
       "\n",
       "    .dataframe tbody tr th {\n",
       "        vertical-align: top;\n",
       "    }\n",
       "\n",
       "    .dataframe thead th {\n",
       "        text-align: right;\n",
       "    }\n",
       "</style>\n",
       "<table border=\"1\" class=\"dataframe\">\n",
       "  <thead>\n",
       "    <tr style=\"text-align: right;\">\n",
       "      <th></th>\n",
       "      <th>lin_test_energy_pmod_e1</th>\n",
       "      <th>dense_test_energy_pmod_e1</th>\n",
       "      <th>cnn_test_energy_pmod_e1</th>\n",
       "      <th>pretrained_test_energy_pmod_e1</th>\n",
       "      <th>custom_test_energy_pmod_e1</th>\n",
       "    </tr>\n",
       "  </thead>\n",
       "  <tbody>\n",
       "    <tr>\n",
       "      <th>2</th>\n",
       "      <td>2.680125</td>\n",
       "      <td>2.586785</td>\n",
       "      <td>2.692647</td>\n",
       "      <td>0.893881</td>\n",
       "      <td>2.460164</td>\n",
       "    </tr>\n",
       "    <tr>\n",
       "      <th>32</th>\n",
       "      <td>0.244124</td>\n",
       "      <td>0.239669</td>\n",
       "      <td>0.237576</td>\n",
       "      <td>0.178002</td>\n",
       "      <td>0.252183</td>\n",
       "    </tr>\n",
       "    <tr>\n",
       "      <th>144</th>\n",
       "      <td>2.993863</td>\n",
       "      <td>2.914809</td>\n",
       "      <td>3.020898</td>\n",
       "      <td>1.133986</td>\n",
       "      <td>2.290029</td>\n",
       "    </tr>\n",
       "    <tr>\n",
       "      <th>170</th>\n",
       "      <td>1.497414</td>\n",
       "      <td>1.479739</td>\n",
       "      <td>1.512188</td>\n",
       "      <td>0.675219</td>\n",
       "      <td>1.289584</td>\n",
       "    </tr>\n",
       "    <tr>\n",
       "      <th>287</th>\n",
       "      <td>0.097030</td>\n",
       "      <td>0.092487</td>\n",
       "      <td>0.094405</td>\n",
       "      <td>0.083272</td>\n",
       "      <td>0.138935</td>\n",
       "    </tr>\n",
       "    <tr>\n",
       "      <th>...</th>\n",
       "      <td>...</td>\n",
       "      <td>...</td>\n",
       "      <td>...</td>\n",
       "      <td>...</td>\n",
       "      <td>...</td>\n",
       "    </tr>\n",
       "    <tr>\n",
       "      <th>14537044</th>\n",
       "      <td>0.457909</td>\n",
       "      <td>0.455921</td>\n",
       "      <td>0.454422</td>\n",
       "      <td>0.218624</td>\n",
       "      <td>0.459567</td>\n",
       "    </tr>\n",
       "    <tr>\n",
       "      <th>14537248</th>\n",
       "      <td>1.748004</td>\n",
       "      <td>1.709343</td>\n",
       "      <td>1.741887</td>\n",
       "      <td>0.599465</td>\n",
       "      <td>1.552250</td>\n",
       "    </tr>\n",
       "    <tr>\n",
       "      <th>14537421</th>\n",
       "      <td>2.943064</td>\n",
       "      <td>2.862007</td>\n",
       "      <td>2.946378</td>\n",
       "      <td>1.145308</td>\n",
       "      <td>2.465071</td>\n",
       "    </tr>\n",
       "    <tr>\n",
       "      <th>14537498</th>\n",
       "      <td>1.194920</td>\n",
       "      <td>1.172714</td>\n",
       "      <td>1.203017</td>\n",
       "      <td>0.624059</td>\n",
       "      <td>1.122276</td>\n",
       "    </tr>\n",
       "    <tr>\n",
       "      <th>14538058</th>\n",
       "      <td>0.008757</td>\n",
       "      <td>0.004363</td>\n",
       "      <td>0.003303</td>\n",
       "      <td>0.026689</td>\n",
       "      <td>0.012500</td>\n",
       "    </tr>\n",
       "  </tbody>\n",
       "</table>\n",
       "<p>100000 rows × 5 columns</p>\n",
       "</div>"
      ],
      "text/plain": [
       "          lin_test_energy_pmod_e1  dense_test_energy_pmod_e1  \\\n",
       "2                        2.680125                   2.586785   \n",
       "32                       0.244124                   0.239669   \n",
       "144                      2.993863                   2.914809   \n",
       "170                      1.497414                   1.479739   \n",
       "287                      0.097030                   0.092487   \n",
       "...                           ...                        ...   \n",
       "14537044                 0.457909                   0.455921   \n",
       "14537248                 1.748004                   1.709343   \n",
       "14537421                 2.943064                   2.862007   \n",
       "14537498                 1.194920                   1.172714   \n",
       "14538058                 0.008757                   0.004363   \n",
       "\n",
       "          cnn_test_energy_pmod_e1  pretrained_test_energy_pmod_e1  \\\n",
       "2                        2.692647                        0.893881   \n",
       "32                       0.237576                        0.178002   \n",
       "144                      3.020898                        1.133986   \n",
       "170                      1.512188                        0.675219   \n",
       "287                      0.094405                        0.083272   \n",
       "...                           ...                             ...   \n",
       "14537044                 0.454422                        0.218624   \n",
       "14537248                 1.741887                        0.599465   \n",
       "14537421                 2.946378                        1.145308   \n",
       "14537498                 1.203017                        0.624059   \n",
       "14538058                 0.003303                        0.026689   \n",
       "\n",
       "          custom_test_energy_pmod_e1  \n",
       "2                           2.460164  \n",
       "32                          0.252183  \n",
       "144                         2.290029  \n",
       "170                         1.289584  \n",
       "287                         0.138935  \n",
       "...                              ...  \n",
       "14537044                    0.459567  \n",
       "14537248                    1.552250  \n",
       "14537421                    2.465071  \n",
       "14537498                    1.122276  \n",
       "14538058                    0.012500  \n",
       "\n",
       "[100000 rows x 5 columns]"
      ]
     },
     "metadata": {},
     "output_type": "display_data"
    }
   ],
   "source": [
    "all_test_energy_pmod = pd.concat(\n",
    "    [\n",
    "        lin_test_energy_pmod,\n",
    "        dense_test_energy_pmod,\n",
    "        cnn_test_energy_pmod,\n",
    "        pretrained_test_energy_pmod,\n",
    "        custom_test_energy_pmod\n",
    "    ],\n",
    "    axis=1\n",
    ")\n",
    "display(all_test_energy_pmod)"
   ]
  },
  {
   "cell_type": "markdown",
   "metadata": {},
   "source": [
    "# Pre-processed simulated data - Pixel modified and imbalanced\n",
    "This is the basic metrics for all the models trained on simulated data.\n",
    "The basic pre-processing includes formatting and min-max normalization.\n",
    "Additionally, the data has had the top and bottom lines of pixels set to 0, plus\n",
    "one pixel inside the detector permanently 0 (which idx again?).\n",
    "\n",
    "This dataset has also been purposefully imbalanced to mimic the properties of experimental data\n",
    "where doubles in space are expected to be rare."
   ]
  },
  {
   "cell_type": "markdown",
   "metadata": {},
   "source": [
    "## Single events"
   ]
  },
  {
   "cell_type": "markdown",
   "metadata": {},
   "source": [
    "### Energy"
   ]
  },
  {
   "cell_type": "markdown",
   "metadata": {},
   "source": [
    "#### Linear regression"
   ]
  },
  {
   "cell_type": "code",
   "execution_count": 18,
   "metadata": {},
   "outputs": [],
   "source": [
    "# Load linear regression experiment\n",
    "lin_ex_id = \"9f256a4990c0\"\n",
    "lin_ex = load_experiment(lin_ex_id)\n",
    "\n",
    "# Load model and predict\n",
    "lin_model = tf.keras.models.load_model(repo_root + \"models/\" + lin_ex_id + \".h5\", compile=False)\n",
    "lin_test_energy_imbalanced = regression_energy(lin_model, events, images.reshape(images.shape[0], 256), \"lin_test_energy_imbalanced\")\n",
    "del lin_model"
   ]
  },
  {
   "cell_type": "markdown",
   "metadata": {},
   "source": [
    "#### Small dense network"
   ]
  },
  {
   "cell_type": "code",
   "execution_count": 19,
   "metadata": {},
   "outputs": [],
   "source": [
    "# Load dense regression experiment\n",
    "dense_ex_id = \"29b1f98a4879\"\n",
    "dense_ex = load_experiment(dense_ex_id)\n",
    "# Load model and predict\n",
    "dense_model = tf.keras.models.load_model(repo_root + \"models/\" + dense_ex_id + \".h5\", compile=False)\n",
    "dense_test_energy_imbalanced = regression_energy(dense_model, events, images.reshape(images.shape[0], 256), \"dense_test_energy_imbalanced\")\n",
    "del dense_model"
   ]
  },
  {
   "cell_type": "markdown",
   "metadata": {},
   "source": [
    "#### Small CNN"
   ]
  },
  {
   "cell_type": "code",
   "execution_count": 20,
   "metadata": {},
   "outputs": [],
   "source": [
    "# Load cnn regression experiment\n",
    "cnn_ex_id = \"8422f85d6ff6\"\n",
    "cnn_ex = load_experiment(cnn_ex_id)\n",
    "# Load model and predict\n",
    "cnn_model = tf.keras.models.load_model(repo_root + \"models/\" + cnn_ex_id + \".h5\", compile=False)\n",
    "cnn_test_energy_imbalanced = regression_energy(cnn_model, events, images, \"cnn_test_energy_imbalanced\")\n",
    "del cnn_model"
   ]
  },
  {
   "cell_type": "markdown",
   "metadata": {},
   "source": [
    "#### Pretrained - VGG16 "
   ]
  },
  {
   "cell_type": "code",
   "execution_count": 21,
   "metadata": {},
   "outputs": [],
   "source": [
    "# Load logistic regression experiment\n",
    "pretrained_ex_id = \"73de75db91e4\"\n",
    "pretrained_ex = load_experiment(pretrained_ex_id)\n",
    "# Load model and predict\n",
    "pretrained_model = tf.keras.models.load_model(repo_root + \"models/\" + pretrained_ex_id + \".h5\", compile=False)\n",
    "pretrained_test_energy_imbalanced = regression_energy(pretrained_model, events, np.concatenate((images, images, images), axis=-1), \"pretrained_test_energy_imbalanced\")\n",
    "del pretrained_model"
   ]
  },
  {
   "cell_type": "markdown",
   "metadata": {},
   "source": [
    "#### Custom model"
   ]
  },
  {
   "cell_type": "code",
   "execution_count": 22,
   "metadata": {},
   "outputs": [],
   "source": [
    "# Load custom regression experiment\n",
    "custom_ex_id = \"0071c04bef42\"\n",
    "custom_ex = load_experiment(custom_ex_id)\n",
    "# Load model and predict\n",
    "custom_model = tf.keras.models.load_model(repo_root + \"models/\" + custom_ex_id + \".h5\", compile=False)\n",
    "custom_test_energy_imbalanced = regression_energy(custom_model, events, images, \"custom_test_energy_imbalanced\")\n",
    "del custom_model"
   ]
  },
  {
   "cell_type": "markdown",
   "metadata": {},
   "source": [
    "#### Output"
   ]
  },
  {
   "cell_type": "code",
   "execution_count": 23,
   "metadata": {},
   "outputs": [
    {
     "data": {
      "text/html": [
       "<div>\n",
       "<style scoped>\n",
       "    .dataframe tbody tr th:only-of-type {\n",
       "        vertical-align: middle;\n",
       "    }\n",
       "\n",
       "    .dataframe tbody tr th {\n",
       "        vertical-align: top;\n",
       "    }\n",
       "\n",
       "    .dataframe thead th {\n",
       "        text-align: right;\n",
       "    }\n",
       "</style>\n",
       "<table border=\"1\" class=\"dataframe\">\n",
       "  <thead>\n",
       "    <tr style=\"text-align: right;\">\n",
       "      <th></th>\n",
       "      <th>lin_test_energy_imbalanced_e1</th>\n",
       "      <th>dense_test_energy_imbalanced_e1</th>\n",
       "      <th>cnn_test_energy_imbalanced_e1</th>\n",
       "      <th>pretrained_test_energy_imbalanced_e1</th>\n",
       "      <th>custom_test_energy_imbalanced_e1</th>\n",
       "    </tr>\n",
       "  </thead>\n",
       "  <tbody>\n",
       "    <tr>\n",
       "      <th>2</th>\n",
       "      <td>2.680125</td>\n",
       "      <td>2.583389</td>\n",
       "      <td>2.699759</td>\n",
       "      <td>0.893880</td>\n",
       "      <td>3.340349</td>\n",
       "    </tr>\n",
       "    <tr>\n",
       "      <th>32</th>\n",
       "      <td>0.244124</td>\n",
       "      <td>0.239231</td>\n",
       "      <td>0.244896</td>\n",
       "      <td>0.178002</td>\n",
       "      <td>0.372743</td>\n",
       "    </tr>\n",
       "    <tr>\n",
       "      <th>144</th>\n",
       "      <td>2.993863</td>\n",
       "      <td>2.914334</td>\n",
       "      <td>3.036983</td>\n",
       "      <td>1.133985</td>\n",
       "      <td>3.864175</td>\n",
       "    </tr>\n",
       "    <tr>\n",
       "      <th>170</th>\n",
       "      <td>1.497414</td>\n",
       "      <td>1.474914</td>\n",
       "      <td>1.511223</td>\n",
       "      <td>0.675218</td>\n",
       "      <td>2.145048</td>\n",
       "    </tr>\n",
       "    <tr>\n",
       "      <th>287</th>\n",
       "      <td>0.097030</td>\n",
       "      <td>0.092340</td>\n",
       "      <td>0.092328</td>\n",
       "      <td>0.083272</td>\n",
       "      <td>0.109037</td>\n",
       "    </tr>\n",
       "    <tr>\n",
       "      <th>...</th>\n",
       "      <td>...</td>\n",
       "      <td>...</td>\n",
       "      <td>...</td>\n",
       "      <td>...</td>\n",
       "      <td>...</td>\n",
       "    </tr>\n",
       "    <tr>\n",
       "      <th>14537044</th>\n",
       "      <td>0.457909</td>\n",
       "      <td>0.455190</td>\n",
       "      <td>0.466327</td>\n",
       "      <td>0.218623</td>\n",
       "      <td>0.405822</td>\n",
       "    </tr>\n",
       "    <tr>\n",
       "      <th>14537248</th>\n",
       "      <td>1.748005</td>\n",
       "      <td>1.708036</td>\n",
       "      <td>1.750977</td>\n",
       "      <td>0.599464</td>\n",
       "      <td>2.171010</td>\n",
       "    </tr>\n",
       "    <tr>\n",
       "      <th>14537421</th>\n",
       "      <td>2.943064</td>\n",
       "      <td>2.856131</td>\n",
       "      <td>2.959690</td>\n",
       "      <td>1.145307</td>\n",
       "      <td>3.594872</td>\n",
       "    </tr>\n",
       "    <tr>\n",
       "      <th>14537498</th>\n",
       "      <td>1.194920</td>\n",
       "      <td>1.172371</td>\n",
       "      <td>1.195298</td>\n",
       "      <td>0.624059</td>\n",
       "      <td>1.661558</td>\n",
       "    </tr>\n",
       "    <tr>\n",
       "      <th>14538058</th>\n",
       "      <td>0.008757</td>\n",
       "      <td>0.004669</td>\n",
       "      <td>0.004606</td>\n",
       "      <td>0.026688</td>\n",
       "      <td>0.007729</td>\n",
       "    </tr>\n",
       "  </tbody>\n",
       "</table>\n",
       "<p>100000 rows × 5 columns</p>\n",
       "</div>"
      ],
      "text/plain": [
       "          lin_test_energy_imbalanced_e1  dense_test_energy_imbalanced_e1  \\\n",
       "2                              2.680125                         2.583389   \n",
       "32                             0.244124                         0.239231   \n",
       "144                            2.993863                         2.914334   \n",
       "170                            1.497414                         1.474914   \n",
       "287                            0.097030                         0.092340   \n",
       "...                                 ...                              ...   \n",
       "14537044                       0.457909                         0.455190   \n",
       "14537248                       1.748005                         1.708036   \n",
       "14537421                       2.943064                         2.856131   \n",
       "14537498                       1.194920                         1.172371   \n",
       "14538058                       0.008757                         0.004669   \n",
       "\n",
       "          cnn_test_energy_imbalanced_e1  pretrained_test_energy_imbalanced_e1  \\\n",
       "2                              2.699759                              0.893880   \n",
       "32                             0.244896                              0.178002   \n",
       "144                            3.036983                              1.133985   \n",
       "170                            1.511223                              0.675218   \n",
       "287                            0.092328                              0.083272   \n",
       "...                                 ...                                   ...   \n",
       "14537044                       0.466327                              0.218623   \n",
       "14537248                       1.750977                              0.599464   \n",
       "14537421                       2.959690                              1.145307   \n",
       "14537498                       1.195298                              0.624059   \n",
       "14538058                       0.004606                              0.026688   \n",
       "\n",
       "          custom_test_energy_imbalanced_e1  \n",
       "2                                 3.340349  \n",
       "32                                0.372743  \n",
       "144                               3.864175  \n",
       "170                               2.145048  \n",
       "287                               0.109037  \n",
       "...                                    ...  \n",
       "14537044                          0.405822  \n",
       "14537248                          2.171010  \n",
       "14537421                          3.594872  \n",
       "14537498                          1.661558  \n",
       "14538058                          0.007729  \n",
       "\n",
       "[100000 rows x 5 columns]"
      ]
     },
     "metadata": {},
     "output_type": "display_data"
    }
   ],
   "source": [
    "all_test_energy_imbalanced = pd.concat(\n",
    "    [\n",
    "        lin_test_energy_imbalanced,\n",
    "        dense_test_energy_imbalanced,\n",
    "        cnn_test_energy_imbalanced,\n",
    "        pretrained_test_energy_imbalanced,\n",
    "        custom_test_energy_imbalanced\n",
    "    ],\n",
    "    axis=1\n",
    ")\n",
    "display(all_test_energy_imbalanced)"
   ]
  },
  {
   "cell_type": "markdown",
   "metadata": {},
   "source": [
    "# Combined tables"
   ]
  },
  {
   "cell_type": "code",
   "execution_count": 24,
   "metadata": {},
   "outputs": [
    {
     "name": "stdout",
     "output_type": "stream",
     "text": [
      "(100000, 15)\n"
     ]
    }
   ],
   "source": [
    "df_energy = pd.concat(\n",
    "    [\n",
    "        all_test_energy,\n",
    "        all_test_energy_pmod,\n",
    "        all_test_energy_imbalanced\n",
    "    ],\n",
    "    axis=1\n",
    ")\n",
    "\n",
    "df_energy.to_hdf(\"experimental_energy_100k.h5\", \"df\", \"w\")\n",
    "print(df_energy.shape)"
   ]
  }
 ],
 "metadata": {
  "kernelspec": {
   "display_name": "Python 3",
   "language": "python",
   "name": "python3"
  },
  "language_info": {
   "codemirror_mode": {
    "name": "ipython",
    "version": 3
   },
   "file_extension": ".py",
   "mimetype": "text/x-python",
   "name": "python",
   "nbconvert_exporter": "python",
   "pygments_lexer": "ipython3",
   "version": "3.8.5"
  },
  "toc-autonumbering": true
 },
 "nbformat": 4,
 "nbformat_minor": 4
}
