{
 "cells": [
  {
   "cell_type": "markdown",
   "metadata": {},
   "source": [
    "# Results - Classification on simulated events\n",
    "This notebook is the primary source of plots and tables for the classificationn part of the thesis, \n",
    "with the goal of keeping every table and figure as standardized as possible. (And who has the time to update 90 tables one by one anyway).\n",
    "\n",
    "## Questions\n",
    "* Descriptive statistics\n",
    "    - Should descriptive statistics of the simulated data be included?\\\n",
    "    If so, how much? And should it be included for each fold in the k-fold cross-validation?\n",
    "* Classification results\n",
    "    - Breakdown of results based on event type? Single, double, close double?\n",
    "    Reasonable to include in order to confirm the assumption that close doubles are the\n",
    "    most difficult event type to classify correctly in simulated data\n",
    "    Random state is included, so should be simple to reproduce the indices\n",
    "\n",
    "\n",
    "## TODO\n",
    "* Implement reproducing the validation indices for each fold based on the random seed from config\n",
    "* Run this for pixelmod data\n",
    "\n",
    "## Handy links\n",
    "* [matplotlib-plots to latex](https://timodenk.com/blog/exporting-matplotlib-plots-to-latex/)\n",
    "* [Robert's thesis df output](https://github.com/ATTPC/VAE-event-classification/blob/master/src/make_classification_table.py)"
   ]
  },
  {
   "cell_type": "code",
   "execution_count": 94,
   "metadata": {},
   "outputs": [
    {
     "name": "stdout",
     "output_type": "stream",
     "text": [
      "The autoreload extension is already loaded. To reload it, use:\n",
      "  %reload_ext autoreload\n"
     ]
    }
   ],
   "source": [
    "%matplotlib inline\n",
    "%load_ext autoreload\n",
    "%autoreload 2\n",
    "from master_scripts.data_functions import get_git_root, normalize_image_data, event_indices\n",
    "from master_scripts.analysis_functions import load_experiment, experiment_metrics_to_df\n",
    "from sklearn.metrics import f1_score, confusion_matrix, roc_auc_score, matthews_corrcoef, accuracy_score\n",
    "import tensorflow as tf\n",
    "import json\n",
    "import pandas as pd\n",
    "import matplotlib.pyplot as plt\n",
    "import matplotlib\n",
    "import seaborn as sns\n",
    "import numpy as np\n",
    "\n",
    "THESIS_PATH = \"../../../master_thesis/\""
   ]
  },
  {
   "cell_type": "code",
   "execution_count": 66,
   "metadata": {},
   "outputs": [],
   "source": [
    "# Load test set and normalize\n",
    "repo_root = get_git_root()\n",
    "test_images = np.load(repo_root + \"data/simulated/test/\" + \"images_test.npy\")\n",
    "test_images = normalize_image_data(test_images)\n",
    "test_positions = np.load(repo_root + \"data/simulated/test/\" + \"positions_test.npy\") \n",
    "test_energies = np.load(repo_root + \"data/simulated/test/\" + \"energies_test.npy\") \n",
    "test_labels = np.load(repo_root + \"data/simulated/test/\" + \"labels_test.npy\") "
   ]
  },
  {
   "cell_type": "code",
   "execution_count": 67,
   "metadata": {},
   "outputs": [],
   "source": [
    "def classification_metrics(model, test_images, test_labels, name):\n",
    "    # Get prediction and make class labels based on threshold of 0.5\n",
    "    y_out = model.predict(test_images)\n",
    "    y_pred = y_out > 0.5\n",
    "    confmat = confusion_matrix(test_labels, y_pred)\n",
    "\n",
    "    metrics = {}\n",
    "    metrics['accuracy_score'] = accuracy_score(test_labels, y_pred)\n",
    "    metrics['f1_score'] = f1_score(test_labels, y_pred)\n",
    "    metrics['matthews_corrcoef'] = matthews_corrcoef(test_labels, y_pred)\n",
    "    metrics['roc_auc_score'] = roc_auc_score(test_labels, y_out)\n",
    "    metrics['TN'] = int(confmat[0, 0])\n",
    "    metrics['FP'] = int(confmat[0, 1])\n",
    "    metrics['FN'] = int(confmat[1, 0])\n",
    "    metrics['TP'] = int(confmat[1, 1])\n",
    "    \n",
    "    df = pd.DataFrame.from_dict(data={name: metrics}, orient='index')\n",
    "    return df\n"
   ]
  },
  {
   "cell_type": "markdown",
   "metadata": {},
   "source": [
    "# Pre-processed simulated data - no additional modifications\n",
    "This is the basic metrics for all the models trained on simulated data.\n",
    "The basic pre-processing includes formatting and min-max normalization."
   ]
  },
  {
   "cell_type": "markdown",
   "metadata": {},
   "source": [
    "## Logistic regression"
   ]
  },
  {
   "cell_type": "code",
   "execution_count": 68,
   "metadata": {},
   "outputs": [
    {
     "name": "stdout",
     "output_type": "stream",
     "text": [
      "[[32593 17348]\n",
      " [10635 39424]]\n"
     ]
    }
   ],
   "source": [
    "# Load logistic regression experiment\n",
    "log_ex_id = \"003e1b62336e\"\n",
    "log_ex = load_experiment(log_ex_id)\n",
    "\n",
    "# Load model and predict\n",
    "log_model = tf.keras.models.load_model(repo_root + \"models/\" + log_ex_id + \".h5\", compile=False)\n",
    "log_test = classification_metrics(log_model, test_images.reshape(test_images.shape[0], 256), test_labels, \"log_test\")\n",
    "del log_model #No longer needed, clear memory just in case.\n",
    "\n",
    "log_metrics = experiment_metrics_to_df(log_ex)\n",
    "#display(log_metrics)\n",
    "log_means = log_metrics.agg([np.mean, np.std])#.applymap('{:.3f}'.format)\n",
    "log_means = log_means.rename(index={'mean': 'log_mean', 'std': 'log_std'})\n",
    "#display(log_means)"
   ]
  },
  {
   "cell_type": "code",
   "execution_count": 69,
   "metadata": {},
   "outputs": [
    {
     "data": {
      "text/html": [
       "<div>\n",
       "<style scoped>\n",
       "    .dataframe tbody tr th:only-of-type {\n",
       "        vertical-align: middle;\n",
       "    }\n",
       "\n",
       "    .dataframe tbody tr th {\n",
       "        vertical-align: top;\n",
       "    }\n",
       "\n",
       "    .dataframe thead th {\n",
       "        text-align: right;\n",
       "    }\n",
       "</style>\n",
       "<table border=\"1\" class=\"dataframe\">\n",
       "  <thead>\n",
       "    <tr style=\"text-align: right;\">\n",
       "      <th></th>\n",
       "      <th>accuracy_score</th>\n",
       "      <th>f1_score</th>\n",
       "      <th>matthews_corrcoef</th>\n",
       "      <th>roc_auc_score</th>\n",
       "      <th>TN</th>\n",
       "      <th>FP</th>\n",
       "      <th>FN</th>\n",
       "      <th>TP</th>\n",
       "    </tr>\n",
       "  </thead>\n",
       "  <tbody>\n",
       "    <tr>\n",
       "      <th>log_test</th>\n",
       "      <td>0.72017</td>\n",
       "      <td>0.738063</td>\n",
       "      <td>0.444274</td>\n",
       "      <td>0.832109</td>\n",
       "      <td>32593</td>\n",
       "      <td>17348</td>\n",
       "      <td>10635</td>\n",
       "      <td>39424</td>\n",
       "    </tr>\n",
       "  </tbody>\n",
       "</table>\n",
       "</div>"
      ],
      "text/plain": [
       "          accuracy_score  f1_score  matthews_corrcoef  roc_auc_score     TN  \\\n",
       "log_test  0.72017         0.738063  0.444274           0.832109       32593   \n",
       "\n",
       "             FP     FN     TP  \n",
       "log_test  17348  10635  39424  "
      ]
     },
     "metadata": {},
     "output_type": "display_data"
    }
   ],
   "source": [
    "display(log_test)"
   ]
  },
  {
   "cell_type": "markdown",
   "metadata": {},
   "source": [
    "## Small dense network"
   ]
  },
  {
   "cell_type": "code",
   "execution_count": 70,
   "metadata": {},
   "outputs": [
    {
     "name": "stdout",
     "output_type": "stream",
     "text": [
      "[[44878  5063]\n",
      " [ 4083 45976]]\n"
     ]
    }
   ],
   "source": [
    "# Load logistic regression experiment\n",
    "dense_ex_id = \"c19117f62bd8\"\n",
    "dense_ex = load_experiment(dense_ex_id)\n",
    "dense_model = tf.keras.models.load_model(repo_root + \"models/\" + dense_ex_id + \".h5\", compile=False)\n",
    "dense_test = classification_metrics(dense_model, test_images.reshape(test_images.shape[0], 256), test_labels, \"dense_test\")\n",
    "del dense_model\n",
    "\n",
    "dense_metrics = experiment_metrics_to_df(dense_ex)\n",
    "#display(dense_metrics)\n",
    "dense_means = dense_metrics.agg([np.mean, np.std])#.applymap('{:.3f}'.format)\n",
    "dense_means = dense_means.rename(index={'mean': 'dense_mean', 'std': 'dense_std'})\n",
    "#display(dense_means)"
   ]
  },
  {
   "cell_type": "markdown",
   "metadata": {},
   "source": [
    "## Small CNN"
   ]
  },
  {
   "cell_type": "code",
   "execution_count": 71,
   "metadata": {},
   "outputs": [
    {
     "name": "stdout",
     "output_type": "stream",
     "text": [
      "[[49636   305]\n",
      " [ 3178 46881]]\n"
     ]
    }
   ],
   "source": [
    "# Load logistic regression experiment\n",
    "cnn_ex_id = \"b56e64ac3b1c\"\n",
    "cnn_ex = load_experiment(cnn_ex_id)\n",
    "cnn_model = tf.keras.models.load_model(repo_root + \"models/\" + cnn_ex_id + \".h5\", compile=False)\n",
    "cnn_test = classification_metrics(cnn_model, test_images, test_labels, \"cnn_test\")\n",
    "del cnn_model\n",
    "\n",
    "cnn_metrics = experiment_metrics_to_df(cnn_ex)\n",
    "#display(cnn_metrics)\n",
    "cnn_means = cnn_metrics.agg([np.mean, np.std])#.applymap('{:.3f}'.format)\n",
    "cnn_means = cnn_means.rename(index={'mean': 'cnn_mean', 'std': 'cnn_std'})\n",
    "#display(cnn_means)"
   ]
  },
  {
   "cell_type": "markdown",
   "metadata": {},
   "source": [
    "## Pretrained - VGG\n",
    "As an additional baseline for performance, we include a pretrained SOTA network\n",
    "where trained on the ImageNet database.\n",
    "\n",
    "Due to the size of our detector images (16x16) compared with the size the VGG network is\n",
    "designed for, we cannot use all layers in the VGG network. This stems from the use of max-pooling\n",
    "which effectively reduces the image size to half (8x8) each time the input is passed through such a\n",
    "layer. At some point our input is too small to pass through to the rest of the network.\n",
    "We therefore cut the network at the point where this becomes and issue.\n",
    "Alternatively, one could possibly keep the depth but remove max-pooling layers."
   ]
  },
  {
   "cell_type": "code",
   "execution_count": 72,
   "metadata": {},
   "outputs": [
    {
     "name": "stdout",
     "output_type": "stream",
     "text": [
      "[[47475  2466]\n",
      " [ 6108 43951]]\n"
     ]
    }
   ],
   "source": [
    "# Load pretrained regression experiment\n",
    "pretrained_ex_id = \"c96f61c743c2\"\n",
    "pretrained_ex = load_experiment(pretrained_ex_id)\n",
    "\n",
    "pretrained_model = tf.keras.models.load_model(repo_root + \"models/\" + pretrained_ex_id + \".h5\", compile=False)\n",
    "pretrained_test = classification_metrics(pretrained_model, np.concatenate((test_images, test_images, test_images), axis=-1), test_labels, \"pretrained_test\")\n",
    "del pretrained_model\n",
    "\n",
    "pretrained_metrics = experiment_metrics_to_df(pretrained_ex)\n",
    "#display(pretrained_metrics)\n",
    "pretrained_means = pretrained_metrics.agg([np.mean, np.std])#.applymap('{:.3f}'.format)\n",
    "pretrained_means = pretrained_means.rename(index={'mean': 'pretrained_mean', 'std': 'pretrained_std'})\n",
    "#display(pretrained_means)"
   ]
  },
  {
   "cell_type": "markdown",
   "metadata": {},
   "source": [
    "## Custom model"
   ]
  },
  {
   "cell_type": "code",
   "execution_count": 73,
   "metadata": {},
   "outputs": [
    {
     "name": "stdout",
     "output_type": "stream",
     "text": [
      "[[46412  3529]\n",
      " [  865 49194]]\n"
     ]
    }
   ],
   "source": [
    "# Load custom classification experiment\n",
    "custom_ex_id = \"424cc250c5ab\"\n",
    "custom_ex = load_experiment(custom_ex_id)\n",
    "custom_model = tf.keras.models.load_model(repo_root + \"models/\" + custom_ex_id + \".h5\", compile=False)\n",
    "custom_test = classification_metrics(custom_model, test_images, test_labels, \"custom_test\")\n",
    "del custom_model\n",
    "\n",
    "custom_metrics = experiment_metrics_to_df(custom_ex)\n",
    "#display(custom_metrics)\n",
    "custom_means = custom_metrics.agg([np.mean, np.std])#.applymap('{:.3f}'.format)\n",
    "custom_means = custom_means.rename(index={'mean': 'custom_mean', 'std': 'custom_std'})\n",
    "#display(custom_means)"
   ]
  },
  {
   "cell_type": "markdown",
   "metadata": {},
   "source": [
    "## Combine the metrics into one table\n",
    "We use the standard deviation in the folds as an error measure, and report the mean classification f1_score."
   ]
  },
  {
   "cell_type": "code",
   "execution_count": 74,
   "metadata": {},
   "outputs": [
    {
     "data": {
      "text/html": [
       "<div>\n",
       "<style scoped>\n",
       "    .dataframe tbody tr th:only-of-type {\n",
       "        vertical-align: middle;\n",
       "    }\n",
       "\n",
       "    .dataframe tbody tr th {\n",
       "        vertical-align: top;\n",
       "    }\n",
       "\n",
       "    .dataframe thead th {\n",
       "        text-align: right;\n",
       "    }\n",
       "</style>\n",
       "<table border=\"1\" class=\"dataframe\">\n",
       "  <thead>\n",
       "    <tr style=\"text-align: right;\">\n",
       "      <th></th>\n",
       "      <th>f1_score</th>\n",
       "      <th>roc_auc_score</th>\n",
       "      <th>TN</th>\n",
       "      <th>FP</th>\n",
       "      <th>FN</th>\n",
       "      <th>TP</th>\n",
       "    </tr>\n",
       "  </thead>\n",
       "  <tbody>\n",
       "    <tr>\n",
       "      <th>Logistic</th>\n",
       "      <td>0.007727</td>\n",
       "      <td>0.000652</td>\n",
       "      <td>15459.292099</td>\n",
       "      <td>15459.714179</td>\n",
       "      <td>11180.656255</td>\n",
       "      <td>11180.229591</td>\n",
       "    </tr>\n",
       "    <tr>\n",
       "      <th>Dense</th>\n",
       "      <td>0.013294</td>\n",
       "      <td>0.017742</td>\n",
       "      <td>11248.801238</td>\n",
       "      <td>11249.180801</td>\n",
       "      <td>5205.240965</td>\n",
       "      <td>5204.807556</td>\n",
       "    </tr>\n",
       "    <tr>\n",
       "      <th>Convolutional</th>\n",
       "      <td>0.006286</td>\n",
       "      <td>0.002185</td>\n",
       "      <td>728.704535</td>\n",
       "      <td>729.014266</td>\n",
       "      <td>2692.281245</td>\n",
       "      <td>2691.857946</td>\n",
       "    </tr>\n",
       "    <tr>\n",
       "      <th>Pretrained VGG16</th>\n",
       "      <td>0.015909</td>\n",
       "      <td>0.008505</td>\n",
       "      <td>9079.417448</td>\n",
       "      <td>9079.712429</td>\n",
       "      <td>9408.848256</td>\n",
       "      <td>9408.426686</td>\n",
       "    </tr>\n",
       "    <tr>\n",
       "      <th>Custom</th>\n",
       "      <td>0.022598</td>\n",
       "      <td>0.022180</td>\n",
       "      <td>10079.391187</td>\n",
       "      <td>9902.582794</td>\n",
       "      <td>922.964084</td>\n",
       "      <td>1034.491566</td>\n",
       "    </tr>\n",
       "  </tbody>\n",
       "</table>\n",
       "</div>"
      ],
      "text/plain": [
       "                  f1_score  roc_auc_score            TN            FP  \\\n",
       "Logistic          0.007727  0.000652       15459.292099  15459.714179   \n",
       "Dense             0.013294  0.017742       11248.801238  11249.180801   \n",
       "Convolutional     0.006286  0.002185       728.704535    729.014266     \n",
       "Pretrained VGG16  0.015909  0.008505       9079.417448   9079.712429    \n",
       "Custom            0.022598  0.022180       10079.391187  9902.582794    \n",
       "\n",
       "                            FN            TP  \n",
       "Logistic          11180.656255  11180.229591  \n",
       "Dense             5205.240965   5204.807556   \n",
       "Convolutional     2692.281245   2691.857946   \n",
       "Pretrained VGG16  9408.848256   9408.426686   \n",
       "Custom            922.964084    1034.491566   "
      ]
     },
     "metadata": {},
     "output_type": "display_data"
    },
    {
     "data": {
      "text/html": [
       "<div>\n",
       "<style scoped>\n",
       "    .dataframe tbody tr th:only-of-type {\n",
       "        vertical-align: middle;\n",
       "    }\n",
       "\n",
       "    .dataframe tbody tr th {\n",
       "        vertical-align: top;\n",
       "    }\n",
       "\n",
       "    .dataframe thead th {\n",
       "        text-align: right;\n",
       "    }\n",
       "</style>\n",
       "<table border=\"1\" class=\"dataframe\">\n",
       "  <thead>\n",
       "    <tr style=\"text-align: right;\">\n",
       "      <th></th>\n",
       "      <th>f1_score</th>\n",
       "      <th>roc_auc_score</th>\n",
       "      <th>TN</th>\n",
       "      <th>FP</th>\n",
       "      <th>FN</th>\n",
       "      <th>TP</th>\n",
       "    </tr>\n",
       "  </thead>\n",
       "  <tbody>\n",
       "    <tr>\n",
       "      <th>Logistic</th>\n",
       "      <td>0.738063</td>\n",
       "      <td>0.832109</td>\n",
       "      <td>32593.0</td>\n",
       "      <td>17348.0</td>\n",
       "      <td>10635.0</td>\n",
       "      <td>39424.0</td>\n",
       "    </tr>\n",
       "    <tr>\n",
       "      <th>Dense</th>\n",
       "      <td>0.909533</td>\n",
       "      <td>0.956397</td>\n",
       "      <td>44878.0</td>\n",
       "      <td>5063.0</td>\n",
       "      <td>4083.0</td>\n",
       "      <td>45976.0</td>\n",
       "    </tr>\n",
       "    <tr>\n",
       "      <th>Convolutional</th>\n",
       "      <td>0.964183</td>\n",
       "      <td>0.988134</td>\n",
       "      <td>49636.0</td>\n",
       "      <td>305.0</td>\n",
       "      <td>3178.0</td>\n",
       "      <td>46881.0</td>\n",
       "    </tr>\n",
       "    <tr>\n",
       "      <th>Pretrained VGG16</th>\n",
       "      <td>0.911128</td>\n",
       "      <td>0.956329</td>\n",
       "      <td>47475.0</td>\n",
       "      <td>2466.0</td>\n",
       "      <td>6108.0</td>\n",
       "      <td>43951.0</td>\n",
       "    </tr>\n",
       "    <tr>\n",
       "      <th>Custom</th>\n",
       "      <td>0.957249</td>\n",
       "      <td>0.978852</td>\n",
       "      <td>46412.0</td>\n",
       "      <td>3529.0</td>\n",
       "      <td>865.0</td>\n",
       "      <td>49194.0</td>\n",
       "    </tr>\n",
       "  </tbody>\n",
       "</table>\n",
       "</div>"
      ],
      "text/plain": [
       "                  f1_score  roc_auc_score       TN       FP       FN       TP\n",
       "Logistic          0.738063  0.832109       32593.0  17348.0  10635.0  39424.0\n",
       "Dense             0.909533  0.956397       44878.0  5063.0   4083.0   45976.0\n",
       "Convolutional     0.964183  0.988134       49636.0  305.0    3178.0   46881.0\n",
       "Pretrained VGG16  0.911128  0.956329       47475.0  2466.0   6108.0   43951.0\n",
       "Custom            0.957249  0.978852       46412.0  3529.0   865.0    49194.0"
      ]
     },
     "metadata": {},
     "output_type": "display_data"
    }
   ],
   "source": [
    "all_means = pd.DataFrame(\n",
    "    [\n",
    "        log_means.iloc[0][['f1_score', 'roc_auc_score', 'TN', 'FP', 'FN', 'TP']],\n",
    "        dense_means.iloc[0][['f1_score', 'roc_auc_score', 'TN', 'FP', 'FN', 'TP']],\n",
    "        cnn_means.iloc[0][['f1_score', 'roc_auc_score', 'TN', 'FP', 'FN', 'TP']],\n",
    "        pretrained_means.iloc[0][['f1_score', 'roc_auc_score', 'TN', 'FP', 'FN', 'TP']],\n",
    "        custom_means.iloc[0][['f1_score', 'roc_auc_score', 'TN', 'FP', 'FN', 'TP']],\n",
    "    ]\n",
    ").rename(\n",
    "    index={\n",
    "        'log_mean': 'Logistic',\n",
    "        'dense_mean': 'Dense',\n",
    "        'cnn_mean': 'Convolutional',\n",
    "        'pretrained_mean': 'Pretrained VGG16',\n",
    "        'custom_mean': 'Custom',\n",
    "    }\n",
    ")\n",
    "\n",
    "all_std = pd.DataFrame(\n",
    "    [\n",
    "        log_means.iloc[1][['f1_score', 'roc_auc_score', 'TN', 'FP', 'FN', 'TP']],\n",
    "        dense_means.iloc[1][['f1_score', 'roc_auc_score', 'TN', 'FP', 'FN', 'TP']],\n",
    "        cnn_means.iloc[1][['f1_score', 'roc_auc_score', 'TN', 'FP', 'FN', 'TP']],\n",
    "        pretrained_means.iloc[1][['f1_score', 'roc_auc_score', 'TN', 'FP', 'FN', 'TP']],\n",
    "        custom_means.iloc[1][['f1_score', 'roc_auc_score', 'TN', 'FP', 'FN', 'TP']],\n",
    "    ]\n",
    ").rename(\n",
    "    index={\n",
    "        'log_std': 'Logistic',\n",
    "        'dense_std': 'Dense',\n",
    "        'cnn_std': 'Convolutional',\n",
    "        'pretrained_std': 'Pretrained VGG16',\n",
    "        'custom_std': 'Custom'\n",
    "    }\n",
    ")\n",
    "\n",
    "all_test = pd.DataFrame(\n",
    "    [\n",
    "        log_test.iloc[0][['f1_score', 'roc_auc_score', 'TN', 'FP', 'FN', 'TP']],\n",
    "        dense_test.iloc[0][['f1_score', 'roc_auc_score', 'TN', 'FP', 'FN', 'TP']],\n",
    "        cnn_test.iloc[0][['f1_score', 'roc_auc_score', 'TN', 'FP', 'FN', 'TP']],\n",
    "        pretrained_test.iloc[0][['f1_score', 'roc_auc_score', 'TN', 'FP', 'FN', 'TP']],\n",
    "        custom_test.iloc[0][['f1_score', 'roc_auc_score', 'TN', 'FP', 'FN', 'TP']],\n",
    "    ]\n",
    ").rename(\n",
    "    index={\n",
    "        'log_test': 'Logistic',\n",
    "        'dense_test': 'Dense',\n",
    "        'cnn_test': 'Convolutional',\n",
    "        'pretrained_test': 'Pretrained VGG16',\n",
    "        'custom_test': 'Custom',\n",
    "    }\n",
    ")\n",
    "\n",
    "#display(all_means)\n",
    "display(all_std)\n",
    "display(all_test)"
   ]
  },
  {
   "cell_type": "markdown",
   "metadata": {},
   "source": [
    "### Output combined frames to latex\n",
    "Make one table for f1-scores, one for roc auc scores."
   ]
  },
  {
   "cell_type": "code",
   "execution_count": 75,
   "metadata": {},
   "outputs": [],
   "source": [
    "rows = all_test.index\n",
    "f1_auc_str_array = np.zeros((2, all_test.shape[0]), dtype=object)\n",
    "#auc_str_array = np.zeros((1, all_means.shape[0]), dtype=object)\n",
    "for i in range(all_means.shape[0]):\n",
    "    f1_auc_str_array[0, i] = r\"$\\underset{{\\num{{+- {:.3e} }}  }}{{\\num{{ {:.3g} }} }}$\".format(\n",
    "        all_std[\"f1_score\"][i], all_test[\"f1_score\"][i])\n",
    "    f1_auc_str_array[1, i] = r\"$\\underset{{\\num{{+- {:.3e} }}  }}{{\\num{{ {:.3g} }} }}$\".format(\n",
    "        all_std['roc_auc_score'][i], all_test['roc_auc_score'][i])\n",
    "        \n",
    "#f1_df = pd.DataFrame(f1_str_array, columns=rows)\n",
    "#auc_df = pd.DataFrame(auc_str_array, columns=rows)\n",
    "f1_auc_df = pd.DataFrame(f1_auc_str_array, columns=rows, index=['F1-score', 'AUC'])\n",
    "\n",
    "section_path = \"chapters/results/figures/\"\n",
    "fname = THESIS_PATH + section_path + \"classification_simulated_f1_auc.tex\"\n",
    "caption = \"\"\"\n",
    "Test set F1-scores and roc-auc scores for classification of simulated data using multiple models. \n",
    "Error estimates are the standard deviation in results from k-fold cross-validation \n",
    "with $K=5$ folds.\n",
    "\"\"\"\n",
    "label = \"tab:classification-simulated-f1-auc\"\n",
    "with open(fname, \"w\") as fp:\n",
    "    pd.set_option('display.max_colwidth', -1)\n",
    "    f1_auc_df.to_latex(fp, escape=False, caption=caption, label=label, index=True)\n"
   ]
  },
  {
   "cell_type": "markdown",
   "metadata": {},
   "source": [
    "# Pre-processed simulated data - Pixel modified\n",
    "The basic pre-processing includes formatting and min-max normalization.\n",
    "Additionally, the data has had the top and bottom lines of pixels set to 0, plus\n",
    "one pixel inside the detector permanently 0 (which idx again?)."
   ]
  },
  {
   "cell_type": "markdown",
   "metadata": {},
   "source": [
    "## Logistic regression"
   ]
  },
  {
   "cell_type": "code",
   "execution_count": 76,
   "metadata": {},
   "outputs": [
    {
     "name": "stdout",
     "output_type": "stream",
     "text": [
      "[[36262 13679]\n",
      " [13247 36812]]\n"
     ]
    }
   ],
   "source": [
    "# Load logistic regression experiment\n",
    "log_ex_id = \"b89547da983e\"\n",
    "log_ex = load_experiment(log_ex_id)\n",
    "\n",
    "# Load model\n",
    "log_model = tf.keras.models.load_model(repo_root + \"models/\" + log_ex_id + \".h5\", compile=False)\n",
    "log_test = classification_metrics(log_model, test_images.reshape(test_images.shape[0], 256), test_labels, \"log_test\")\n",
    "del log_model #No longer needed, clear memory just in case.\n",
    "\n",
    "log_metrics = experiment_metrics_to_df(log_ex)\n",
    "#display(log_metrics)\n",
    "log_means = log_metrics.agg([np.mean, np.std])#.applymap('{:.3f}'.format)\n",
    "log_means = log_means.rename(index={'mean': 'log_mean', 'std': 'log_std'})\n",
    "#display(log_means)"
   ]
  },
  {
   "cell_type": "markdown",
   "metadata": {},
   "source": [
    "## Small dense network"
   ]
  },
  {
   "cell_type": "code",
   "execution_count": 77,
   "metadata": {},
   "outputs": [
    {
     "name": "stdout",
     "output_type": "stream",
     "text": [
      "[[48629  1312]\n",
      " [ 6651 43408]]\n"
     ]
    }
   ],
   "source": [
    "# Load logistic regression experiment\n",
    "dense_ex_id = \"bc4937925065\"\n",
    "dense_ex = load_experiment(dense_ex_id)\n",
    "dense_model = tf.keras.models.load_model(repo_root + \"models/\" + dense_ex_id + \".h5\", compile=False)\n",
    "dense_test = classification_metrics(dense_model, test_images.reshape(test_images.shape[0], 256), test_labels, \"dense_test\")\n",
    "del dense_model\n",
    "\n",
    "dense_metrics = experiment_metrics_to_df(dense_ex)\n",
    "#display(dense_metrics)\n",
    "dense_means = dense_metrics.agg([np.mean, np.std])#.applymap('{:.3f}'.format)\n",
    "dense_means = dense_means.rename(index={'mean': 'dense_mean', 'std': 'dense_std'})\n",
    "#display(dense_means)"
   ]
  },
  {
   "cell_type": "markdown",
   "metadata": {},
   "source": [
    "## Small CNN"
   ]
  },
  {
   "cell_type": "code",
   "execution_count": 78,
   "metadata": {},
   "outputs": [
    {
     "name": "stdout",
     "output_type": "stream",
     "text": [
      "[[18783 31158]\n",
      " [  465 49594]]\n"
     ]
    }
   ],
   "source": [
    "# Load logistic regression experiment\n",
    "cnn_ex_id = \"2b135384dd50\"\n",
    "cnn_ex = load_experiment(cnn_ex_id)\n",
    "cnn_model = tf.keras.models.load_model(repo_root + \"models/\" + cnn_ex_id + \".h5\", compile=False)\n",
    "cnn_test = classification_metrics(cnn_model, test_images, test_labels, \"cnn_test\")\n",
    "del cnn_model\n",
    "\n",
    "cnn_metrics = experiment_metrics_to_df(cnn_ex)\n",
    "#display(cnn_metrics)\n",
    "cnn_means = cnn_metrics.agg([np.mean, np.std])#.applymap('{:.3f}'.format)\n",
    "cnn_means = cnn_means.rename(index={'mean': 'cnn_mean', 'std': 'cnn_std'})\n",
    "#display(cnn_means)"
   ]
  },
  {
   "cell_type": "markdown",
   "metadata": {},
   "source": [
    "## Pretrained - VGG\n",
    "As an additional baseline for performance, we include a pretrained SOTA network\n",
    "where trained on the ImageNet database.\n",
    "\n",
    "Due to the size of our detector images (16x16) compared with the size the VGG network is\n",
    "designed for, we cannot use all layers in the VGG network. This stems from the use of max-pooling\n",
    "which effectively reduces the image size to half (8x8) each time the input is passed through such a\n",
    "layer. At some point our input is too small to pass through to the rest of the network.\n",
    "We therefore cut the network at the point where this becomes and issue.\n",
    "Alternatively, one could possibly keep the depth but remove max-pooling layers."
   ]
  },
  {
   "cell_type": "code",
   "execution_count": 79,
   "metadata": {},
   "outputs": [
    {
     "name": "stdout",
     "output_type": "stream",
     "text": [
      "[[45613  4328]\n",
      " [ 5834 44225]]\n"
     ]
    }
   ],
   "source": [
    "# Load logistic regression experiment\n",
    "pretrained_ex_id = \"6bc44ed76ea7\"\n",
    "pretrained_ex = load_experiment(pretrained_ex_id)\n",
    "pretrained_model = tf.keras.models.load_model(repo_root + \"models/\" + pretrained_ex_id + \".h5\", compile=False)\n",
    "pretrained_test = classification_metrics(pretrained_model, np.concatenate((test_images, test_images, test_images), axis=-1), test_labels, \"pretrained_test\")\n",
    "del pretrained_model\n",
    "\n",
    "pretrained_metrics = experiment_metrics_to_df(pretrained_ex)\n",
    "#display(pretrained_metrics)\n",
    "pretrained_means = pretrained_metrics.agg([np.mean, np.std])#.applymap('{:.3f}'.format)\n",
    "pretrained_means = pretrained_means.rename(index={'mean': 'pretrained_mean', 'std': 'pretrained_std'})\n",
    "#display(pretrained_means)"
   ]
  },
  {
   "cell_type": "markdown",
   "metadata": {},
   "source": [
    "## Custom model"
   ]
  },
  {
   "cell_type": "code",
   "execution_count": 80,
   "metadata": {},
   "outputs": [
    {
     "name": "stdout",
     "output_type": "stream",
     "text": [
      "[[44398  5543]\n",
      " [  909 49150]]\n"
     ]
    }
   ],
   "source": [
    "# Load custom classification experiment\n",
    "custom_ex_id = \"60f95ed56212\"\n",
    "custom_ex = load_experiment(custom_ex_id)\n",
    "custom_model = tf.keras.models.load_model(repo_root + \"models/\" + custom_ex_id + \".h5\", compile=False)\n",
    "custom_test = classification_metrics(custom_model, test_images, test_labels, \"custom_test\")\n",
    "del custom_model\n",
    "\n",
    "custom_metrics = experiment_metrics_to_df(custom_ex)\n",
    "#display(custom_metrics)\n",
    "custom_means = custom_metrics.agg([np.mean, np.std])#.applymap('{:.3f}'.format)\n",
    "custom_means = custom_means.rename(index={'mean': 'custom_mean', 'std': 'custom_std'})\n",
    "#display(custom_means)"
   ]
  },
  {
   "cell_type": "markdown",
   "metadata": {},
   "source": [
    "## Combine the metrics into one table\n",
    "We use the standard deviation in the folds as an error measure, and report the mean classification f1_score."
   ]
  },
  {
   "cell_type": "code",
   "execution_count": 81,
   "metadata": {},
   "outputs": [
    {
     "data": {
      "text/html": [
       "<div>\n",
       "<style scoped>\n",
       "    .dataframe tbody tr th:only-of-type {\n",
       "        vertical-align: middle;\n",
       "    }\n",
       "\n",
       "    .dataframe tbody tr th {\n",
       "        vertical-align: top;\n",
       "    }\n",
       "\n",
       "    .dataframe thead th {\n",
       "        text-align: right;\n",
       "    }\n",
       "</style>\n",
       "<table border=\"1\" class=\"dataframe\">\n",
       "  <thead>\n",
       "    <tr style=\"text-align: right;\">\n",
       "      <th></th>\n",
       "      <th>f1_score</th>\n",
       "      <th>roc_auc_score</th>\n",
       "      <th>TN</th>\n",
       "      <th>FP</th>\n",
       "      <th>FN</th>\n",
       "      <th>TP</th>\n",
       "    </tr>\n",
       "  </thead>\n",
       "  <tbody>\n",
       "    <tr>\n",
       "      <th>Logistic</th>\n",
       "      <td>0.732213</td>\n",
       "      <td>0.831502</td>\n",
       "      <td>36262.0</td>\n",
       "      <td>13679.0</td>\n",
       "      <td>13247.0</td>\n",
       "      <td>36812.0</td>\n",
       "    </tr>\n",
       "    <tr>\n",
       "      <th>Dense</th>\n",
       "      <td>0.915983</td>\n",
       "      <td>0.955650</td>\n",
       "      <td>48629.0</td>\n",
       "      <td>1312.0</td>\n",
       "      <td>6651.0</td>\n",
       "      <td>43408.0</td>\n",
       "    </tr>\n",
       "    <tr>\n",
       "      <th>Convolutional</th>\n",
       "      <td>0.758254</td>\n",
       "      <td>0.977122</td>\n",
       "      <td>18783.0</td>\n",
       "      <td>31158.0</td>\n",
       "      <td>465.0</td>\n",
       "      <td>49594.0</td>\n",
       "    </tr>\n",
       "    <tr>\n",
       "      <th>Pretrained VGG16</th>\n",
       "      <td>0.896950</td>\n",
       "      <td>0.949046</td>\n",
       "      <td>45613.0</td>\n",
       "      <td>4328.0</td>\n",
       "      <td>5834.0</td>\n",
       "      <td>44225.0</td>\n",
       "    </tr>\n",
       "    <tr>\n",
       "      <th>Custom</th>\n",
       "      <td>0.938407</td>\n",
       "      <td>0.989763</td>\n",
       "      <td>44398.0</td>\n",
       "      <td>5543.0</td>\n",
       "      <td>909.0</td>\n",
       "      <td>49150.0</td>\n",
       "    </tr>\n",
       "  </tbody>\n",
       "</table>\n",
       "</div>"
      ],
      "text/plain": [
       "                  f1_score  roc_auc_score       TN       FP       FN       TP\n",
       "Logistic          0.732213  0.831502       36262.0  13679.0  13247.0  36812.0\n",
       "Dense             0.915983  0.955650       48629.0  1312.0   6651.0   43408.0\n",
       "Convolutional     0.758254  0.977122       18783.0  31158.0  465.0    49594.0\n",
       "Pretrained VGG16  0.896950  0.949046       45613.0  4328.0   5834.0   44225.0\n",
       "Custom            0.938407  0.989763       44398.0  5543.0   909.0    49150.0"
      ]
     },
     "metadata": {},
     "output_type": "display_data"
    },
    {
     "data": {
      "text/html": [
       "<div>\n",
       "<style scoped>\n",
       "    .dataframe tbody tr th:only-of-type {\n",
       "        vertical-align: middle;\n",
       "    }\n",
       "\n",
       "    .dataframe tbody tr th {\n",
       "        vertical-align: top;\n",
       "    }\n",
       "\n",
       "    .dataframe thead th {\n",
       "        text-align: right;\n",
       "    }\n",
       "</style>\n",
       "<table border=\"1\" class=\"dataframe\">\n",
       "  <thead>\n",
       "    <tr style=\"text-align: right;\">\n",
       "      <th></th>\n",
       "      <th>f1_score</th>\n",
       "      <th>roc_auc_score</th>\n",
       "      <th>TN</th>\n",
       "      <th>FP</th>\n",
       "      <th>FN</th>\n",
       "      <th>TP</th>\n",
       "    </tr>\n",
       "  </thead>\n",
       "  <tbody>\n",
       "    <tr>\n",
       "      <th>Logistic</th>\n",
       "      <td>0.002273</td>\n",
       "      <td>0.000978</td>\n",
       "      <td>6969.542646</td>\n",
       "      <td>7066.629996</td>\n",
       "      <td>4777.530220</td>\n",
       "      <td>4692.078079</td>\n",
       "    </tr>\n",
       "    <tr>\n",
       "      <th>Dense</th>\n",
       "      <td>0.008276</td>\n",
       "      <td>0.002604</td>\n",
       "      <td>6509.950361</td>\n",
       "      <td>6663.786446</td>\n",
       "      <td>3381.693245</td>\n",
       "      <td>3292.095731</td>\n",
       "    </tr>\n",
       "    <tr>\n",
       "      <th>Convolutional</th>\n",
       "      <td>0.036397</td>\n",
       "      <td>0.009848</td>\n",
       "      <td>1802.889403</td>\n",
       "      <td>1762.989365</td>\n",
       "      <td>13159.728405</td>\n",
       "      <td>13165.576489</td>\n",
       "    </tr>\n",
       "    <tr>\n",
       "      <th>Pretrained VGG16</th>\n",
       "      <td>0.019258</td>\n",
       "      <td>0.009530</td>\n",
       "      <td>3544.233373</td>\n",
       "      <td>3772.131466</td>\n",
       "      <td>8271.828202</td>\n",
       "      <td>8195.687933</td>\n",
       "    </tr>\n",
       "    <tr>\n",
       "      <th>Custom</th>\n",
       "      <td>0.007601</td>\n",
       "      <td>0.001763</td>\n",
       "      <td>3405.588026</td>\n",
       "      <td>3572.381377</td>\n",
       "      <td>663.701590</td>\n",
       "      <td>644.827651</td>\n",
       "    </tr>\n",
       "  </tbody>\n",
       "</table>\n",
       "</div>"
      ],
      "text/plain": [
       "                  f1_score  roc_auc_score           TN           FP  \\\n",
       "Logistic          0.002273  0.000978       6969.542646  7066.629996   \n",
       "Dense             0.008276  0.002604       6509.950361  6663.786446   \n",
       "Convolutional     0.036397  0.009848       1802.889403  1762.989365   \n",
       "Pretrained VGG16  0.019258  0.009530       3544.233373  3772.131466   \n",
       "Custom            0.007601  0.001763       3405.588026  3572.381377   \n",
       "\n",
       "                            FN            TP  \n",
       "Logistic          4777.530220   4692.078079   \n",
       "Dense             3381.693245   3292.095731   \n",
       "Convolutional     13159.728405  13165.576489  \n",
       "Pretrained VGG16  8271.828202   8195.687933   \n",
       "Custom            663.701590    644.827651    "
      ]
     },
     "metadata": {},
     "output_type": "display_data"
    }
   ],
   "source": [
    "all_means_pmod = pd.DataFrame(\n",
    "    [\n",
    "        log_means.iloc[0][['f1_score', 'roc_auc_score', 'TN', 'FP', 'FN', 'TP']],\n",
    "        dense_means.iloc[0][['f1_score', 'roc_auc_score', 'TN', 'FP', 'FN', 'TP']],\n",
    "        cnn_means.iloc[0][['f1_score', 'roc_auc_score', 'TN', 'FP', 'FN', 'TP']],\n",
    "        pretrained_means.iloc[0][['f1_score', 'roc_auc_score', 'TN', 'FP', 'FN', 'TP']],\n",
    "        custom_means.iloc[0][['f1_score', 'roc_auc_score', 'TN', 'FP', 'FN', 'TP']],\n",
    "    ]\n",
    ").rename(\n",
    "    index={\n",
    "        'log_mean': 'Logistic',\n",
    "        'dense_mean': 'Dense',\n",
    "        'cnn_mean': 'Convolutional',\n",
    "        'pretrained_mean': 'Pretrained VGG16',\n",
    "        'custom_mean': 'Custom',\n",
    "    }\n",
    ")\n",
    "\n",
    "all_std_pmod = pd.DataFrame(\n",
    "    [\n",
    "        log_means.iloc[1][['f1_score', 'roc_auc_score', 'TN', 'FP', 'FN', 'TP']],\n",
    "        dense_means.iloc[1][['f1_score', 'roc_auc_score', 'TN', 'FP', 'FN', 'TP']],\n",
    "        cnn_means.iloc[1][['f1_score', 'roc_auc_score', 'TN', 'FP', 'FN', 'TP']],\n",
    "        pretrained_means.iloc[1][['f1_score', 'roc_auc_score', 'TN', 'FP', 'FN', 'TP']],\n",
    "        custom_means.iloc[1][['f1_score', 'roc_auc_score', 'TN', 'FP', 'FN', 'TP']],\n",
    "    ]\n",
    ").rename(\n",
    "    index={\n",
    "        'log_std': 'Logistic',\n",
    "        'dense_std': 'Dense',\n",
    "        'cnn_std': 'Convolutional',\n",
    "        'pretrained_std': 'Pretrained VGG16',\n",
    "        'custom_std': 'Custom',\n",
    "    }\n",
    ")\n",
    "\n",
    "all_test_pmod = pd.DataFrame(\n",
    "    [\n",
    "        log_test.iloc[0][['f1_score', 'roc_auc_score', 'TN', 'FP', 'FN', 'TP']],\n",
    "        dense_test.iloc[0][['f1_score', 'roc_auc_score', 'TN', 'FP', 'FN', 'TP']],\n",
    "        cnn_test.iloc[0][['f1_score', 'roc_auc_score', 'TN', 'FP', 'FN', 'TP']],\n",
    "        pretrained_test.iloc[0][['f1_score', 'roc_auc_score', 'TN', 'FP', 'FN', 'TP']],\n",
    "        custom_test.iloc[0][['f1_score', 'roc_auc_score', 'TN', 'FP', 'FN', 'TP']],\n",
    "    ]\n",
    ").rename(\n",
    "    index={\n",
    "        'log_test': 'Logistic',\n",
    "        'dense_test': 'Dense',\n",
    "        'cnn_test': 'Convolutional',\n",
    "        'pretrained_test': 'Pretrained VGG16',\n",
    "        'custom_test': 'Custom',\n",
    "    }\n",
    ")\n",
    "#display(all_means_pmod)\n",
    "display(all_test_pmod)\n",
    "display(all_std_pmod)"
   ]
  },
  {
   "cell_type": "markdown",
   "metadata": {},
   "source": [
    "### Output combined frame to latex"
   ]
  },
  {
   "cell_type": "code",
   "execution_count": 82,
   "metadata": {},
   "outputs": [],
   "source": [
    "rows = all_test_pmod.index\n",
    "f1_auc_str_array = np.zeros((2, all_test_pmod.shape[0]), dtype=object)\n",
    "#auc_str_array = np.zeros((1, all_means.shape[0]), dtype=object)\n",
    "for i in range(all_test_pmod.shape[0]):\n",
    "    f1_auc_str_array[0, i] = r\"$\\underset{{\\num{{+- {:.3e} }}  }}{{\\num{{ {:.3g} }} }}$\".format(\n",
    "        all_std_pmod[\"f1_score\"][i], all_test_pmod[\"f1_score\"][i])\n",
    "    f1_auc_str_array[1, i] = r\"$\\underset{{\\num{{+- {:.3e} }}  }}{{\\num{{ {:.3g} }} }}$\".format(\n",
    "        all_std_pmod['roc_auc_score'][i], all_test_pmod['roc_auc_score'][i])\n",
    "        \n",
    "#f1_df = pd.DataFrame(f1_str_array, columns=rows)\n",
    "#auc_df = pd.DataFrame(auc_str_array, columns=rows)\n",
    "f1_auc_df = pd.DataFrame(f1_auc_str_array, columns=rows, index=['F1-score', 'AUC'])\n",
    "\n",
    "section_path = \"chapters/results/figures/\"\n",
    "fname = THESIS_PATH + section_path + \"classification_simulated_pixelmod_f1_auc.tex\"\n",
    "caption = \"\"\"\n",
    "Test set F1-scores and roc-auc scores for classification of simulated data with specific pixels\n",
    "modified, using multiple models. Error estimates are the standard deviation in results from \n",
    "k-fold cross-validation with $K=5$ folds.\n",
    "\"\"\"\n",
    "label = \"tab:classification-simulated-pixelmod-f1-auc\"\n",
    "with open(fname, \"w\") as fp:\n",
    "    pd.set_option('display.max_colwidth', -1)\n",
    "    f1_auc_df.to_latex(fp, escape=False, caption=caption, label=label, index=True)\n"
   ]
  },
  {
   "cell_type": "markdown",
   "metadata": {},
   "source": [
    "# Pre-processed simulated data - Pixel modified and imbalanced\n",
    "The basic pre-processing includes formatting and min-max normalization.\n",
    "Additionally, the data has had the top and bottom lines of pixels set to 0, plus\n",
    "one pixel inside the detector permanently 0 (which idx again?).\n",
    "\n",
    "This dataset has also been purposefully imbalanced to mimic the properties of experimental data\n",
    "where doubles in space are expected to be rare."
   ]
  },
  {
   "cell_type": "markdown",
   "metadata": {},
   "source": [
    "## Logistic regression"
   ]
  },
  {
   "cell_type": "code",
   "execution_count": 83,
   "metadata": {},
   "outputs": [
    {
     "name": "stdout",
     "output_type": "stream",
     "text": [
      "[[49941     0]\n",
      " [41499  8560]]\n"
     ]
    }
   ],
   "source": [
    "# Load logistic regression experiment\n",
    "log_ex_id = \"f7f88d576358\"\n",
    "log_ex = load_experiment(log_ex_id)\n",
    "\n",
    "# Load model\n",
    "log_model = tf.keras.models.load_model(repo_root + \"models/\" + log_ex_id + \".h5\", compile=False)\n",
    "log_test = classification_metrics(log_model, test_images.reshape(test_images.shape[0], 256), test_labels, \"log_test\")\n",
    "del log_model #No longer needed, clear memory just in case.\n",
    "\n",
    "log_metrics = experiment_metrics_to_df(log_ex)\n",
    "#display(log_metrics)\n",
    "log_means = log_metrics.agg([np.mean, np.std])#.applymap('{:.3f}'.format)\n",
    "log_means = log_means.rename(index={'mean': 'log_mean', 'std': 'log_std'})\n",
    "#display(log_means)"
   ]
  },
  {
   "cell_type": "markdown",
   "metadata": {},
   "source": [
    "## Small dense network"
   ]
  },
  {
   "cell_type": "code",
   "execution_count": 84,
   "metadata": {},
   "outputs": [
    {
     "name": "stdout",
     "output_type": "stream",
     "text": [
      "[[49941     0]\n",
      " [32492 17567]]\n"
     ]
    }
   ],
   "source": [
    "# Load logistic regression experiment\n",
    "dense_ex_id = \"eda9d70f103d\"\n",
    "dense_ex = load_experiment(dense_ex_id)\n",
    "dense_model = tf.keras.models.load_model(repo_root + \"models/\" + dense_ex_id + \".h5\", compile=False)\n",
    "dense_test = classification_metrics(dense_model, test_images.reshape(test_images.shape[0], 256), test_labels, \"dense_test\")\n",
    "del dense_model\n",
    "\n",
    "dense_metrics = experiment_metrics_to_df(dense_ex)\n",
    "#display(dense_metrics)\n",
    "dense_means = dense_metrics.agg([np.mean, np.std])#.applymap('{:.3f}'.format)\n",
    "dense_means = dense_means.rename(index={'mean': 'dense_mean', 'std': 'dense_std'})\n",
    "#display(dense_means)"
   ]
  },
  {
   "cell_type": "markdown",
   "metadata": {},
   "source": [
    "## Small CNN"
   ]
  },
  {
   "cell_type": "code",
   "execution_count": 85,
   "metadata": {},
   "outputs": [
    {
     "name": "stdout",
     "output_type": "stream",
     "text": [
      "[[48014  1927]\n",
      " [ 7511 42548]]\n"
     ]
    }
   ],
   "source": [
    "# Load logistic regression experiment\n",
    "cnn_ex_id = \"fbec3ae91aaa\"\n",
    "cnn_ex = load_experiment(cnn_ex_id)\n",
    "cnn_model = tf.keras.models.load_model(repo_root + \"models/\" + cnn_ex_id + \".h5\", compile=False)\n",
    "cnn_test = classification_metrics(cnn_model, test_images, test_labels, \"cnn_test\")\n",
    "del cnn_model\n",
    "\n",
    "cnn_metrics = experiment_metrics_to_df(cnn_ex)\n",
    "#display(cnn_metrics)\n",
    "cnn_means = cnn_metrics.agg([np.mean, np.std])#.applymap('{:.3f}'.format)\n",
    "cnn_means = cnn_means.rename(index={'mean': 'cnn_mean', 'std': 'cnn_std'})\n",
    "#display(cnn_means)"
   ]
  },
  {
   "cell_type": "markdown",
   "metadata": {},
   "source": [
    "## Pretrained - VGG\n",
    "As an additional baseline for performance, we include a pretrained SOTA network\n",
    "where trained on the ImageNet database.\n",
    "\n",
    "Due to the size of our detector images (16x16) compared with the size the VGG network is\n",
    "designed for, we cannot use all layers in the VGG network. This stems from the use of max-pooling\n",
    "which effectively reduces the image size to half (8x8) each time the input is passed through such a\n",
    "layer. At some point our input is too small to pass through to the rest of the network.\n",
    "We therefore cut the network at the point where this becomes and issue.\n",
    "Alternatively, one could possibly keep the depth but remove max-pooling layers."
   ]
  },
  {
   "cell_type": "code",
   "execution_count": 86,
   "metadata": {},
   "outputs": [
    {
     "name": "stdout",
     "output_type": "stream",
     "text": [
      "[[49903    38]\n",
      " [15036 35023]]\n"
     ]
    }
   ],
   "source": [
    "# Load logistic regression experiment\n",
    "pretrained_ex_id = \"63d7c8bf7564\"\n",
    "pretrained_ex = load_experiment(pretrained_ex_id)\n",
    "pretrained_model = tf.keras.models.load_model(repo_root + \"models/\" + pretrained_ex_id + \".h5\", compile=False)\n",
    "pretrained_test = classification_metrics(pretrained_model, np.concatenate((test_images, test_images, test_images), axis=-1), test_labels, \"pretrained_test\")\n",
    "del pretrained_model\n",
    "\n",
    "pretrained_metrics = experiment_metrics_to_df(pretrained_ex)\n",
    "#display(pretrained_metrics)\n",
    "pretrained_means = pretrained_metrics.agg([np.mean, np.std])#.applymap('{:.3f}'.format)\n",
    "pretrained_means = pretrained_means.rename(index={'mean': 'pretrained_mean', 'std': 'pretrained_std'})\n",
    "#display(pretrained_means)"
   ]
  },
  {
   "cell_type": "markdown",
   "metadata": {},
   "source": [
    "## Custom model"
   ]
  },
  {
   "cell_type": "code",
   "execution_count": 87,
   "metadata": {},
   "outputs": [
    {
     "name": "stdout",
     "output_type": "stream",
     "text": [
      "[[49655   286]\n",
      " [ 2672 47387]]\n"
     ]
    }
   ],
   "source": [
    "# Load custom classification experiment\n",
    "custom_ex_id = \"5f6eef7315ab\"\n",
    "custom_ex = load_experiment(custom_ex_id)\n",
    "custom_model = tf.keras.models.load_model(repo_root + \"models/\" + custom_ex_id + \".h5\", compile=False)\n",
    "custom_test = classification_metrics(custom_model, test_images, test_labels, \"custom_test\")\n",
    "del custom_model\n",
    "\n",
    "custom_metrics = experiment_metrics_to_df(custom_ex)\n",
    "#display(custom_metrics)\n",
    "custom_means = custom_metrics.agg([np.mean, np.std])#.applymap('{:.3f}'.format)\n",
    "custom_means = custom_means.rename(index={'mean': 'custom_mean', 'std': 'custom_std'})\n",
    "#display(custom_means)"
   ]
  },
  {
   "cell_type": "markdown",
   "metadata": {},
   "source": [
    "## Combine the metrics into one table\n",
    "We use the standard deviation in the folds as an error measure, and report the mean classification f1_score."
   ]
  },
  {
   "cell_type": "code",
   "execution_count": 88,
   "metadata": {},
   "outputs": [
    {
     "data": {
      "text/html": [
       "<div>\n",
       "<style scoped>\n",
       "    .dataframe tbody tr th:only-of-type {\n",
       "        vertical-align: middle;\n",
       "    }\n",
       "\n",
       "    .dataframe tbody tr th {\n",
       "        vertical-align: top;\n",
       "    }\n",
       "\n",
       "    .dataframe thead th {\n",
       "        text-align: right;\n",
       "    }\n",
       "</style>\n",
       "<table border=\"1\" class=\"dataframe\">\n",
       "  <thead>\n",
       "    <tr style=\"text-align: right;\">\n",
       "      <th></th>\n",
       "      <th>f1_score</th>\n",
       "      <th>roc_auc_score</th>\n",
       "      <th>TN</th>\n",
       "      <th>FP</th>\n",
       "      <th>FN</th>\n",
       "      <th>TP</th>\n",
       "    </tr>\n",
       "  </thead>\n",
       "  <tbody>\n",
       "    <tr>\n",
       "      <th>Logistic</th>\n",
       "      <td>0.292055</td>\n",
       "      <td>0.831520</td>\n",
       "      <td>49941.0</td>\n",
       "      <td>0.0</td>\n",
       "      <td>41499.0</td>\n",
       "      <td>8560.0</td>\n",
       "    </tr>\n",
       "    <tr>\n",
       "      <th>Dense</th>\n",
       "      <td>0.519534</td>\n",
       "      <td>0.830055</td>\n",
       "      <td>49941.0</td>\n",
       "      <td>0.0</td>\n",
       "      <td>32492.0</td>\n",
       "      <td>17567.0</td>\n",
       "    </tr>\n",
       "    <tr>\n",
       "      <th>Convolutional</th>\n",
       "      <td>0.900163</td>\n",
       "      <td>0.943791</td>\n",
       "      <td>48014.0</td>\n",
       "      <td>1927.0</td>\n",
       "      <td>7511.0</td>\n",
       "      <td>42548.0</td>\n",
       "    </tr>\n",
       "    <tr>\n",
       "      <th>Pretrained VGG16</th>\n",
       "      <td>0.822909</td>\n",
       "      <td>0.919975</td>\n",
       "      <td>49903.0</td>\n",
       "      <td>38.0</td>\n",
       "      <td>15036.0</td>\n",
       "      <td>35023.0</td>\n",
       "    </tr>\n",
       "    <tr>\n",
       "      <th>Custom</th>\n",
       "      <td>0.969734</td>\n",
       "      <td>0.985554</td>\n",
       "      <td>49655.0</td>\n",
       "      <td>286.0</td>\n",
       "      <td>2672.0</td>\n",
       "      <td>47387.0</td>\n",
       "    </tr>\n",
       "  </tbody>\n",
       "</table>\n",
       "</div>"
      ],
      "text/plain": [
       "                  f1_score  roc_auc_score       TN      FP       FN       TP\n",
       "Logistic          0.292055  0.831520       49941.0  0.0     41499.0  8560.0 \n",
       "Dense             0.519534  0.830055       49941.0  0.0     32492.0  17567.0\n",
       "Convolutional     0.900163  0.943791       48014.0  1927.0  7511.0   42548.0\n",
       "Pretrained VGG16  0.822909  0.919975       49903.0  38.0    15036.0  35023.0\n",
       "Custom            0.969734  0.985554       49655.0  286.0   2672.0   47387.0"
      ]
     },
     "metadata": {},
     "output_type": "display_data"
    },
    {
     "data": {
      "text/html": [
       "<div>\n",
       "<style scoped>\n",
       "    .dataframe tbody tr th:only-of-type {\n",
       "        vertical-align: middle;\n",
       "    }\n",
       "\n",
       "    .dataframe tbody tr th {\n",
       "        vertical-align: top;\n",
       "    }\n",
       "\n",
       "    .dataframe thead th {\n",
       "        text-align: right;\n",
       "    }\n",
       "</style>\n",
       "<table border=\"1\" class=\"dataframe\">\n",
       "  <thead>\n",
       "    <tr style=\"text-align: right;\">\n",
       "      <th></th>\n",
       "      <th>f1_score</th>\n",
       "      <th>roc_auc_score</th>\n",
       "      <th>TN</th>\n",
       "      <th>FP</th>\n",
       "      <th>FN</th>\n",
       "      <th>TP</th>\n",
       "    </tr>\n",
       "  </thead>\n",
       "  <tbody>\n",
       "    <tr>\n",
       "      <th>Logistic</th>\n",
       "      <td>0.084834</td>\n",
       "      <td>0.001601</td>\n",
       "      <td>105.779488</td>\n",
       "      <td>37.903826</td>\n",
       "      <td>670.930473</td>\n",
       "      <td>734.189553</td>\n",
       "    </tr>\n",
       "    <tr>\n",
       "      <th>Dense</th>\n",
       "      <td>0.123300</td>\n",
       "      <td>0.002750</td>\n",
       "      <td>9585.334068</td>\n",
       "      <td>9525.210538</td>\n",
       "      <td>639.570794</td>\n",
       "      <td>704.820190</td>\n",
       "    </tr>\n",
       "    <tr>\n",
       "      <th>Convolutional</th>\n",
       "      <td>0.094579</td>\n",
       "      <td>0.008035</td>\n",
       "      <td>3018.723936</td>\n",
       "      <td>2982.546982</td>\n",
       "      <td>494.745692</td>\n",
       "      <td>512.289469</td>\n",
       "    </tr>\n",
       "    <tr>\n",
       "      <th>Pretrained VGG16</th>\n",
       "      <td>0.036056</td>\n",
       "      <td>0.004376</td>\n",
       "      <td>950.472146</td>\n",
       "      <td>911.750679</td>\n",
       "      <td>140.043565</td>\n",
       "      <td>139.566113</td>\n",
       "    </tr>\n",
       "    <tr>\n",
       "      <th>Custom</th>\n",
       "      <td>0.104667</td>\n",
       "      <td>0.000531</td>\n",
       "      <td>2927.953552</td>\n",
       "      <td>2892.465505</td>\n",
       "      <td>82.663777</td>\n",
       "      <td>137.268715</td>\n",
       "    </tr>\n",
       "  </tbody>\n",
       "</table>\n",
       "</div>"
      ],
      "text/plain": [
       "                  f1_score  roc_auc_score           TN           FP  \\\n",
       "Logistic          0.084834  0.001601       105.779488   37.903826     \n",
       "Dense             0.123300  0.002750       9585.334068  9525.210538   \n",
       "Convolutional     0.094579  0.008035       3018.723936  2982.546982   \n",
       "Pretrained VGG16  0.036056  0.004376       950.472146   911.750679    \n",
       "Custom            0.104667  0.000531       2927.953552  2892.465505   \n",
       "\n",
       "                          FN          TP  \n",
       "Logistic          670.930473  734.189553  \n",
       "Dense             639.570794  704.820190  \n",
       "Convolutional     494.745692  512.289469  \n",
       "Pretrained VGG16  140.043565  139.566113  \n",
       "Custom            82.663777   137.268715  "
      ]
     },
     "metadata": {},
     "output_type": "display_data"
    }
   ],
   "source": [
    "all_means_imbalanced = pd.DataFrame(\n",
    "    [\n",
    "        log_means.iloc[0][['f1_score', 'roc_auc_score', 'TN', 'FP', 'FN', 'TP']],\n",
    "        dense_means.iloc[0][['f1_score', 'roc_auc_score', 'TN', 'FP', 'FN', 'TP']],\n",
    "        cnn_means.iloc[0][['f1_score', 'roc_auc_score', 'TN', 'FP', 'FN', 'TP']],\n",
    "        pretrained_means.iloc[0][['f1_score', 'roc_auc_score', 'TN', 'FP', 'FN', 'TP']],\n",
    "        custom_means.iloc[0][['f1_score', 'roc_auc_score', 'TN', 'FP', 'FN', 'TP']],\n",
    "    ]\n",
    ").rename(\n",
    "    index={\n",
    "        'log_mean': 'Logistic',\n",
    "        'dense_mean': 'Dense',\n",
    "        'cnn_mean': 'Convolutional',\n",
    "        'pretrained_mean': 'Pretrained VGG16',\n",
    "        'custom_mean': 'Custom',\n",
    "    }\n",
    ")\n",
    "all_std_imbalanced = pd.DataFrame(\n",
    "    [\n",
    "        log_means.iloc[1][['f1_score', 'roc_auc_score', 'TN', 'FP', 'FN', 'TP']],\n",
    "        dense_means.iloc[1][['f1_score', 'roc_auc_score', 'TN', 'FP', 'FN', 'TP']],\n",
    "        cnn_means.iloc[1][['f1_score', 'roc_auc_score', 'TN', 'FP', 'FN', 'TP']],\n",
    "        pretrained_means.iloc[1][['f1_score', 'roc_auc_score', 'TN', 'FP', 'FN', 'TP']],\n",
    "        custom_means.iloc[1][['f1_score', 'roc_auc_score', 'TN', 'FP', 'FN', 'TP']],\n",
    "    ]\n",
    ").rename(\n",
    "    index={\n",
    "        'log_std': 'Logistic',\n",
    "        'dense_std': 'Dense',\n",
    "        'cnn_std': 'Convolutional',\n",
    "        'pretrained_std': 'Pretrained VGG16',\n",
    "        'custom_std': 'Custom',\n",
    "    }\n",
    ")\n",
    "all_test_imbalanced = pd.DataFrame(\n",
    "    [\n",
    "        log_test.iloc[0][['f1_score', 'roc_auc_score', 'TN', 'FP', 'FN', 'TP']],\n",
    "        dense_test.iloc[0][['f1_score', 'roc_auc_score', 'TN', 'FP', 'FN', 'TP']],\n",
    "        cnn_test.iloc[0][['f1_score', 'roc_auc_score', 'TN', 'FP', 'FN', 'TP']],\n",
    "        pretrained_test.iloc[0][['f1_score', 'roc_auc_score', 'TN', 'FP', 'FN', 'TP']],\n",
    "        custom_test.iloc[0][['f1_score', 'roc_auc_score', 'TN', 'FP', 'FN', 'TP']],\n",
    "    ]\n",
    ").rename(\n",
    "    index={\n",
    "        'log_test': 'Logistic',\n",
    "        'dense_test': 'Dense',\n",
    "        'cnn_test': 'Convolutional',\n",
    "        'pretrained_test': 'Pretrained VGG16',\n",
    "        'custom_test': 'Custom',\n",
    "    }\n",
    ")\n",
    "#display(all_means_imbalanced)\n",
    "display(all_test_imbalanced)\n",
    "display(all_std_imbalanced)"
   ]
  },
  {
   "cell_type": "markdown",
   "metadata": {},
   "source": [
    "### Output combined frame to latex"
   ]
  },
  {
   "cell_type": "code",
   "execution_count": 132,
   "metadata": {},
   "outputs": [
    {
     "name": "stdout",
     "output_type": "stream",
     "text": [
      "0 1 2 3 4\n"
     ]
    }
   ],
   "source": [
    "rows = all_test_imbalanced.index\n",
    "f1_auc_str_array = np.zeros((2, all_means_imbalanced.shape[0]), dtype=object)\n",
    "#auc_str_array = np.zeros((1, all_means.shape[0]), dtype=object)\n",
    "for i in range(all_test_imbalanced.shape[0]):\n",
    "    f1_auc_str_array[0, i] = r\"$\\underset{{\\num{{+- {:.3e} }}  }}{{\\num{{ {:.3g} }} }}$\".format(\n",
    "        all_std_pmod[\"f1_score\"][i], all_test_imbalanced[\"f1_score\"][i])\n",
    "    f1_auc_str_array[1, i] = r\"$\\underset{{\\num{{+- {:.3e} }}  }}{{\\num{{ {:.3g} }} }}$\".format(\n",
    "        all_std_pmod['roc_auc_score'][i], all_test_imbalanced['roc_auc_score'][i])\n",
    "        \n",
    "#f1_df = pd.DataFrame(f1_str_array, columns=rows)\n",
    "#auc_df = pd.DataFrame(auc_str_array, columns=rows)\n",
    "f1_auc_df = pd.DataFrame(f1_auc_str_array, columns=rows, index=['F1-score', 'AUC'])\n",
    "\n",
    "section_path = \"chapters/results/figures/\"\n",
    "fname = THESIS_PATH + section_path + \"classification_simulated_pixelmod_f1_auc.tex\"\n",
    "caption = \"\"\"\n",
    "Mean F1-scores and roc-auc scores for classification of simulated data with specific pixels\n",
    "modified, using multiple models trained on an imbalanced dataset. Error estimates are the \n",
    "standard deviation in results from k-fold cross-validation with $K=5$ folds.\n",
    "\"\"\"\n",
    "label = \"tab:classification-simulated-pixelmod-f1-auc\"\n",
    "with open(fname, \"w\") as fp:\n",
    "    pd.set_option('display.max_colwidth', -1)\n",
    "    f1_auc_df.to_latex(fp, escape=False, caption=caption, label=label, index=True)\n"
   ]
  },
  {
   "cell_type": "markdown",
   "metadata": {},
   "source": [
    "# Table for all f1 and auc values"
   ]
  },
  {
   "cell_type": "code",
   "execution_count": 134,
   "metadata": {},
   "outputs": [],
   "source": [
    "rows = all_test_imbalanced.index\n",
    "f1_auc_str_array_full = np.zeros((6, all_test_imbalanced.shape[0]), dtype=object)\n",
    "#auc_str_array = np.zeros((1, all_means.shape[0]), dtype=object)\n",
    "for i in range(f1_auc_str_array_full.shape[1]):\n",
    "    f1_auc_str_array_full[0, i] = r\"$\\underset{{\\num{{+- {:.3e} }}  }}{{\\num{{ {:.3g} }} }}$\".format(\n",
    "        all_std[\"f1_score\"][i], all_test[\"f1_score\"][i])\n",
    "    f1_auc_str_array_full[1, i] = r\"$\\underset{{\\num{{+- {:.3e} }}  }}{{\\num{{ {:.3g} }} }}$\".format(\n",
    "        all_std_pmod[\"f1_score\"][i], all_test_pmod[\"f1_score\"][i])\n",
    "    f1_auc_str_array_full[2, i] = r\"$\\underset{{\\num{{+- {:.3e} }}  }}{{\\num{{ {:.3g} }} }}$\".format(\n",
    "        all_std_imbalanced[\"f1_score\"][i], all_test_imbalanced[\"f1_score\"][i])\n",
    "    f1_auc_str_array_full[3, i] = r\"$\\underset{{\\num{{+- {:.3e} }}  }}{{\\num{{ {:.3g} }} }}$\".format(\n",
    "        all_std['roc_auc_score'][i], all_test['roc_auc_score'][i])\n",
    "    f1_auc_str_array_full[4, i] = r\"$\\underset{{\\num{{+- {:.3e} }}  }}{{\\num{{ {:.3g} }} }}$\".format(\n",
    "        all_std_pmod['roc_auc_score'][i], all_test_pmod['roc_auc_score'][i])\n",
    "    f1_auc_str_array_full[5, i] = r\"$\\underset{{\\num{{+- {:.3e} }}  }}{{\\num{{ {:.3g} }} }}$\".format(\n",
    "        all_std_imbalanced['roc_auc_score'][i], all_test_imbalanced['roc_auc_score'][i])\n",
    "        \n",
    "#f1_df = pd.DataFrame(f1_str_array, columns=rows)\n",
    "#auc_df = pd.DataFrame(auc_str_array, columns=rows)\n",
    "index_full = ['F1-score (a)', 'F1-score (b)', 'F1-score (c)', 'AUC (a)', 'AUC (b)', 'AUC (c)',]\n",
    "f1_auc_df_full = pd.DataFrame(f1_auc_str_array_full, columns=rows, index=index_full)\n",
    "\n",
    "section_path = \"chapters/results/figures/\"\n",
    "fname = THESIS_PATH + section_path + \"classification_simulated_all_f1_auc.tex\"\n",
    "caption = \"\"\"\n",
    "Test set F1-scores and roc-AUC scores for classification of simulated datausing multiple models.\n",
    "Models are trained on a) unmodified data, b) data where specific pixels are set to zero to mimic\n",
    "'dead' pixels in experimental data, and c) same as b) and imbalanced to mimic experimental data. \n",
    "Error estimates are the standard deviation in results from k-fold cross-validation with $K=5$ folds.\n",
    "\"\"\"\n",
    "label = \"tab:classification-simulated-all-f1-auc\"\n",
    "with open(fname, \"w\") as fp:\n",
    "    pd.set_option('display.max_colwidth', -1)\n",
    "    f1_auc_df_full.to_latex(fp, escape=False, caption=caption, label=label, index=True)\n"
   ]
  },
  {
   "cell_type": "markdown",
   "metadata": {},
   "source": [
    "# Confusion matrix for all the sets"
   ]
  },
  {
   "cell_type": "markdown",
   "metadata": {},
   "source": [
    "### Plot confusion matrix for both data variants in one grid"
   ]
  },
  {
   "cell_type": "code",
   "execution_count": 126,
   "metadata": {},
   "outputs": [
    {
     "data": {
      "image/png": "[encoded data removed]",
      "text/plain": [
       "<Figure size 864x576 with 5 Axes>"
      ]
     },
     "metadata": {
      "needs_background": "light"
     },
     "output_type": "display_data"
    }
   ],
   "source": [
    "##### cm_log = all_test.loc['Logistic'][2:].values\n",
    "cm_dense = all_test.loc['Dense'][2:].values\n",
    "cm_cnn = all_test.loc['Convolutional'][2:].values\n",
    "cm_pretrained = all_test.loc['Pretrained VGG16'][2:].values\n",
    "cm_custom = all_test.loc['Custom'][2:].values\n",
    "\n",
    "cm_log_pmod = all_test_pmod.loc['Logistic'][2:].values\n",
    "cm_dense_pmod = all_test_pmod.loc['Dense'][2:].values\n",
    "cm_cnn_pmod = all_test_pmod.loc['Convolutional'][2:].values\n",
    "cm_pretrained_pmod = all_test_pmod.loc['Pretrained VGG16'][2:].values\n",
    "cm_custom_pmod = all_test_pmod.loc['Custom'][2:].values\n",
    "\n",
    "cm_log_imbalanced = all_test_imbalanced.loc['Logistic'][2:].values\n",
    "cm_dense_imbalanced = all_test_imbalanced.loc['Dense'][2:].values\n",
    "cm_cnn_imbalanced = all_test_imbalanced.loc['Convolutional'][2:].values\n",
    "cm_pretrained_imbalanced = all_test_imbalanced.loc['Pretrained VGG16'][2:].values\n",
    "cm_custom_imbalanced = all_test_imbalanced.loc['Custom'][2:].values\n",
    "\n",
    "# Ratio calculations\n",
    "s_idx, d_idx, c_idx = event_indices(test_positions)\n",
    "tot_test = np.array([len(s_idx), len(d_idx), len(s_idx), len(d_idx)])\n",
    "#tot_test = test_images.shape[0]\n",
    "cm_log_rat = cm_log/tot_test\n",
    "cm_dense_rat = cm_dense/tot_test\n",
    "cm_cnn_rat = cm_cnn/tot_test\n",
    "cm_pretrained_rat = cm_pretrained/tot_test\n",
    "cm_custom_rat = cm_custom/tot_test\n",
    "\n",
    "cm_log_pmod_rat = cm_log_pmod/tot_test\n",
    "cm_dense_pmod_rat = cm_dense_pmod/tot_test\n",
    "cm_cnn_pmod_rat = cm_cnn_pmod/tot_test\n",
    "cm_pretrained_pmod_rat = cm_pretrained_pmod/tot_test\n",
    "cm_custom_pmod_rat = cm_custom_pmod/tot_test\n",
    "\n",
    "cm_log_imbalanced_rat = cm_log_imbalanced/tot_test\n",
    "cm_dense_imbalanced_rat = cm_dense_imbalanced/tot_test\n",
    "cm_cnn_imbalanced_rat = cm_cnn_imbalanced/tot_test\n",
    "cm_pretrained_imbalanced_rat = cm_pretrained_imbalanced/tot_test\n",
    "cm_custom_imbalanced_rat = cm_custom_imbalanced/tot_test\n",
    "\n",
    "# Strings with numbers to place in confusion matrix plots\n",
    "cm_log_tot = np.array([\"a) {:>5.0f}, {:<5.2f}\\nb) {:>5.0f}, {:<5.2f}\\nc) {:>5.0f}, {:<5.2f}\".format(\n",
    "    a1,a2,b1,b2,c1,c2) for a1,b1,c1,a2,b2,c2 in zip(\n",
    "    cm_log, cm_log_pmod, cm_log_imbalanced, cm_log_rat,cm_log_pmod_rat, cm_log_imbalanced_rat)]).reshape(2,2)\n",
    "cm_dense_tot = np.array([\"a) {:>5.0f}, {:<5.2f}\\nb) {:>5.0f}, {:<5.2f}\\nc) {:>5.0f}, {:<5.2f}\".format(\n",
    "    a1,a2,b1,b2,c1,c2) for a1,b1,c1,a2,b2,c2 in zip(\n",
    "    cm_dense, cm_dense_pmod, cm_dense_imbalanced, cm_dense_rat, cm_dense_pmod_rat, cm_dense_imbalanced_rat)]).reshape(2,2)\n",
    "cm_cnn_tot = np.array([\"a) {:>5.0f}, {:<5.2f}\\nb) {:>5.0f}, {:<5.2f}\\nc) {:>5.0f}, {:<5.2f}\".format(\n",
    "    a1,a2,b1,b2,c1,c2) for a1,b1,c1,a2,b2,c2 in zip(\n",
    "    cm_cnn, cm_cnn_pmod, cm_cnn_imbalanced, cm_cnn_rat, cm_cnn_pmod_rat, cm_cnn_imbalanced_rat)]).reshape(2,2)\n",
    "cm_pretrained_tot = np.array([\"a) {:>5.0f}, {:<5.2f}\\nb) {:>5.0f}, {:<5.2f}\\nc) {:>5.0f}, {:<5.2f}\".format(\n",
    "    a1,a2,b1,b2,c1,c2) for a1,b1,c1,a2,b2,c2 in zip(\n",
    "    cm_pretrained, cm_pretrained_pmod, cm_pretrained_imbalanced, cm_pretrained_rat, cm_pretrained_pmod_rat, cm_pretrained_imbalanced_rat)]).reshape(2,2)\n",
    "cm_custom_tot = np.array([\"a) {:>5.0f}, {:<5.2f}\\nb) {:>5.0f}, {:<5.2f}\\nc) {:>5.0f}, {:<5.2f}\".format(\n",
    "    a1,a2,b1,b2,c1,c2) for a1,b1,c1,a2,b2,c2 in zip(\n",
    "    cm_custom, cm_custom_pmod, cm_custom_imbalanced, cm_log_rat, cm_log_pmod_rat, cm_log_imbalanced_rat)]).reshape(2,2)\n",
    "\n",
    "# Actual plotting\n",
    "fig1 = plt.figure(figsize=(12,8))\n",
    "tlabs_y = ['True single', 'True double']\n",
    "tlabs_x = ['Single', 'Double']\n",
    "cmap = matplotlib.colors.ListedColormap([(1.0, 1.0, 1.0), (0.1, 0.3, 0.5)])\n",
    "ax1 = plt.subplot2grid(shape=(2,6), loc=(0,0), colspan=2, fig=fig1)\n",
    "ax2 = plt.subplot2grid((2,6), (0,2), colspan=2, fig=fig1)\n",
    "ax3 = plt.subplot2grid((2,6), (0,4), colspan=2, fig=fig1)\n",
    "ax4 = plt.subplot2grid((2,6), (1,1), colspan=2, fig=fig1)\n",
    "ax5 = plt.subplot2grid((2,6), (1,3), colspan=2, fig=fig1)\n",
    "sns.heatmap(cm_log.reshape(2,2), annot=cm_log_tot, square=True, cmap=cmap, fmt='',\n",
    "            xticklabels=tlabs_x, yticklabels=tlabs_y, cbar=False, ax=ax1)\n",
    "ax1.set_title(\"Logistic\")\n",
    "for s in ax1.spines.values(): s.set_visible(True) # Keep frame around subplots\n",
    "sns.heatmap(cm_dense.reshape(2,2), annot=cm_dense_tot, square=True, cmap=cmap, fmt='',\n",
    "            xticklabels=tlabs_x, yticklabels=tlabs_y, cbar=False, ax=ax2)\n",
    "ax2.set_title(\"Dense\")\n",
    "for s in ax2.spines.values(): s.set_visible(True) # Keep frame around subplots\n",
    "sns.heatmap(cm_cnn.reshape(2,2), annot=cm_cnn_tot, square=True, cmap=cmap, fmt='',\n",
    "            xticklabels=tlabs_x, yticklabels=tlabs_y, cbar=False, ax=ax3)\n",
    "ax3.set_title(\"Convolutional\")\n",
    "for s in ax3.spines.values(): s.set_visible(True) # Keep frame around subplots\n",
    "sns.heatmap(cm_pretrained.reshape(2,2), annot=cm_pretrained_tot, square=True, cmap=cmap, fmt='',\n",
    "            xticklabels=tlabs_x, yticklabels=tlabs_y, cbar=False, ax=ax4)\n",
    "ax4.set_title(\"Pretrained VGG16\")\n",
    "for s in ax4.spines.values(): s.set_visible(True) # Keep frame around subplots\n",
    "sns.heatmap(cm_custom.reshape(2,2), annot=cm_custom_tot, square=True, cmap=cmap, fmt='',\n",
    "            xticklabels=tlabs_x, yticklabels=tlabs_y, cbar=False, ax=ax5)\n",
    "ax5.set_title(\"Custom\")\n",
    "for s in ax5.spines.values(): s.set_visible(True) # Keep frame around subplots\n",
    "plt.savefig(THESIS_PATH + section_path + 'confmat_simulated.pdf')"
   ]
  },
  {
   "cell_type": "markdown",
   "metadata": {},
   "source": [
    "# Classifying experimental data and comparing with simulated data"
   ]
  }
 ],
 "metadata": {
  "kernelspec": {
   "display_name": "Python 3",
   "language": "python",
   "name": "python3"
  },
  "language_info": {
   "codemirror_mode": {
    "name": "ipython",
    "version": 3
   },
   "file_extension": ".py",
   "mimetype": "text/x-python",
   "name": "python",
   "nbconvert_exporter": "python",
   "pygments_lexer": "ipython3",
   "version": "3.8.5"
  }
 },
 "nbformat": 4,
 "nbformat_minor": 4
}
