{
 "cells": [
  {
   "cell_type": "code",
   "execution_count": 1,
   "metadata": {},
   "outputs": [],
   "source": [
    "# Module and data import\n",
    "import numpy as np\n",
    "import json\n",
    "import seaborn as sns\n",
    "import matplotlib.pyplot as plt\n",
    "import tensorflow as tf\n",
    "from sklearn.model_selection import train_test_split\n",
    "from master_scripts.data_functions import (get_git_root, separation_distance, energy_difference,\n",
    "                                           relative_energy, event_indices, normalize_image_data)\n",
    "from master_scripts.analysis_functions import (doubles_classification_stats, singles_classification_stats)\n",
    "from master_scripts.plotting import plot_roc_curve\n",
    "from sklearn.metrics import f1_score, roc_curve\n",
    "from sklearn.metrics import accuracy_score, precision_score, recall_score\n",
    "from tensorflow.keras import layers, losses\n",
    "from tensorflow.keras.models import Model\n",
    "%load_ext autoreload\n",
    "%autoreload 2\n",
    "repo_root = get_git_root()"
   ]
  },
  {
   "cell_type": "code",
   "execution_count": 2,
   "metadata": {},
   "outputs": [],
   "source": [
    "images = np.load(repo_root + \"data/simulated/images_200k.npy\")\n",
    "images = images.reshape(images.shape[0], 16, 16, 1)\n",
    "positions = np.load(repo_root + \"data/simulated/positions_200k.npy\")\n",
    "energies = np.load(repo_root + \"data/simulated/energies_200k.npy\")\n",
    "labels = np.load(repo_root + \"data/simulated/labels_200k.npy\")"
   ]
  },
  {
   "cell_type": "code",
   "execution_count": 3,
   "metadata": {},
   "outputs": [],
   "source": [
    "# Set indices for train and validation\n",
    "x_idx = np.arange(images.shape[0])\n",
    "train_idx, val_idx = train_test_split(\n",
    "    x_idx,\n",
    "    random_state=120\n",
    ")\n",
    "s_idx_train, d_idx_train, c_idx_train = event_indices(positions[train_idx])\n",
    "s_idx_val, d_idx_val, c_idx_val = event_indices(positions[val_idx])"
   ]
  },
  {
   "cell_type": "code",
   "execution_count": 4,
   "metadata": {},
   "outputs": [],
   "source": [
    "# This one is essentially a denoiser\n",
    "class ConvolutionalAutoEncoder(Model):\n",
    "  def __init__(self):\n",
    "    super(ConvolutionalAutoEncoder, self).__init__()\n",
    "    self.encoder = tf.keras.Sequential([\n",
    "      layers.Input(shape=(16, 16, 1)), \n",
    "      layers.Conv2D(16, (3,3), activation='relu', padding='same', strides=2),\n",
    "      layers.Conv2D(8, (3,3), activation='relu', padding='same', strides=2)])\n",
    "\n",
    "    self.decoder = tf.keras.Sequential([\n",
    "      layers.Conv2DTranspose(8, kernel_size=3, strides=2, activation='relu', padding='same'),\n",
    "      layers.Conv2DTranspose(16, kernel_size=3, strides=2, activation='relu', padding='same'),\n",
    "      layers.Conv2D(1, kernel_size=(3,3), activation='sigmoid', padding='same')])\n",
    "\n",
    "  def call(self, x):\n",
    "    encoded = self.encoder(x)\n",
    "    decoded = self.decoder(encoded)\n",
    "    return decoded"
   ]
  },
  {
   "cell_type": "code",
   "execution_count": 5,
   "metadata": {},
   "outputs": [],
   "source": [
    "autoencoder = ConvolutionalAutoEncoder()\n",
    "autoencoder.compile(optimizer='adam', loss=losses.MeanSquaredError())"
   ]
  },
  {
   "cell_type": "code",
   "execution_count": 6,
   "metadata": {},
   "outputs": [
    {
     "name": "stdout",
     "output_type": "stream",
     "text": [
      "Epoch 1/10\n",
      "2345/2345 [==============================] - 18s 8ms/step - loss: 0.0047 - val_loss: 0.0018\n",
      "Epoch 2/10\n",
      "2345/2345 [==============================] - 21s 9ms/step - loss: 0.0014 - val_loss: 0.0018\n",
      "Epoch 3/10\n",
      "2345/2345 [==============================] - 22s 9ms/step - loss: 0.0014 - val_loss: 0.0018\n",
      "Epoch 4/10\n",
      "2345/2345 [==============================] - 29s 12ms/step - loss: 4.0853e-04 - val_loss: 6.5280e-05\n",
      "Epoch 5/10\n",
      "2345/2345 [==============================] - 22s 9ms/step - loss: 2.5844e-05 - val_loss: 4.8359e-05\n",
      "Epoch 6/10\n",
      "2345/2345 [==============================] - 30s 13ms/step - loss: 1.6441e-05 - val_loss: 3.2176e-05\n",
      "Epoch 7/10\n",
      "2345/2345 [==============================] - 28s 12ms/step - loss: 1.2009e-05 - val_loss: 3.1833e-05\n",
      "Epoch 8/10\n",
      "2345/2345 [==============================] - 27s 11ms/step - loss: 9.3869e-06 - val_loss: 2.4035e-05\n",
      "Epoch 9/10\n",
      "2345/2345 [==============================] - 30s 13ms/step - loss: 7.8394e-06 - val_loss: 2.3367e-05\n",
      "Epoch 10/10\n",
      "2345/2345 [==============================] - 26s 11ms/step - loss: 6.8527e-06 - val_loss: 2.0615e-05\n"
     ]
    }
   ],
   "source": [
    "history = autoencoder.fit(\n",
    "    normalize_image_data(images[train_idx][s_idx_train]),\n",
    "    normalize_image_data(images[train_idx][s_idx_train]),\n",
    "    epochs=10,\n",
    "    shuffle=True,\n",
    "    validation_data=(normalize_image_data(images[val_idx]), normalize_image_data(images[val_idx]))\n",
    ")"
   ]
  },
  {
   "cell_type": "code",
   "execution_count": 7,
   "metadata": {},
   "outputs": [
    {
     "data": {
      "text/plain": [
       "<matplotlib.legend.Legend at 0x7f1b804a8730>"
      ]
     },
     "execution_count": 7,
     "metadata": {},
     "output_type": "execute_result"
    },
    {
     "data": {
      "image/png": "[encoded data removed]",
      "text/plain": [
       "<Figure size 432x288 with 1 Axes>"
      ]
     },
     "metadata": {
      "needs_background": "light"
     },
     "output_type": "display_data"
    }
   ],
   "source": [
    "plt.plot(history.history[\"loss\"], label=\"Training Loss\")\n",
    "plt.plot(history.history[\"val_loss\"], label=\"Validation Loss\")\n",
    "plt.legend()"
   ]
  },
  {
   "cell_type": "code",
   "execution_count": 9,
   "metadata": {},
   "outputs": [],
   "source": [
    "s_encoded_imgs = autoencoder.encoder(normalize_image_data(images[val_idx][s_idx_val])).numpy()\n",
    "s_decoded_imgs = autoencoder.decoder(s_encoded_imgs).numpy()\n",
    "d_encoded_imgs = autoencoder.encoder(normalize_image_data(images[val_idx][d_idx_val])).numpy()\n",
    "d_decoded_imgs = autoencoder.decoder(d_encoded_imgs).numpy()\n",
    "\n",
    "s_mse = np.mean(np.square(normalize_image_data(images[val_idx][s_idx_val]) - s_decoded_imgs), axis=(1,2))\n",
    "d_mse = np.mean(np.square(normalize_image_data(images[val_idx][d_idx_val]) - d_decoded_imgs), axis=(1,2))"
   ]
  },
  {
   "cell_type": "code",
   "execution_count": 18,
   "metadata": {},
   "outputs": [
    {
     "name": "stderr",
     "output_type": "stream",
     "text": [
      "/home/geir/.local/lib/python3.8/site-packages/seaborn/distributions.py:305: UserWarning: Dataset has 0 variance; skipping density estimate.\n",
      "  warnings.warn(msg, UserWarning)\n",
      "/home/geir/.local/lib/python3.8/site-packages/seaborn/distributions.py:305: UserWarning: Dataset has 0 variance; skipping density estimate.\n",
      "  warnings.warn(msg, UserWarning)\n"
     ]
    },
    {
     "data": {
      "image/png": "[encoded data removed]",
      "text/plain": [
       "<Figure size 864x432 with 1 Axes>"
      ]
     },
     "metadata": {
      "needs_background": "light"
     },
     "output_type": "display_data"
    }
   ],
   "source": [
    "fig, ax = plt.subplots(figsize=(12,6))\n",
    "sns.distplot(s_mse, label=\"singles\", ax=ax)\n",
    "sns.distplot(d_mse, label=\"doubles\", ax=ax)\n",
    "ax.legend()\n",
    "plt.show()"
   ]
  },
  {
   "cell_type": "code",
   "execution_count": null,
   "metadata": {},
   "outputs": [],
   "source": [
    "n = 10\n",
    "plt.figure(figsize=(30, 6))\n",
    "for i in range(n):\n",
    "\n",
    "    # display original + noise\n",
    "    ax = plt.subplot(2, n, i + 1)\n",
    "    plt.title(\"original\")\n",
    "    plt.imshow(tf.squeeze(images[val_idx][i]))\n",
    "    ax.get_xaxis().set_visible(False)\n",
    "    ax.get_yaxis().set_visible(False)\n",
    "\n",
    "    # display reconstruction\n",
    "    bx = plt.subplot(2, n, i + n + 1)\n",
    "    plt.title(\"reconstructed\")\n",
    "    plt.imshow(tf.squeeze(decoded_imgs[i]))\n",
    "    bx.get_xaxis().set_visible(False)\n",
    "    bx.get_yaxis().set_visible(False)\n",
    "plt.show()"
   ]
  }
 ],
 "metadata": {
  "kernelspec": {
   "display_name": "Python 3",
   "language": "python",
   "name": "python3"
  },
  "language_info": {
   "codemirror_mode": {
    "name": "ipython",
    "version": 3
   },
   "file_extension": ".py",
   "mimetype": "text/x-python",
   "name": "python",
   "nbconvert_exporter": "python",
   "pygments_lexer": "ipython3",
   "version": "3.8.5"
  }
 },
 "nbformat": 4,
 "nbformat_minor": 4
}
