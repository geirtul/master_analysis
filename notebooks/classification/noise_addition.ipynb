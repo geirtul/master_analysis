{
 "cells": [
  {
   "cell_type": "markdown",
   "metadata": {},
   "source": [
    "# Adding simulated energy fluctuations to simulated data\n",
    "In the experimental data we observe an energy fluctuation not present in the simulated data.\n",
    "We seek to improve the classification performance on simulated data by adding similar fluctuations \n",
    "to the simulated data before training."
   ]
  },
  {
   "cell_type": "code",
   "execution_count": 1,
   "metadata": {},
   "outputs": [],
   "source": [
    "# Module and data import\n",
    "import numpy as np\n",
    "import json\n",
    "import seaborn as sns\n",
    "import matplotlib.pyplot as plt\n",
    "import tensorflow as tf\n",
    "from scipy.stats import cauchy\n",
    "from sklearn.model_selection import train_test_split\n",
    "from master_scripts.data_functions import (load_experiment, get_git_root, separation_distance, energy_difference,\n",
    "                                           relative_energy, event_indices, normalize_image_data, import_real_data)\n",
    "from master_scripts.plotting import plot_roc_curve\n",
    "from sklearn.metrics import f1_score, roc_curve\n",
    "%load_ext autoreload\n",
    "%autoreload 2\n",
    "repo_root = get_git_root()\n",
    "FIG_PATH = repo_root + \"figures/\""
   ]
  },
  {
   "cell_type": "code",
   "execution_count": 82,
   "metadata": {},
   "outputs": [],
   "source": [
    "# Load sample data\n",
    "images = np.load(repo_root + \"data/sample/images_sample.npy\")\n",
    "positions = np.load(repo_root + \"data/sample/positions_sample.npy\")\n",
    "energies = np.load(repo_root + \"data/sample/energies_sample.npy\")\n",
    "labels = np.load(repo_root + \"data/sample/labels_sample.npy\")\n",
    "\n",
    "# Load simulated data\n",
    "#images = np.load(repo_root + \"data/simulated/images_full_pixelmod.npy\")\n",
    "#positions = np.load(repo_root + \"data/simulated/positions_full.npy\")\n",
    "#energies = np.load(repo_root + \"data/simulated/energies_full.npy\")\n",
    "#labels = np.load(repo_root + \"data/simulated/labels_full.npy\")\n",
    "\n",
    "# Indices for full data\n",
    "#s_idx, d_idx, c_idx = event_indices(positions)"
   ]
  },
  {
   "cell_type": "markdown",
   "metadata": {},
   "source": [
    "## Generating a 'suitable' distribution\n",
    "Define a PDF to sample from?"
   ]
  },
  {
   "cell_type": "code",
   "execution_count": 81,
   "metadata": {},
   "outputs": [
    {
     "data": {
      "text/plain": [
       "<matplotlib.axes._subplots.AxesSubplot at 0x7f807d23e100>"
      ]
     },
     "execution_count": 81,
     "metadata": {},
     "output_type": "execute_result"
    },
    {
     "data": {
      "image/png": "[encoded data removed]",
      "text/plain": [
       "<Figure size 432x288 with 1 Axes>"
      ]
     },
     "metadata": {
      "needs_background": "light"
     },
     "output_type": "display_data"
    }
   ],
   "source": [
    "# Approximating hration plot From Aaron\n",
    "d_mean = 1.25\n",
    "d_std = 0.8117\n",
    "d_size = 100000\n",
    "dist= np.random.default_rng().laplace(loc=d_mean, scale=d_std, size=d_size)\n",
    "sns.histplot(dist)"
   ]
  }
 ],
 "metadata": {
  "kernelspec": {
   "display_name": "Python 3",
   "language": "python",
   "name": "python3"
  },
  "language_info": {
   "codemirror_mode": {
    "name": "ipython",
    "version": 3
   },
   "file_extension": ".py",
   "mimetype": "text/x-python",
   "name": "python",
   "nbconvert_exporter": "python",
   "pygments_lexer": "ipython3",
   "version": "3.8.5"
  }
 },
 "nbformat": 4,
 "nbformat_minor": 4
}
